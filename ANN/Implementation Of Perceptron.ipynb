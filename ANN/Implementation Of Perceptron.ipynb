{
 "cells": [
  {
   "cell_type": "code",
   "execution_count": 1,
   "id": "1daa2e74",
   "metadata": {},
   "outputs": [
    {
     "name": "stdout",
     "output_type": "stream",
     "text": [
      "Accuracy: 100.00%\n",
      "Testing perceptron:\n",
      "Input: [0 0], Prediction: 0, Actual: 0\n",
      "Input: [0 1], Prediction: 0, Actual: 0\n",
      "Input: [1 0], Prediction: 0, Actual: 0\n",
      "Input: [1 1], Prediction: 1, Actual: 1\n"
     ]
    }
   ],
   "source": [
    "import numpy as np\n",
    "\n",
    "class Perceptron:\n",
    "    def __init__(self, input_size, learning_rate=0.01, epochs=1000):\n",
    "        self.weights = np.zeros(input_size)\n",
    "        self.bias = 0\n",
    "        self.learning_rate = learning_rate\n",
    "        self.epochs = epochs\n",
    "\n",
    "    def activation_function(self, x):\n",
    "        return 1 if x >= 0 else 0\n",
    "\n",
    "    def predict(self, x):\n",
    "        linear_output = np.dot(x, self.weights) + self.bias\n",
    "        return self.activation_function(linear_output)\n",
    "\n",
    "    def fit(self, X, y):\n",
    "        for _ in range(self.epochs):\n",
    "            for idx, x_i in enumerate(X):\n",
    "                prediction = self.predict(x_i)\n",
    "                error = y[idx] - prediction\n",
    "                self.weights += self.learning_rate * error * x_i\n",
    "                self.bias += self.learning_rate * error\n",
    "\n",
    "    def evaluate(self, X, y):\n",
    "        predictions = [self.predict(x) for x in X]\n",
    "        accuracy = np.mean(predictions == y)\n",
    "        return accuracy\n",
    "\n",
    "# Create a simple dataset\n",
    "# AND logic gate\n",
    "X = np.array([[0, 0],\n",
    "              [0, 1],\n",
    "              [1, 0],\n",
    "              [1, 1]])\n",
    "\n",
    "y = np.array([0, 0, 0, 1])  # AND gate output\n",
    "\n",
    "# Initialize and train perceptron\n",
    "perceptron = Perceptron(input_size=2)\n",
    "perceptron.fit(X, y)\n",
    "\n",
    "# Evaluate the model\n",
    "accuracy = perceptron.evaluate(X, y)\n",
    "print(f\"Accuracy: {accuracy * 100:.2f}%\")\n",
    "\n",
    "# Test the perceptron\n",
    "print(\"Testing perceptron:\")\n",
    "for x, label in zip(X, y):\n",
    "    prediction = perceptron.predict(x)\n",
    "    print(f\"Input: {x}, Prediction: {prediction}, Actual: {label}\")\n"
   ]
  },
  {
   "cell_type": "code",
   "execution_count": 2,
   "id": "6895d307",
   "metadata": {},
   "outputs": [
    {
     "name": "stdout",
     "output_type": "stream",
     "text": [
      "Input: [0 0], Target: 0, Prediction: 0\n",
      "Input: [0 1], Target: 0, Prediction: 0\n",
      "Input: [1 0], Target: 0, Prediction: 0\n",
      "Input: [1 1], Target: 1, Prediction: 1\n"
     ]
    }
   ],
   "source": [
    "import numpy as np\n",
    "\n",
    "class Perceptron:\n",
    "    def __init__(self, input_size, learning_rate=0.1):\n",
    "        self.weights = np.random.rand(input_size) - 0.5\n",
    "        self.bias = 0\n",
    "        self.learning_rate = learning_rate\n",
    "\n",
    "    def activation(self, x):\n",
    "        return 1 if x >= 0 else 0\n",
    "\n",
    "    def predict(self, x):\n",
    "        z = np.dot(self.weights, x) + self.bias\n",
    "        return self.activation(z)\n",
    "\n",
    "    def train(self, X, y, epochs):\n",
    "        for epoch in range(epochs):\n",
    "            for i in range(len(X)):\n",
    "                prediction = self.predict(X[i])\n",
    "                error = y[i] - prediction\n",
    "                self.weights += self.learning_rate * error * X[i]\n",
    "                self.bias += self.learning_rate * error\n",
    "\n",
    "# Example usage\n",
    "X = np.array([[0, 0], [0, 1], [1, 0], [1, 1]])\n",
    "y = np.array([0, 0, 0, 1])  # AND gate\n",
    "\n",
    "perceptron = Perceptron(input_size=2)\n",
    "perceptron.train(X, y, epochs=100)\n",
    "\n",
    "for x, target in zip(X, y):\n",
    "    prediction = perceptron.predict(x)\n",
    "    print(f\"Input: {x}, Target: {target}, Prediction: {prediction}\")\n"
   ]
  },
  {
   "cell_type": "code",
   "execution_count": 3,
   "id": "f8dac04a",
   "metadata": {},
   "outputs": [
    {
     "name": "stdout",
     "output_type": "stream",
     "text": [
      "Input: [0 0], Target: 0, Prediction: 0\n",
      "Input: [0 1], Target: 0, Prediction: 0\n",
      "Input: [1 0], Target: 0, Prediction: 0\n",
      "Input: [1 1], Target: 1, Prediction: 1\n"
     ]
    }
   ],
   "source": [
    "import numpy as np\n",
    "\n",
    "class Perceptron:\n",
    "    def __init__(self, input_size, learning_rate=0.1):\n",
    "        # Initialize weights randomly between -0.5 and 0.5\n",
    "        self.weights = np.random.rand(input_size) - 0.5\n",
    "        self.bias = 0  # Initial bias\n",
    "        self.learning_rate = learning_rate\n",
    "\n",
    "    def activation(self, x):\n",
    "        return 1 if x >= 0 else 0\n",
    "\n",
    "    def predict(self, inputs):\n",
    "        summation = np.dot(self.weights, inputs) + self.bias\n",
    "        return self.activation(summation)\n",
    "\n",
    "    def train(self, inputs, targets, epochs):\n",
    "        for epoch in range(epochs):\n",
    "            for i in range(len(inputs)):\n",
    "                prediction = self.predict(inputs[i])\n",
    "                error = targets[i] - prediction\n",
    "                self.weights += self.learning_rate * error * inputs[i]\n",
    "                self.bias += self.learning_rate * error\n",
    "\n",
    "# Example usage\n",
    "def main():\n",
    "    inputs = np.array([[0, 0], [0, 1], [1, 0], [1, 1]])\n",
    "    targets = np.array([0, 0, 0, 1])  # AND gate\n",
    "\n",
    "    perceptron = Perceptron(input_size=2)\n",
    "    perceptron.train(inputs, targets, epochs=100)\n",
    "\n",
    "    for x, target in zip(inputs, targets):\n",
    "        prediction = perceptron.predict(x)\n",
    "        print(f\"Input: {x}, Target: {target}, Prediction: {prediction}\")\n",
    "\n",
    "if __name__ == \"__main__\":\n",
    "    main()\n"
   ]
  },
  {
   "cell_type": "code",
   "execution_count": null,
   "id": "77e63d01",
   "metadata": {},
   "outputs": [],
   "source": []
  }
 ],
 "metadata": {
  "kernelspec": {
   "display_name": "Python 3 (ipykernel)",
   "language": "python",
   "name": "python3"
  },
  "language_info": {
   "codemirror_mode": {
    "name": "ipython",
    "version": 3
   },
   "file_extension": ".py",
   "mimetype": "text/x-python",
   "name": "python",
   "nbconvert_exporter": "python",
   "pygments_lexer": "ipython3",
   "version": "3.11.4"
  }
 },
 "nbformat": 4,
 "nbformat_minor": 5
}
