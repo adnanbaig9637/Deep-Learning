{
 "cells": [
  {
   "cell_type": "code",
   "execution_count": 1,
   "id": "4c8a4813",
   "metadata": {},
   "outputs": [],
   "source": [
    "#!pip install tensorflow\n",
    "#!pip install keras\n",
    "\n",
    "import tensorflow\n",
    "import keras as k\n",
    "\n",
    "#Helps to create logical structure\n",
    "#Helps to create sequential logical structure\n",
    "from keras.models import Sequential\n",
    "\n",
    "#It contain all layers for ANN CNN Arch\n",
    "from keras.layers import InputLayer, Dense\n",
    "#Dense can be act as either HL or OL\n",
    "\n",
    "from keras.optimizers import SGD\n",
    "\n",
    "\n",
    "import pandas\n",
    "import numpy\n",
    "import matplotlib.pyplot as plt\n",
    "\n",
    "\n",
    "import sklearn\n",
    "\n"
   ]
  },
  {
   "cell_type": "markdown",
   "id": "39cfdeb9",
   "metadata": {},
   "source": [
    "**Object:- Object having lots of method and attributes**"
   ]
  },
  {
   "cell_type": "markdown",
   "id": "74918eb1",
   "metadata": {},
   "source": [
    "**--There are three stages to create a Deep Learning architechture--**\n",
    "* **1. Create a Logical Structure give names as Vanilla ANN:- Whenever you are creating your own ANN with your own number of hidden layes and neurons is called as VANNILA ANN.**\n",
    "* **2. Compile your Logical Structure:- Here you will decide what loss function you will use. and You will decide type of optimizer you will use. and You will decide what metric you will use to find training loss.**\n",
    "* **3. Training:- It will do forward propogation, Bakward propogation.**"
   ]
  },
  {
   "cell_type": "markdown",
   "id": "942b1e9b",
   "metadata": {},
   "source": [
    "### VANILLA LOGICAL STRUCTURE CREATION"
   ]
  },
  {
   "cell_type": "code",
   "execution_count": 2,
   "id": "eaa2496c",
   "metadata": {},
   "outputs": [],
   "source": [
    "#VANILLA LOGICAL STRUCTURE CREATION\n",
    "\n",
    "#Model Selection\n",
    "model = Sequential()\n",
    "\n",
    "#Input Layer Selection 5--features present in dataset\n",
    "model.add(InputLayer(shape=(5,)))\n",
    "\n",
    "#Hidden Layer Selection \n",
    "#units--no of neurons in hidden layer\n",
    "#activation--activation function name(sigmoid/tanh/liner/identity)\n",
    "#Inputs are 5 and HL Neuron are 4 so the connections are 5*4=20\n",
    "#Use bias --- each and every neoron uses bias or not\n",
    "model.add(Dense(units=4, activation='sigmoid', use_bias=True))\n",
    "\n",
    "#Another second HL with 6 neurons\n",
    "# first HL Neuron are 4 and  second HL Neuron are 6  so the connections are 6*4=24\n",
    "model.add(Dense(units=6, activation='sigmoid', use_bias=True))\n",
    "\n",
    "#Output Layer\n",
    "#In Regression output layer should have only one neuron\n",
    "#identity function can be written as 'linear'\n",
    "model.add(Dense(units=1, activation='linear', use_bias=True))\n",
    "\n",
    "\n",
    "#When we are creating logical structure,all the weights and bias will be Randomly Initiated automatically, and all the connection automatically made."
   ]
  },
  {
   "cell_type": "code",
   "execution_count": 3,
   "id": "3ed06d53",
   "metadata": {},
   "outputs": [
    {
     "data": {
      "text/html": [
       "<pre style=\"white-space:pre;overflow-x:auto;line-height:normal;font-family:Menlo,'DejaVu Sans Mono',consolas,'Courier New',monospace\"><span style=\"font-weight: bold\">Model: \"sequential\"</span>\n",
       "</pre>\n"
      ],
      "text/plain": [
       "\u001b[1mModel: \"sequential\"\u001b[0m\n"
      ]
     },
     "metadata": {},
     "output_type": "display_data"
    },
    {
     "data": {
      "text/html": [
       "<pre style=\"white-space:pre;overflow-x:auto;line-height:normal;font-family:Menlo,'DejaVu Sans Mono',consolas,'Courier New',monospace\">┏━━━━━━━━━━━━━━━━━━━━━━━━━━━━━━━━━━━━━━┳━━━━━━━━━━━━━━━━━━━━━━━━━━━━━┳━━━━━━━━━━━━━━━━━┓\n",
       "┃<span style=\"font-weight: bold\"> Layer (type)                         </span>┃<span style=\"font-weight: bold\"> Output Shape                </span>┃<span style=\"font-weight: bold\">         Param # </span>┃\n",
       "┡━━━━━━━━━━━━━━━━━━━━━━━━━━━━━━━━━━━━━━╇━━━━━━━━━━━━━━━━━━━━━━━━━━━━━╇━━━━━━━━━━━━━━━━━┩\n",
       "│ dense (<span style=\"color: #0087ff; text-decoration-color: #0087ff\">Dense</span>)                        │ (<span style=\"color: #00d7ff; text-decoration-color: #00d7ff\">None</span>, <span style=\"color: #00af00; text-decoration-color: #00af00\">4</span>)                   │              <span style=\"color: #00af00; text-decoration-color: #00af00\">24</span> │\n",
       "├──────────────────────────────────────┼─────────────────────────────┼─────────────────┤\n",
       "│ dense_1 (<span style=\"color: #0087ff; text-decoration-color: #0087ff\">Dense</span>)                      │ (<span style=\"color: #00d7ff; text-decoration-color: #00d7ff\">None</span>, <span style=\"color: #00af00; text-decoration-color: #00af00\">6</span>)                   │              <span style=\"color: #00af00; text-decoration-color: #00af00\">30</span> │\n",
       "├──────────────────────────────────────┼─────────────────────────────┼─────────────────┤\n",
       "│ dense_2 (<span style=\"color: #0087ff; text-decoration-color: #0087ff\">Dense</span>)                      │ (<span style=\"color: #00d7ff; text-decoration-color: #00d7ff\">None</span>, <span style=\"color: #00af00; text-decoration-color: #00af00\">1</span>)                   │               <span style=\"color: #00af00; text-decoration-color: #00af00\">7</span> │\n",
       "└──────────────────────────────────────┴─────────────────────────────┴─────────────────┘\n",
       "</pre>\n"
      ],
      "text/plain": [
       "┏━━━━━━━━━━━━━━━━━━━━━━━━━━━━━━━━━━━━━━┳━━━━━━━━━━━━━━━━━━━━━━━━━━━━━┳━━━━━━━━━━━━━━━━━┓\n",
       "┃\u001b[1m \u001b[0m\u001b[1mLayer (type)                        \u001b[0m\u001b[1m \u001b[0m┃\u001b[1m \u001b[0m\u001b[1mOutput Shape               \u001b[0m\u001b[1m \u001b[0m┃\u001b[1m \u001b[0m\u001b[1m        Param #\u001b[0m\u001b[1m \u001b[0m┃\n",
       "┡━━━━━━━━━━━━━━━━━━━━━━━━━━━━━━━━━━━━━━╇━━━━━━━━━━━━━━━━━━━━━━━━━━━━━╇━━━━━━━━━━━━━━━━━┩\n",
       "│ dense (\u001b[38;5;33mDense\u001b[0m)                        │ (\u001b[38;5;45mNone\u001b[0m, \u001b[38;5;34m4\u001b[0m)                   │              \u001b[38;5;34m24\u001b[0m │\n",
       "├──────────────────────────────────────┼─────────────────────────────┼─────────────────┤\n",
       "│ dense_1 (\u001b[38;5;33mDense\u001b[0m)                      │ (\u001b[38;5;45mNone\u001b[0m, \u001b[38;5;34m6\u001b[0m)                   │              \u001b[38;5;34m30\u001b[0m │\n",
       "├──────────────────────────────────────┼─────────────────────────────┼─────────────────┤\n",
       "│ dense_2 (\u001b[38;5;33mDense\u001b[0m)                      │ (\u001b[38;5;45mNone\u001b[0m, \u001b[38;5;34m1\u001b[0m)                   │               \u001b[38;5;34m7\u001b[0m │\n",
       "└──────────────────────────────────────┴─────────────────────────────┴─────────────────┘\n"
      ]
     },
     "metadata": {},
     "output_type": "display_data"
    },
    {
     "data": {
      "text/html": [
       "<pre style=\"white-space:pre;overflow-x:auto;line-height:normal;font-family:Menlo,'DejaVu Sans Mono',consolas,'Courier New',monospace\"><span style=\"font-weight: bold\"> Total params: </span><span style=\"color: #00af00; text-decoration-color: #00af00\">61</span> (244.00 B)\n",
       "</pre>\n"
      ],
      "text/plain": [
       "\u001b[1m Total params: \u001b[0m\u001b[38;5;34m61\u001b[0m (244.00 B)\n"
      ]
     },
     "metadata": {},
     "output_type": "display_data"
    },
    {
     "data": {
      "text/html": [
       "<pre style=\"white-space:pre;overflow-x:auto;line-height:normal;font-family:Menlo,'DejaVu Sans Mono',consolas,'Courier New',monospace\"><span style=\"font-weight: bold\"> Trainable params: </span><span style=\"color: #00af00; text-decoration-color: #00af00\">61</span> (244.00 B)\n",
       "</pre>\n"
      ],
      "text/plain": [
       "\u001b[1m Trainable params: \u001b[0m\u001b[38;5;34m61\u001b[0m (244.00 B)\n"
      ]
     },
     "metadata": {},
     "output_type": "display_data"
    },
    {
     "data": {
      "text/html": [
       "<pre style=\"white-space:pre;overflow-x:auto;line-height:normal;font-family:Menlo,'DejaVu Sans Mono',consolas,'Courier New',monospace\"><span style=\"font-weight: bold\"> Non-trainable params: </span><span style=\"color: #00af00; text-decoration-color: #00af00\">0</span> (0.00 B)\n",
       "</pre>\n"
      ],
      "text/plain": [
       "\u001b[1m Non-trainable params: \u001b[0m\u001b[38;5;34m0\u001b[0m (0.00 B)\n"
      ]
     },
     "metadata": {},
     "output_type": "display_data"
    }
   ],
   "source": [
    "#Complete summary of the model\n",
    "model.summary()"
   ]
  },
  {
   "cell_type": "code",
   "execution_count": 4,
   "id": "e277d471",
   "metadata": {},
   "outputs": [],
   "source": [
    "model = Sequential()\n",
    "\n",
    "model.add(InputLayer(shape=(5,)))\n",
    "\n",
    "model.add(Dense(units=7,activation='sigmoid',use_bias=True))\n",
    "\n",
    "model.add(Dense(units=8, activation='sigmoid',use_bias=True))\n",
    "\n",
    "model.add(Dense(units=1,activation= 'linear',use_bias=True))"
   ]
  },
  {
   "cell_type": "code",
   "execution_count": 5,
   "id": "a6e3d6d5",
   "metadata": {},
   "outputs": [
    {
     "data": {
      "text/html": [
       "<pre style=\"white-space:pre;overflow-x:auto;line-height:normal;font-family:Menlo,'DejaVu Sans Mono',consolas,'Courier New',monospace\"><span style=\"font-weight: bold\">Model: \"sequential_1\"</span>\n",
       "</pre>\n"
      ],
      "text/plain": [
       "\u001b[1mModel: \"sequential_1\"\u001b[0m\n"
      ]
     },
     "metadata": {},
     "output_type": "display_data"
    },
    {
     "data": {
      "text/html": [
       "<pre style=\"white-space:pre;overflow-x:auto;line-height:normal;font-family:Menlo,'DejaVu Sans Mono',consolas,'Courier New',monospace\">┏━━━━━━━━━━━━━━━━━━━━━━━━━━━━━━━━━━━━━━┳━━━━━━━━━━━━━━━━━━━━━━━━━━━━━┳━━━━━━━━━━━━━━━━━┓\n",
       "┃<span style=\"font-weight: bold\"> Layer (type)                         </span>┃<span style=\"font-weight: bold\"> Output Shape                </span>┃<span style=\"font-weight: bold\">         Param # </span>┃\n",
       "┡━━━━━━━━━━━━━━━━━━━━━━━━━━━━━━━━━━━━━━╇━━━━━━━━━━━━━━━━━━━━━━━━━━━━━╇━━━━━━━━━━━━━━━━━┩\n",
       "│ dense_3 (<span style=\"color: #0087ff; text-decoration-color: #0087ff\">Dense</span>)                      │ (<span style=\"color: #00d7ff; text-decoration-color: #00d7ff\">None</span>, <span style=\"color: #00af00; text-decoration-color: #00af00\">7</span>)                   │              <span style=\"color: #00af00; text-decoration-color: #00af00\">42</span> │\n",
       "├──────────────────────────────────────┼─────────────────────────────┼─────────────────┤\n",
       "│ dense_4 (<span style=\"color: #0087ff; text-decoration-color: #0087ff\">Dense</span>)                      │ (<span style=\"color: #00d7ff; text-decoration-color: #00d7ff\">None</span>, <span style=\"color: #00af00; text-decoration-color: #00af00\">8</span>)                   │              <span style=\"color: #00af00; text-decoration-color: #00af00\">64</span> │\n",
       "├──────────────────────────────────────┼─────────────────────────────┼─────────────────┤\n",
       "│ dense_5 (<span style=\"color: #0087ff; text-decoration-color: #0087ff\">Dense</span>)                      │ (<span style=\"color: #00d7ff; text-decoration-color: #00d7ff\">None</span>, <span style=\"color: #00af00; text-decoration-color: #00af00\">1</span>)                   │               <span style=\"color: #00af00; text-decoration-color: #00af00\">9</span> │\n",
       "└──────────────────────────────────────┴─────────────────────────────┴─────────────────┘\n",
       "</pre>\n"
      ],
      "text/plain": [
       "┏━━━━━━━━━━━━━━━━━━━━━━━━━━━━━━━━━━━━━━┳━━━━━━━━━━━━━━━━━━━━━━━━━━━━━┳━━━━━━━━━━━━━━━━━┓\n",
       "┃\u001b[1m \u001b[0m\u001b[1mLayer (type)                        \u001b[0m\u001b[1m \u001b[0m┃\u001b[1m \u001b[0m\u001b[1mOutput Shape               \u001b[0m\u001b[1m \u001b[0m┃\u001b[1m \u001b[0m\u001b[1m        Param #\u001b[0m\u001b[1m \u001b[0m┃\n",
       "┡━━━━━━━━━━━━━━━━━━━━━━━━━━━━━━━━━━━━━━╇━━━━━━━━━━━━━━━━━━━━━━━━━━━━━╇━━━━━━━━━━━━━━━━━┩\n",
       "│ dense_3 (\u001b[38;5;33mDense\u001b[0m)                      │ (\u001b[38;5;45mNone\u001b[0m, \u001b[38;5;34m7\u001b[0m)                   │              \u001b[38;5;34m42\u001b[0m │\n",
       "├──────────────────────────────────────┼─────────────────────────────┼─────────────────┤\n",
       "│ dense_4 (\u001b[38;5;33mDense\u001b[0m)                      │ (\u001b[38;5;45mNone\u001b[0m, \u001b[38;5;34m8\u001b[0m)                   │              \u001b[38;5;34m64\u001b[0m │\n",
       "├──────────────────────────────────────┼─────────────────────────────┼─────────────────┤\n",
       "│ dense_5 (\u001b[38;5;33mDense\u001b[0m)                      │ (\u001b[38;5;45mNone\u001b[0m, \u001b[38;5;34m1\u001b[0m)                   │               \u001b[38;5;34m9\u001b[0m │\n",
       "└──────────────────────────────────────┴─────────────────────────────┴─────────────────┘\n"
      ]
     },
     "metadata": {},
     "output_type": "display_data"
    },
    {
     "data": {
      "text/html": [
       "<pre style=\"white-space:pre;overflow-x:auto;line-height:normal;font-family:Menlo,'DejaVu Sans Mono',consolas,'Courier New',monospace\"><span style=\"font-weight: bold\"> Total params: </span><span style=\"color: #00af00; text-decoration-color: #00af00\">115</span> (460.00 B)\n",
       "</pre>\n"
      ],
      "text/plain": [
       "\u001b[1m Total params: \u001b[0m\u001b[38;5;34m115\u001b[0m (460.00 B)\n"
      ]
     },
     "metadata": {},
     "output_type": "display_data"
    },
    {
     "data": {
      "text/html": [
       "<pre style=\"white-space:pre;overflow-x:auto;line-height:normal;font-family:Menlo,'DejaVu Sans Mono',consolas,'Courier New',monospace\"><span style=\"font-weight: bold\"> Trainable params: </span><span style=\"color: #00af00; text-decoration-color: #00af00\">115</span> (460.00 B)\n",
       "</pre>\n"
      ],
      "text/plain": [
       "\u001b[1m Trainable params: \u001b[0m\u001b[38;5;34m115\u001b[0m (460.00 B)\n"
      ]
     },
     "metadata": {},
     "output_type": "display_data"
    },
    {
     "data": {
      "text/html": [
       "<pre style=\"white-space:pre;overflow-x:auto;line-height:normal;font-family:Menlo,'DejaVu Sans Mono',consolas,'Courier New',monospace\"><span style=\"font-weight: bold\"> Non-trainable params: </span><span style=\"color: #00af00; text-decoration-color: #00af00\">0</span> (0.00 B)\n",
       "</pre>\n"
      ],
      "text/plain": [
       "\u001b[1m Non-trainable params: \u001b[0m\u001b[38;5;34m0\u001b[0m (0.00 B)\n"
      ]
     },
     "metadata": {},
     "output_type": "display_data"
    }
   ],
   "source": [
    "model.summary()"
   ]
  },
  {
   "cell_type": "code",
   "execution_count": 6,
   "id": "d6cd6bb3",
   "metadata": {},
   "outputs": [],
   "source": [
    "model = Sequential()\n",
    "\n",
    "model.add(InputLayer(shape=(6,)))\n",
    "\n",
    "model.add(Dense(units=9,activation='sigmoid',use_bias=True))\n",
    "\n",
    "model.add(Dense(units=1, activation='linear',use_bias=True))"
   ]
  },
  {
   "cell_type": "code",
   "execution_count": 7,
   "id": "20ee4df8",
   "metadata": {},
   "outputs": [
    {
     "data": {
      "text/html": [
       "<pre style=\"white-space:pre;overflow-x:auto;line-height:normal;font-family:Menlo,'DejaVu Sans Mono',consolas,'Courier New',monospace\"><span style=\"font-weight: bold\">Model: \"sequential_2\"</span>\n",
       "</pre>\n"
      ],
      "text/plain": [
       "\u001b[1mModel: \"sequential_2\"\u001b[0m\n"
      ]
     },
     "metadata": {},
     "output_type": "display_data"
    },
    {
     "data": {
      "text/html": [
       "<pre style=\"white-space:pre;overflow-x:auto;line-height:normal;font-family:Menlo,'DejaVu Sans Mono',consolas,'Courier New',monospace\">┏━━━━━━━━━━━━━━━━━━━━━━━━━━━━━━━━━━━━━━┳━━━━━━━━━━━━━━━━━━━━━━━━━━━━━┳━━━━━━━━━━━━━━━━━┓\n",
       "┃<span style=\"font-weight: bold\"> Layer (type)                         </span>┃<span style=\"font-weight: bold\"> Output Shape                </span>┃<span style=\"font-weight: bold\">         Param # </span>┃\n",
       "┡━━━━━━━━━━━━━━━━━━━━━━━━━━━━━━━━━━━━━━╇━━━━━━━━━━━━━━━━━━━━━━━━━━━━━╇━━━━━━━━━━━━━━━━━┩\n",
       "│ dense_6 (<span style=\"color: #0087ff; text-decoration-color: #0087ff\">Dense</span>)                      │ (<span style=\"color: #00d7ff; text-decoration-color: #00d7ff\">None</span>, <span style=\"color: #00af00; text-decoration-color: #00af00\">9</span>)                   │              <span style=\"color: #00af00; text-decoration-color: #00af00\">63</span> │\n",
       "├──────────────────────────────────────┼─────────────────────────────┼─────────────────┤\n",
       "│ dense_7 (<span style=\"color: #0087ff; text-decoration-color: #0087ff\">Dense</span>)                      │ (<span style=\"color: #00d7ff; text-decoration-color: #00d7ff\">None</span>, <span style=\"color: #00af00; text-decoration-color: #00af00\">1</span>)                   │              <span style=\"color: #00af00; text-decoration-color: #00af00\">10</span> │\n",
       "└──────────────────────────────────────┴─────────────────────────────┴─────────────────┘\n",
       "</pre>\n"
      ],
      "text/plain": [
       "┏━━━━━━━━━━━━━━━━━━━━━━━━━━━━━━━━━━━━━━┳━━━━━━━━━━━━━━━━━━━━━━━━━━━━━┳━━━━━━━━━━━━━━━━━┓\n",
       "┃\u001b[1m \u001b[0m\u001b[1mLayer (type)                        \u001b[0m\u001b[1m \u001b[0m┃\u001b[1m \u001b[0m\u001b[1mOutput Shape               \u001b[0m\u001b[1m \u001b[0m┃\u001b[1m \u001b[0m\u001b[1m        Param #\u001b[0m\u001b[1m \u001b[0m┃\n",
       "┡━━━━━━━━━━━━━━━━━━━━━━━━━━━━━━━━━━━━━━╇━━━━━━━━━━━━━━━━━━━━━━━━━━━━━╇━━━━━━━━━━━━━━━━━┩\n",
       "│ dense_6 (\u001b[38;5;33mDense\u001b[0m)                      │ (\u001b[38;5;45mNone\u001b[0m, \u001b[38;5;34m9\u001b[0m)                   │              \u001b[38;5;34m63\u001b[0m │\n",
       "├──────────────────────────────────────┼─────────────────────────────┼─────────────────┤\n",
       "│ dense_7 (\u001b[38;5;33mDense\u001b[0m)                      │ (\u001b[38;5;45mNone\u001b[0m, \u001b[38;5;34m1\u001b[0m)                   │              \u001b[38;5;34m10\u001b[0m │\n",
       "└──────────────────────────────────────┴─────────────────────────────┴─────────────────┘\n"
      ]
     },
     "metadata": {},
     "output_type": "display_data"
    },
    {
     "data": {
      "text/html": [
       "<pre style=\"white-space:pre;overflow-x:auto;line-height:normal;font-family:Menlo,'DejaVu Sans Mono',consolas,'Courier New',monospace\"><span style=\"font-weight: bold\"> Total params: </span><span style=\"color: #00af00; text-decoration-color: #00af00\">73</span> (292.00 B)\n",
       "</pre>\n"
      ],
      "text/plain": [
       "\u001b[1m Total params: \u001b[0m\u001b[38;5;34m73\u001b[0m (292.00 B)\n"
      ]
     },
     "metadata": {},
     "output_type": "display_data"
    },
    {
     "data": {
      "text/html": [
       "<pre style=\"white-space:pre;overflow-x:auto;line-height:normal;font-family:Menlo,'DejaVu Sans Mono',consolas,'Courier New',monospace\"><span style=\"font-weight: bold\"> Trainable params: </span><span style=\"color: #00af00; text-decoration-color: #00af00\">73</span> (292.00 B)\n",
       "</pre>\n"
      ],
      "text/plain": [
       "\u001b[1m Trainable params: \u001b[0m\u001b[38;5;34m73\u001b[0m (292.00 B)\n"
      ]
     },
     "metadata": {},
     "output_type": "display_data"
    },
    {
     "data": {
      "text/html": [
       "<pre style=\"white-space:pre;overflow-x:auto;line-height:normal;font-family:Menlo,'DejaVu Sans Mono',consolas,'Courier New',monospace\"><span style=\"font-weight: bold\"> Non-trainable params: </span><span style=\"color: #00af00; text-decoration-color: #00af00\">0</span> (0.00 B)\n",
       "</pre>\n"
      ],
      "text/plain": [
       "\u001b[1m Non-trainable params: \u001b[0m\u001b[38;5;34m0\u001b[0m (0.00 B)\n"
      ]
     },
     "metadata": {},
     "output_type": "display_data"
    }
   ],
   "source": [
    "model.summary()"
   ]
  },
  {
   "cell_type": "markdown",
   "id": "118c4336",
   "metadata": {},
   "source": [
    "### Compiling your Logical Structure"
   ]
  },
  {
   "cell_type": "code",
   "execution_count": 8,
   "id": "9c672254",
   "metadata": {},
   "outputs": [],
   "source": [
    "#Drawback of SGD is there is constant learning rate, we cannot change\n",
    "#T change we are importing optimizer SGD and creating object of a class\n",
    "sgd = SGD(learning_rate=0.001)"
   ]
  },
  {
   "cell_type": "code",
   "execution_count": 9,
   "id": "66aaeabf",
   "metadata": {},
   "outputs": [],
   "source": [
    "#If we dont want to change anything in SGD we can go by this approach, but above is good practice.\n",
    "\n",
    "model.compile(optimizer=sgd, loss= 'mean_squared_error' )"
   ]
  },
  {
   "cell_type": "markdown",
   "id": "f28c5f9a",
   "metadata": {},
   "source": [
    "#### For small dataset use GD\n",
    "#### For Large dataset use MSGD"
   ]
  },
  {
   "cell_type": "markdown",
   "id": "6660a4c8",
   "metadata": {},
   "source": [
    "### Training"
   ]
  },
  {
   "cell_type": "code",
   "execution_count": 10,
   "id": "a6945d24",
   "metadata": {},
   "outputs": [
    {
     "ename": "SyntaxError",
     "evalue": "invalid syntax (2599410659.py, line 5)",
     "output_type": "error",
     "traceback": [
      "\u001b[1;36m  Cell \u001b[1;32mIn[10], line 5\u001b[1;36m\u001b[0m\n\u001b[1;33m    model.fit(x_train,y_train, batch_size=)\u001b[0m\n\u001b[1;37m                                          ^\u001b[0m\n\u001b[1;31mSyntaxError\u001b[0m\u001b[1;31m:\u001b[0m invalid syntax\n"
     ]
    }
   ],
   "source": [
    "#If Batcsize= 1 , It will select only data points and perform forward and backward propogation and we will get one Output at one time. Apok will be 1\n",
    "#If batchsize=10, It will randomly select 10 data points and perform FOR BACKW propogation and you will get 10 output,Apok will be 10\n",
    "#If batchsize=100, Apok will be 1\n",
    "\n",
    "model.fit(x_train,y_train, batch_size=)\n"
   ]
  },
  {
   "cell_type": "code",
   "execution_count": null,
   "id": "a3fbe00d",
   "metadata": {},
   "outputs": [],
   "source": []
  },
  {
   "cell_type": "code",
   "execution_count": null,
   "id": "ab379b68",
   "metadata": {},
   "outputs": [],
   "source": []
  },
  {
   "cell_type": "markdown",
   "id": "2593e8c4",
   "metadata": {},
   "source": [
    "### Working on a DATASET"
   ]
  },
  {
   "cell_type": "code",
   "execution_count": 11,
   "id": "36dd332c",
   "metadata": {},
   "outputs": [],
   "source": [
    "import pandas\n",
    "import numpy\n",
    "import matplotlib.pyplot as plt\n",
    "\n",
    "import sklearn\n",
    "from sklearn.datasets import make_regression\n",
    "from sklearn.model_selection import train_test_split\n",
    "from sklearn.preprocessing import StandardScaler\n",
    "\n",
    "\n",
    "\n",
    "import tensorflow\n",
    "import keras as k\n",
    "\n",
    "#Helps to create logical structure\n",
    "#Helps to create sequential logical structure\n",
    "from keras.models import Sequential\n",
    "\n",
    "#It contain all layers for ANN CNN Arch\n",
    "from keras.layers import InputLayer, Dense\n",
    "#Dense can be act as either HL or OL\n",
    "\n",
    "from keras.optimizers import SGD"
   ]
  },
  {
   "cell_type": "markdown",
   "id": "550fabe1",
   "metadata": {},
   "source": [
    "**1. Creating Dataset**"
   ]
  },
  {
   "cell_type": "code",
   "execution_count": 12,
   "id": "da017a7b",
   "metadata": {},
   "outputs": [],
   "source": [
    "#fv-feature variable, cv-class variable\n",
    "fv, cv = make_regression(n_samples=2000, n_features=5, random_state=10)"
   ]
  },
  {
   "cell_type": "code",
   "execution_count": 13,
   "id": "d72cfbd3",
   "metadata": {},
   "outputs": [
    {
     "data": {
      "text/plain": [
       "(2000, 5)"
      ]
     },
     "execution_count": 13,
     "metadata": {},
     "output_type": "execute_result"
    }
   ],
   "source": [
    " fv.shape"
   ]
  },
  {
   "cell_type": "code",
   "execution_count": 14,
   "id": "c335aedf",
   "metadata": {},
   "outputs": [
    {
     "data": {
      "text/plain": [
       "(2000,)"
      ]
     },
     "execution_count": 14,
     "metadata": {},
     "output_type": "execute_result"
    }
   ],
   "source": [
    "cv.shape"
   ]
  },
  {
   "cell_type": "markdown",
   "id": "532e426f",
   "metadata": {},
   "source": [
    "**Whenever you have negative values in yi dont use means_quared_logirathmic_error, use mean_sq_err or mean_abs_err, becz Logirithm may cause infinite value for negative and zeros.**"
   ]
  },
  {
   "cell_type": "code",
   "execution_count": 15,
   "id": "f2217efb",
   "metadata": {},
   "outputs": [],
   "source": [
    "X_train, X_test, y_train, y_test = train_test_split(fv, cv, test_size=0.2, random_state=10)"
   ]
  },
  {
   "cell_type": "code",
   "execution_count": 16,
   "id": "b8e09a6a",
   "metadata": {},
   "outputs": [
    {
     "data": {
      "text/plain": [
       "(1600, 5)"
      ]
     },
     "execution_count": 16,
     "metadata": {},
     "output_type": "execute_result"
    }
   ],
   "source": [
    "X_train.shape"
   ]
  },
  {
   "cell_type": "markdown",
   "id": "2e60fa3c",
   "metadata": {},
   "source": [
    "**ANN / CNN / RNN is distance based DL, our duty to make out data standardized for same scale becz pf wights**)"
   ]
  },
  {
   "cell_type": "code",
   "execution_count": 17,
   "id": "8d75dbc2",
   "metadata": {},
   "outputs": [],
   "source": [
    "std = StandardScaler()\n",
    "\n",
    "X_train = std.fit_transform(X_train)\n",
    "X_test = std.transform(X_test)"
   ]
  },
  {
   "cell_type": "markdown",
   "id": "5ada7581",
   "metadata": {},
   "source": [
    "**2. Logical Structure**"
   ]
  },
  {
   "cell_type": "code",
   "execution_count": 18,
   "id": "99dce3f2",
   "metadata": {},
   "outputs": [
    {
     "data": {
      "text/plain": [
       "(1600, 5)"
      ]
     },
     "execution_count": 18,
     "metadata": {},
     "output_type": "execute_result"
    }
   ],
   "source": [
    "X_train.shape"
   ]
  },
  {
   "cell_type": "code",
   "execution_count": 19,
   "id": "72b0ccff",
   "metadata": {},
   "outputs": [],
   "source": [
    "model = Sequential()\n",
    "\n",
    "\n",
    "model.add(InputLayer(shape = (5,)))\n",
    "\n",
    "model.add(Dense(units=4, activation='sigmoid', use_bias=True))\n",
    "\n",
    "model.add(Dense(units=6, activation='sigmoid', use_bias=True))\n",
    "\n",
    "model.add(Dense(units=1, activation='linear', use_bias=True))"
   ]
  },
  {
   "cell_type": "code",
   "execution_count": 20,
   "id": "9a9357af",
   "metadata": {},
   "outputs": [
    {
     "data": {
      "text/html": [
       "<pre style=\"white-space:pre;overflow-x:auto;line-height:normal;font-family:Menlo,'DejaVu Sans Mono',consolas,'Courier New',monospace\"><span style=\"font-weight: bold\">Model: \"sequential_3\"</span>\n",
       "</pre>\n"
      ],
      "text/plain": [
       "\u001b[1mModel: \"sequential_3\"\u001b[0m\n"
      ]
     },
     "metadata": {},
     "output_type": "display_data"
    },
    {
     "data": {
      "text/html": [
       "<pre style=\"white-space:pre;overflow-x:auto;line-height:normal;font-family:Menlo,'DejaVu Sans Mono',consolas,'Courier New',monospace\">┏━━━━━━━━━━━━━━━━━━━━━━━━━━━━━━━━━━━━━━┳━━━━━━━━━━━━━━━━━━━━━━━━━━━━━┳━━━━━━━━━━━━━━━━━┓\n",
       "┃<span style=\"font-weight: bold\"> Layer (type)                         </span>┃<span style=\"font-weight: bold\"> Output Shape                </span>┃<span style=\"font-weight: bold\">         Param # </span>┃\n",
       "┡━━━━━━━━━━━━━━━━━━━━━━━━━━━━━━━━━━━━━━╇━━━━━━━━━━━━━━━━━━━━━━━━━━━━━╇━━━━━━━━━━━━━━━━━┩\n",
       "│ dense_8 (<span style=\"color: #0087ff; text-decoration-color: #0087ff\">Dense</span>)                      │ (<span style=\"color: #00d7ff; text-decoration-color: #00d7ff\">None</span>, <span style=\"color: #00af00; text-decoration-color: #00af00\">4</span>)                   │              <span style=\"color: #00af00; text-decoration-color: #00af00\">24</span> │\n",
       "├──────────────────────────────────────┼─────────────────────────────┼─────────────────┤\n",
       "│ dense_9 (<span style=\"color: #0087ff; text-decoration-color: #0087ff\">Dense</span>)                      │ (<span style=\"color: #00d7ff; text-decoration-color: #00d7ff\">None</span>, <span style=\"color: #00af00; text-decoration-color: #00af00\">6</span>)                   │              <span style=\"color: #00af00; text-decoration-color: #00af00\">30</span> │\n",
       "├──────────────────────────────────────┼─────────────────────────────┼─────────────────┤\n",
       "│ dense_10 (<span style=\"color: #0087ff; text-decoration-color: #0087ff\">Dense</span>)                     │ (<span style=\"color: #00d7ff; text-decoration-color: #00d7ff\">None</span>, <span style=\"color: #00af00; text-decoration-color: #00af00\">1</span>)                   │               <span style=\"color: #00af00; text-decoration-color: #00af00\">7</span> │\n",
       "└──────────────────────────────────────┴─────────────────────────────┴─────────────────┘\n",
       "</pre>\n"
      ],
      "text/plain": [
       "┏━━━━━━━━━━━━━━━━━━━━━━━━━━━━━━━━━━━━━━┳━━━━━━━━━━━━━━━━━━━━━━━━━━━━━┳━━━━━━━━━━━━━━━━━┓\n",
       "┃\u001b[1m \u001b[0m\u001b[1mLayer (type)                        \u001b[0m\u001b[1m \u001b[0m┃\u001b[1m \u001b[0m\u001b[1mOutput Shape               \u001b[0m\u001b[1m \u001b[0m┃\u001b[1m \u001b[0m\u001b[1m        Param #\u001b[0m\u001b[1m \u001b[0m┃\n",
       "┡━━━━━━━━━━━━━━━━━━━━━━━━━━━━━━━━━━━━━━╇━━━━━━━━━━━━━━━━━━━━━━━━━━━━━╇━━━━━━━━━━━━━━━━━┩\n",
       "│ dense_8 (\u001b[38;5;33mDense\u001b[0m)                      │ (\u001b[38;5;45mNone\u001b[0m, \u001b[38;5;34m4\u001b[0m)                   │              \u001b[38;5;34m24\u001b[0m │\n",
       "├──────────────────────────────────────┼─────────────────────────────┼─────────────────┤\n",
       "│ dense_9 (\u001b[38;5;33mDense\u001b[0m)                      │ (\u001b[38;5;45mNone\u001b[0m, \u001b[38;5;34m6\u001b[0m)                   │              \u001b[38;5;34m30\u001b[0m │\n",
       "├──────────────────────────────────────┼─────────────────────────────┼─────────────────┤\n",
       "│ dense_10 (\u001b[38;5;33mDense\u001b[0m)                     │ (\u001b[38;5;45mNone\u001b[0m, \u001b[38;5;34m1\u001b[0m)                   │               \u001b[38;5;34m7\u001b[0m │\n",
       "└──────────────────────────────────────┴─────────────────────────────┴─────────────────┘\n"
      ]
     },
     "metadata": {},
     "output_type": "display_data"
    },
    {
     "data": {
      "text/html": [
       "<pre style=\"white-space:pre;overflow-x:auto;line-height:normal;font-family:Menlo,'DejaVu Sans Mono',consolas,'Courier New',monospace\"><span style=\"font-weight: bold\"> Total params: </span><span style=\"color: #00af00; text-decoration-color: #00af00\">61</span> (244.00 B)\n",
       "</pre>\n"
      ],
      "text/plain": [
       "\u001b[1m Total params: \u001b[0m\u001b[38;5;34m61\u001b[0m (244.00 B)\n"
      ]
     },
     "metadata": {},
     "output_type": "display_data"
    },
    {
     "data": {
      "text/html": [
       "<pre style=\"white-space:pre;overflow-x:auto;line-height:normal;font-family:Menlo,'DejaVu Sans Mono',consolas,'Courier New',monospace\"><span style=\"font-weight: bold\"> Trainable params: </span><span style=\"color: #00af00; text-decoration-color: #00af00\">61</span> (244.00 B)\n",
       "</pre>\n"
      ],
      "text/plain": [
       "\u001b[1m Trainable params: \u001b[0m\u001b[38;5;34m61\u001b[0m (244.00 B)\n"
      ]
     },
     "metadata": {},
     "output_type": "display_data"
    },
    {
     "data": {
      "text/html": [
       "<pre style=\"white-space:pre;overflow-x:auto;line-height:normal;font-family:Menlo,'DejaVu Sans Mono',consolas,'Courier New',monospace\"><span style=\"font-weight: bold\"> Non-trainable params: </span><span style=\"color: #00af00; text-decoration-color: #00af00\">0</span> (0.00 B)\n",
       "</pre>\n"
      ],
      "text/plain": [
       "\u001b[1m Non-trainable params: \u001b[0m\u001b[38;5;34m0\u001b[0m (0.00 B)\n"
      ]
     },
     "metadata": {},
     "output_type": "display_data"
    }
   ],
   "source": [
    "model.summary()"
   ]
  },
  {
   "cell_type": "markdown",
   "id": "1e7c317e",
   "metadata": {},
   "source": [
    "**3. Compiling and Training**"
   ]
  },
  {
   "cell_type": "code",
   "execution_count": 21,
   "id": "139f1197",
   "metadata": {},
   "outputs": [
    {
     "name": "stdout",
     "output_type": "stream",
     "text": [
      "Epoch 1/2\n",
      "\u001b[1m1/1\u001b[0m \u001b[32m━━━━━━━━━━━━━━━━━━━━\u001b[0m\u001b[37m\u001b[0m \u001b[1m1s\u001b[0m 529ms/step - loss: 20492.5430\n",
      "Epoch 2/2\n",
      "\u001b[1m1/1\u001b[0m \u001b[32m━━━━━━━━━━━━━━━━━━━━\u001b[0m\u001b[37m\u001b[0m \u001b[1m0s\u001b[0m 60ms/step - loss: 20491.6777\n"
     ]
    },
    {
     "data": {
      "text/plain": [
       "<keras.src.callbacks.history.History at 0x2089f04aa50>"
      ]
     },
     "execution_count": 21,
     "metadata": {},
     "output_type": "execute_result"
    }
   ],
   "source": [
    "#Whenever you have negative values in yi dont use means_quared_logirathmic_error, use mean_sq_err or mean_abs_err, becz Logirithm may cause infinite value for negative and zeros.In this we have negatives yi thats wh we are uing means_squared_error.\n",
    "\n",
    "sgd = SGD(learning_rate=0.001)\n",
    "\n",
    "model.compile(optimizer=sgd, loss = 'mean_squared_error')\n",
    "\n",
    "model.fit(X_train, y_train, batch_size=1600, epochs=2)\n",
    "\n",
    "#Each iteration taking 204 milisecond"
   ]
  },
  {
   "cell_type": "code",
   "execution_count": 22,
   "id": "af61e429",
   "metadata": {},
   "outputs": [
    {
     "name": "stdout",
     "output_type": "stream",
     "text": [
      "Epoch 1/20\n",
      "\u001b[1m160/160\u001b[0m \u001b[32m━━━━━━━━━━━━━━━━━━━━\u001b[0m\u001b[37m\u001b[0m \u001b[1m1s\u001b[0m 2ms/step - loss: 21121.7734\n",
      "Epoch 2/20\n",
      "\u001b[1m160/160\u001b[0m \u001b[32m━━━━━━━━━━━━━━━━━━━━\u001b[0m\u001b[37m\u001b[0m \u001b[1m0s\u001b[0m 2ms/step - loss: 15434.4590\n",
      "Epoch 3/20\n",
      "\u001b[1m160/160\u001b[0m \u001b[32m━━━━━━━━━━━━━━━━━━━━\u001b[0m\u001b[37m\u001b[0m \u001b[1m0s\u001b[0m 2ms/step - loss: 10937.8477\n",
      "Epoch 4/20\n",
      "\u001b[1m160/160\u001b[0m \u001b[32m━━━━━━━━━━━━━━━━━━━━\u001b[0m\u001b[37m\u001b[0m \u001b[1m0s\u001b[0m 2ms/step - loss: 7625.3340\n",
      "Epoch 5/20\n",
      "\u001b[1m160/160\u001b[0m \u001b[32m━━━━━━━━━━━━━━━━━━━━\u001b[0m\u001b[37m\u001b[0m \u001b[1m0s\u001b[0m 2ms/step - loss: 5550.5552\n",
      "Epoch 6/20\n",
      "\u001b[1m160/160\u001b[0m \u001b[32m━━━━━━━━━━━━━━━━━━━━\u001b[0m\u001b[37m\u001b[0m \u001b[1m0s\u001b[0m 2ms/step - loss: 4161.2319\n",
      "Epoch 7/20\n",
      "\u001b[1m160/160\u001b[0m \u001b[32m━━━━━━━━━━━━━━━━━━━━\u001b[0m\u001b[37m\u001b[0m \u001b[1m0s\u001b[0m 2ms/step - loss: 3717.1240\n",
      "Epoch 8/20\n",
      "\u001b[1m160/160\u001b[0m \u001b[32m━━━━━━━━━━━━━━━━━━━━\u001b[0m\u001b[37m\u001b[0m \u001b[1m0s\u001b[0m 2ms/step - loss: 2824.6101\n",
      "Epoch 9/20\n",
      "\u001b[1m160/160\u001b[0m \u001b[32m━━━━━━━━━━━━━━━━━━━━\u001b[0m\u001b[37m\u001b[0m \u001b[1m0s\u001b[0m 2ms/step - loss: 2916.5166\n",
      "Epoch 10/20\n",
      "\u001b[1m160/160\u001b[0m \u001b[32m━━━━━━━━━━━━━━━━━━━━\u001b[0m\u001b[37m\u001b[0m \u001b[1m0s\u001b[0m 2ms/step - loss: 2480.9026\n",
      "Epoch 11/20\n",
      "\u001b[1m160/160\u001b[0m \u001b[32m━━━━━━━━━━━━━━━━━━━━\u001b[0m\u001b[37m\u001b[0m \u001b[1m1s\u001b[0m 3ms/step - loss: 2291.2527\n",
      "Epoch 12/20\n",
      "\u001b[1m160/160\u001b[0m \u001b[32m━━━━━━━━━━━━━━━━━━━━\u001b[0m\u001b[37m\u001b[0m \u001b[1m0s\u001b[0m 2ms/step - loss: 1940.9729\n",
      "Epoch 13/20\n",
      "\u001b[1m160/160\u001b[0m \u001b[32m━━━━━━━━━━━━━━━━━━━━\u001b[0m\u001b[37m\u001b[0m \u001b[1m0s\u001b[0m 2ms/step - loss: 1650.4065\n",
      "Epoch 14/20\n",
      "\u001b[1m160/160\u001b[0m \u001b[32m━━━━━━━━━━━━━━━━━━━━\u001b[0m\u001b[37m\u001b[0m \u001b[1m0s\u001b[0m 2ms/step - loss: 1348.3730\n",
      "Epoch 15/20\n",
      "\u001b[1m160/160\u001b[0m \u001b[32m━━━━━━━━━━━━━━━━━━━━\u001b[0m\u001b[37m\u001b[0m \u001b[1m0s\u001b[0m 3ms/step - loss: 1550.7637\n",
      "Epoch 16/20\n",
      "\u001b[1m160/160\u001b[0m \u001b[32m━━━━━━━━━━━━━━━━━━━━\u001b[0m\u001b[37m\u001b[0m \u001b[1m0s\u001b[0m 3ms/step - loss: 1293.2880\n",
      "Epoch 17/20\n",
      "\u001b[1m160/160\u001b[0m \u001b[32m━━━━━━━━━━━━━━━━━━━━\u001b[0m\u001b[37m\u001b[0m \u001b[1m0s\u001b[0m 2ms/step - loss: 1404.2966\n",
      "Epoch 18/20\n",
      "\u001b[1m160/160\u001b[0m \u001b[32m━━━━━━━━━━━━━━━━━━━━\u001b[0m\u001b[37m\u001b[0m \u001b[1m0s\u001b[0m 2ms/step - loss: 1203.0634\n",
      "Epoch 19/20\n",
      "\u001b[1m160/160\u001b[0m \u001b[32m━━━━━━━━━━━━━━━━━━━━\u001b[0m\u001b[37m\u001b[0m \u001b[1m0s\u001b[0m 2ms/step - loss: 973.9929\n",
      "Epoch 20/20\n",
      "\u001b[1m160/160\u001b[0m \u001b[32m━━━━━━━━━━━━━━━━━━━━\u001b[0m\u001b[37m\u001b[0m \u001b[1m0s\u001b[0m 2ms/step - loss: 1038.1176\n"
     ]
    },
    {
     "data": {
      "text/plain": [
       "<keras.src.callbacks.history.History at 0x2089f66c410>"
      ]
     },
     "execution_count": 22,
     "metadata": {},
     "output_type": "execute_result"
    }
   ],
   "source": [
    "#Whenever you have negative values in yi dont use means_quared_logirathmic_error, use mean_sq_err or mean_abs_err, becz Logirithm may cause infinite value for negative and zeros.In this we have negatives yi thats wh we are uing means_squared_error.\n",
    "\n",
    "sgd = SGD(learning_rate=0.001)\n",
    "\n",
    "model.compile(optimizer=sgd, loss = 'mean_squared_error')\n",
    "\n",
    "model.fit(X_train, y_train, batch_size=10, epochs=20)\n",
    "\n",
    "#Loss is decreasing , it means model is improving "
   ]
  },
  {
   "cell_type": "code",
   "execution_count": 23,
   "id": "3eaeec32",
   "metadata": {},
   "outputs": [
    {
     "name": "stdout",
     "output_type": "stream",
     "text": [
      "Epoch 1/10\n",
      "\u001b[1m128/128\u001b[0m \u001b[32m━━━━━━━━━━━━━━━━━━━━\u001b[0m\u001b[37m\u001b[0m \u001b[1m1s\u001b[0m 5ms/step - loss: 806.0923 - val_loss: 827.2311\n",
      "Epoch 2/10\n",
      "\u001b[1m128/128\u001b[0m \u001b[32m━━━━━━━━━━━━━━━━━━━━\u001b[0m\u001b[37m\u001b[0m \u001b[1m0s\u001b[0m 3ms/step - loss: 878.5110 - val_loss: 792.7600\n",
      "Epoch 3/10\n",
      "\u001b[1m128/128\u001b[0m \u001b[32m━━━━━━━━━━━━━━━━━━━━\u001b[0m\u001b[37m\u001b[0m \u001b[1m0s\u001b[0m 3ms/step - loss: 914.3693 - val_loss: 759.8646\n",
      "Epoch 4/10\n",
      "\u001b[1m128/128\u001b[0m \u001b[32m━━━━━━━━━━━━━━━━━━━━\u001b[0m\u001b[37m\u001b[0m \u001b[1m0s\u001b[0m 3ms/step - loss: 947.3466 - val_loss: 704.3082\n",
      "Epoch 5/10\n",
      "\u001b[1m128/128\u001b[0m \u001b[32m━━━━━━━━━━━━━━━━━━━━\u001b[0m\u001b[37m\u001b[0m \u001b[1m1s\u001b[0m 4ms/step - loss: 695.8139 - val_loss: 864.4059\n",
      "Epoch 6/10\n",
      "\u001b[1m128/128\u001b[0m \u001b[32m━━━━━━━━━━━━━━━━━━━━\u001b[0m\u001b[37m\u001b[0m \u001b[1m1s\u001b[0m 4ms/step - loss: 949.2441 - val_loss: 783.9932\n",
      "Epoch 7/10\n",
      "\u001b[1m128/128\u001b[0m \u001b[32m━━━━━━━━━━━━━━━━━━━━\u001b[0m\u001b[37m\u001b[0m \u001b[1m0s\u001b[0m 3ms/step - loss: 760.0529 - val_loss: 628.6960\n",
      "Epoch 8/10\n",
      "\u001b[1m128/128\u001b[0m \u001b[32m━━━━━━━━━━━━━━━━━━━━\u001b[0m\u001b[37m\u001b[0m \u001b[1m0s\u001b[0m 3ms/step - loss: 819.5779 - val_loss: 717.6253\n",
      "Epoch 9/10\n",
      "\u001b[1m128/128\u001b[0m \u001b[32m━━━━━━━━━━━━━━━━━━━━\u001b[0m\u001b[37m\u001b[0m \u001b[1m0s\u001b[0m 3ms/step - loss: 566.7222 - val_loss: 573.9446\n",
      "Epoch 10/10\n",
      "\u001b[1m128/128\u001b[0m \u001b[32m━━━━━━━━━━━━━━━━━━━━\u001b[0m\u001b[37m\u001b[0m \u001b[1m1s\u001b[0m 4ms/step - loss: 638.1485 - val_loss: 696.0088\n"
     ]
    },
    {
     "data": {
      "text/plain": [
       "<keras.src.callbacks.history.History at 0x2089f69d390>"
      ]
     },
     "execution_count": 23,
     "metadata": {},
     "output_type": "execute_result"
    }
   ],
   "source": [
    "#Whenever you have negative values in yi dont use means_quared_logirathmic_error, use mean_sq_err or mean_abs_err, becz Logirithm may cause infinite value for negative and zeros.In this we have negatives yi thats wh we are uing means_squared_error.\n",
    "\n",
    "sgd = SGD(learning_rate=0.001)\n",
    "\n",
    "model.compile(optimizer=sgd, loss = 'mean_squared_error')\n",
    "#loss = 'mean_squared_error' is used for backward propogation\n",
    "\n",
    "model.fit(X_train, y_train, batch_size=10, epochs=10, validation_split=0.2)\n",
    "#Validation_split = Out of 1600 datapoints, 20% data will send to validation to find validation loss\n",
    "\n",
    "#Loss is decreasing , it means model is improving "
   ]
  },
  {
   "cell_type": "code",
   "execution_count": 28,
   "id": "e7182923",
   "metadata": {},
   "outputs": [
    {
     "name": "stdout",
     "output_type": "stream",
     "text": [
      "Epoch 1/10\n",
      "\u001b[1m128/128\u001b[0m \u001b[32m━━━━━━━━━━━━━━━━━━━━\u001b[0m\u001b[37m\u001b[0m \u001b[1m2s\u001b[0m 5ms/step - loss: 744.5016 - r2_score: 0.9638 - val_loss: 1191.7994 - val_r2_score: 0.9415\n",
      "Epoch 2/10\n",
      "\u001b[1m128/128\u001b[0m \u001b[32m━━━━━━━━━━━━━━━━━━━━\u001b[0m\u001b[37m\u001b[0m \u001b[1m1s\u001b[0m 4ms/step - loss: 849.5652 - r2_score: 0.9584 - val_loss: 544.4301 - val_r2_score: 0.9733\n",
      "Epoch 3/10\n",
      "\u001b[1m128/128\u001b[0m \u001b[32m━━━━━━━━━━━━━━━━━━━━\u001b[0m\u001b[37m\u001b[0m \u001b[1m1s\u001b[0m 4ms/step - loss: 326.7689 - r2_score: 0.9837 - val_loss: 466.7929 - val_r2_score: 0.9771\n",
      "Epoch 4/10\n",
      "\u001b[1m128/128\u001b[0m \u001b[32m━━━━━━━━━━━━━━━━━━━━\u001b[0m\u001b[37m\u001b[0m \u001b[1m0s\u001b[0m 2ms/step - loss: 399.7782 - r2_score: 0.9818 - val_loss: 466.0025 - val_r2_score: 0.9771\n",
      "Epoch 5/10\n",
      "\u001b[1m128/128\u001b[0m \u001b[32m━━━━━━━━━━━━━━━━━━━━\u001b[0m\u001b[37m\u001b[0m \u001b[1m1s\u001b[0m 4ms/step - loss: 640.0600 - r2_score: 0.9710 - val_loss: 367.1639 - val_r2_score: 0.9820\n",
      "Epoch 6/10\n",
      "\u001b[1m128/128\u001b[0m \u001b[32m━━━━━━━━━━━━━━━━━━━━\u001b[0m\u001b[37m\u001b[0m \u001b[1m1s\u001b[0m 4ms/step - loss: 300.0022 - r2_score: 0.9851 - val_loss: 301.5831 - val_r2_score: 0.9852\n",
      "Epoch 7/10\n",
      "\u001b[1m128/128\u001b[0m \u001b[32m━━━━━━━━━━━━━━━━━━━━\u001b[0m\u001b[37m\u001b[0m \u001b[1m1s\u001b[0m 3ms/step - loss: 409.6276 - r2_score: 0.9799 - val_loss: 275.7620 - val_r2_score: 0.9865\n",
      "Epoch 8/10\n",
      "\u001b[1m128/128\u001b[0m \u001b[32m━━━━━━━━━━━━━━━━━━━━\u001b[0m\u001b[37m\u001b[0m \u001b[1m0s\u001b[0m 3ms/step - loss: 287.5558 - r2_score: 0.9858 - val_loss: 244.3632 - val_r2_score: 0.9880\n",
      "Epoch 9/10\n",
      "\u001b[1m128/128\u001b[0m \u001b[32m━━━━━━━━━━━━━━━━━━━━\u001b[0m\u001b[37m\u001b[0m \u001b[1m0s\u001b[0m 3ms/step - loss: 467.9585 - r2_score: 0.9769 - val_loss: 236.2181 - val_r2_score: 0.9884\n",
      "Epoch 10/10\n",
      "\u001b[1m128/128\u001b[0m \u001b[32m━━━━━━━━━━━━━━━━━━━━\u001b[0m\u001b[37m\u001b[0m \u001b[1m1s\u001b[0m 4ms/step - loss: 354.6139 - r2_score: 0.9829 - val_loss: 242.3880 - val_r2_score: 0.9881\n"
     ]
    },
    {
     "data": {
      "text/plain": [
       "<keras.src.callbacks.history.History at 0x208a415c6d0>"
      ]
     },
     "execution_count": 28,
     "metadata": {},
     "output_type": "execute_result"
    }
   ],
   "source": [
    "sgd = SGD(learning_rate=0.001)\n",
    "\n",
    "model.compile(optimizer=sgd, loss = 'mean_squared_error', metrics=['r2_score'])\n",
    "\n",
    "model.fit(X_train, y_train, batch_size=10, epochs=10, validation_split=0.2)"
   ]
  },
  {
   "cell_type": "code",
   "execution_count": 29,
   "id": "9fa2d044",
   "metadata": {},
   "outputs": [
    {
     "name": "stdout",
     "output_type": "stream",
     "text": [
      "Epoch 1/10\n",
      "\u001b[1m128/128\u001b[0m \u001b[32m━━━━━━━━━━━━━━━━━━━━\u001b[0m\u001b[37m\u001b[0m \u001b[1m1s\u001b[0m 4ms/step - loss: 322.5540 - r2_score: 0.9837 - val_loss: 489.4314 - val_r2_score: 0.9760\n",
      "Epoch 2/10\n",
      "\u001b[1m128/128\u001b[0m \u001b[32m━━━━━━━━━━━━━━━━━━━━\u001b[0m\u001b[37m\u001b[0m \u001b[1m1s\u001b[0m 4ms/step - loss: 578.1198 - r2_score: 0.9675 - val_loss: 295.4617 - val_r2_score: 0.9855\n",
      "Epoch 3/10\n",
      "\u001b[1m128/128\u001b[0m \u001b[32m━━━━━━━━━━━━━━━━━━━━\u001b[0m\u001b[37m\u001b[0m \u001b[1m1s\u001b[0m 4ms/step - loss: 269.6966 - r2_score: 0.9869 - val_loss: 291.4195 - val_r2_score: 0.9857\n",
      "Epoch 4/10\n",
      "\u001b[1m128/128\u001b[0m \u001b[32m━━━━━━━━━━━━━━━━━━━━\u001b[0m\u001b[37m\u001b[0m \u001b[1m0s\u001b[0m 3ms/step - loss: 327.1674 - r2_score: 0.9851 - val_loss: 233.2857 - val_r2_score: 0.9886\n",
      "Epoch 5/10\n",
      "\u001b[1m128/128\u001b[0m \u001b[32m━━━━━━━━━━━━━━━━━━━━\u001b[0m\u001b[37m\u001b[0m \u001b[1m0s\u001b[0m 2ms/step - loss: 294.2945 - r2_score: 0.9855 - val_loss: 249.6929 - val_r2_score: 0.9877\n",
      "Epoch 6/10\n",
      "\u001b[1m128/128\u001b[0m \u001b[32m━━━━━━━━━━━━━━━━━━━━\u001b[0m\u001b[37m\u001b[0m \u001b[1m1s\u001b[0m 4ms/step - loss: 193.2103 - r2_score: 0.9902 - val_loss: 212.1699 - val_r2_score: 0.9896\n",
      "Epoch 7/10\n",
      "\u001b[1m128/128\u001b[0m \u001b[32m━━━━━━━━━━━━━━━━━━━━\u001b[0m\u001b[37m\u001b[0m \u001b[1m0s\u001b[0m 2ms/step - loss: 236.9917 - r2_score: 0.9882 - val_loss: 234.0387 - val_r2_score: 0.9885\n",
      "Epoch 8/10\n",
      "\u001b[1m128/128\u001b[0m \u001b[32m━━━━━━━━━━━━━━━━━━━━\u001b[0m\u001b[37m\u001b[0m \u001b[1m0s\u001b[0m 2ms/step - loss: 218.7491 - r2_score: 0.9895 - val_loss: 1023.1368 - val_r2_score: 0.9498\n",
      "Epoch 9/10\n",
      "\u001b[1m128/128\u001b[0m \u001b[32m━━━━━━━━━━━━━━━━━━━━\u001b[0m\u001b[37m\u001b[0m \u001b[1m0s\u001b[0m 2ms/step - loss: 276.4212 - r2_score: 0.9859 - val_loss: 402.0627 - val_r2_score: 0.9803\n",
      "Epoch 10/10\n",
      "\u001b[1m128/128\u001b[0m \u001b[32m━━━━━━━━━━━━━━━━━━━━\u001b[0m\u001b[37m\u001b[0m \u001b[1m1s\u001b[0m 4ms/step - loss: 289.2428 - r2_score: 0.9854 - val_loss: 192.2887 - val_r2_score: 0.9906\n"
     ]
    }
   ],
   "source": [
    "history = model.fit(X_train, y_train, batch_size=10, epochs=10, validation_split=0.2)\n",
    "#history is the variable and its stroing in dictionary.\n",
    "#Inside history one more history is created by Keras"
   ]
  },
  {
   "cell_type": "code",
   "execution_count": 30,
   "id": "f7d5b479",
   "metadata": {},
   "outputs": [
    {
     "data": {
      "text/plain": [
       "{'loss': [336.0828857421875,\n",
       "  388.79608154296875,\n",
       "  278.67926025390625,\n",
       "  249.0188751220703,\n",
       "  281.2392883300781,\n",
       "  248.85104370117188,\n",
       "  255.56076049804688,\n",
       "  240.99301147460938,\n",
       "  262.3996276855469,\n",
       "  316.865478515625],\n",
       " 'r2_score': [0.9835821986198425,\n",
       "  0.9810071587562561,\n",
       "  0.9863864183425903,\n",
       "  0.9878353476524353,\n",
       "  0.9862613677978516,\n",
       "  0.9878435134887695,\n",
       "  0.9875157475471497,\n",
       "  0.9882274270057678,\n",
       "  0.9871816635131836,\n",
       "  0.9845209717750549],\n",
       " 'val_loss': [489.431396484375,\n",
       "  295.461669921875,\n",
       "  291.41949462890625,\n",
       "  233.28573608398438,\n",
       "  249.69290161132812,\n",
       "  212.169921875,\n",
       "  234.0386505126953,\n",
       "  1023.1368408203125,\n",
       "  402.0626525878906,\n",
       "  192.28866577148438],\n",
       " 'val_r2_score': [0.9759832620620728,\n",
       "  0.9855014681816101,\n",
       "  0.9856998324394226,\n",
       "  0.9885525107383728,\n",
       "  0.9877473711967468,\n",
       "  0.9895886778831482,\n",
       "  0.9885155558586121,\n",
       "  0.9497939944267273,\n",
       "  0.980270504951477,\n",
       "  0.9905642867088318]}"
      ]
     },
     "execution_count": 30,
     "metadata": {},
     "output_type": "execute_result"
    }
   ],
   "source": [
    "history.history"
   ]
  },
  {
   "cell_type": "code",
   "execution_count": 31,
   "id": "e2fd93de",
   "metadata": {},
   "outputs": [
    {
     "data": {
      "text/plain": [
       "[336.0828857421875,\n",
       " 388.79608154296875,\n",
       " 278.67926025390625,\n",
       " 249.0188751220703,\n",
       " 281.2392883300781,\n",
       " 248.85104370117188,\n",
       " 255.56076049804688,\n",
       " 240.99301147460938,\n",
       " 262.3996276855469,\n",
       " 316.865478515625]"
      ]
     },
     "execution_count": 31,
     "metadata": {},
     "output_type": "execute_result"
    }
   ],
   "source": [
    "history.history['loss']"
   ]
  },
  {
   "cell_type": "code",
   "execution_count": 32,
   "id": "e5df270b",
   "metadata": {},
   "outputs": [
    {
     "data": {
      "text/plain": [
       "[489.431396484375,\n",
       " 295.461669921875,\n",
       " 291.41949462890625,\n",
       " 233.28573608398438,\n",
       " 249.69290161132812,\n",
       " 212.169921875,\n",
       " 234.0386505126953,\n",
       " 1023.1368408203125,\n",
       " 402.0626525878906,\n",
       " 192.28866577148438]"
      ]
     },
     "execution_count": 32,
     "metadata": {},
     "output_type": "execute_result"
    }
   ],
   "source": [
    "history.history['val_loss']"
   ]
  },
  {
   "cell_type": "markdown",
   "id": "1b6cb1bd",
   "metadata": {},
   "source": [
    "**Cross Validation Graph between training and validation loss**"
   ]
  },
  {
   "cell_type": "code",
   "execution_count": 40,
   "id": "24d28644",
   "metadata": {},
   "outputs": [
    {
     "data": {
      "image/png": "[encoded data removed]",
      "text/plain": [
       "<Figure size 640x480 with 1 Axes>"
      ]
     },
     "metadata": {},
     "output_type": "display_data"
    }
   ],
   "source": [
    "plt.plot(range(1,11), history.history['loss'],label=\"Training_Loss\")\n",
    "plt.plot(range(1,11), history.history['val_loss'],label=\"Validation_Loss\")\n",
    "plt.legend()\n",
    "plt.show()\n",
    "#range = no of epoch"
   ]
  },
  {
   "cell_type": "code",
   "execution_count": 41,
   "id": "fa816017",
   "metadata": {
    "scrolled": true
   },
   "outputs": [
    {
     "name": "stdout",
     "output_type": "stream",
     "text": [
      "\u001b[1m13/13\u001b[0m \u001b[32m━━━━━━━━━━━━━━━━━━━━\u001b[0m\u001b[37m\u001b[0m \u001b[1m0s\u001b[0m 9ms/step\n"
     ]
    },
    {
     "data": {
      "text/plain": [
       "array([[  74.0753   ],\n",
       "       [ 163.10872  ],\n",
       "       [ 236.32735  ],\n",
       "       [ 153.92613  ],\n",
       "       [ -66.94957  ],\n",
       "       [ 190.09503  ],\n",
       "       [  74.747116 ],\n",
       "       [  86.02426  ],\n",
       "       [ -62.799892 ],\n",
       "       [ 181.85823  ],\n",
       "       [-109.74432  ],\n",
       "       [  83.724945 ],\n",
       "       [ -33.37927  ],\n",
       "       [-227.63177  ],\n",
       "       [ -93.712555 ],\n",
       "       [ 183.4413   ],\n",
       "       [ 182.58447  ],\n",
       "       [ -38.846798 ],\n",
       "       [  50.018375 ],\n",
       "       [ -15.467937 ],\n",
       "       [  79.93843  ],\n",
       "       [ -48.146313 ],\n",
       "       [  31.397861 ],\n",
       "       [  -8.601864 ],\n",
       "       [ 147.42422  ],\n",
       "       [  26.000294 ],\n",
       "       [ 150.6043   ],\n",
       "       [ 154.22269  ],\n",
       "       [ -88.72897  ],\n",
       "       [ -47.73411  ],\n",
       "       [  -3.3053093],\n",
       "       [-248.04892  ],\n",
       "       [ 217.32085  ],\n",
       "       [ -22.321285 ],\n",
       "       [ 106.568436 ],\n",
       "       [  20.4278   ],\n",
       "       [-213.32234  ],\n",
       "       [  75.99307  ],\n",
       "       [ 137.63121  ],\n",
       "       [-189.88434  ],\n",
       "       [  48.471348 ],\n",
       "       [   3.9439583],\n",
       "       [-210.68799  ],\n",
       "       [  28.98914  ],\n",
       "       [ -23.53648  ],\n",
       "       [  35.943943 ],\n",
       "       [  67.24835  ],\n",
       "       [-108.65456  ],\n",
       "       [-201.28554  ],\n",
       "       [ 109.346146 ],\n",
       "       [-183.9881   ],\n",
       "       [  12.139744 ],\n",
       "       [ -22.75999  ],\n",
       "       [ 161.66672  ],\n",
       "       [ -71.644806 ],\n",
       "       [ -83.81668  ],\n",
       "       [ 162.84674  ],\n",
       "       [ -95.55846  ],\n",
       "       [ 303.59714  ],\n",
       "       [  44.167667 ],\n",
       "       [ 187.40009  ],\n",
       "       [ -24.069149 ],\n",
       "       [  25.875492 ],\n",
       "       [   7.1702766],\n",
       "       [   3.8630562],\n",
       "       [ -20.568905 ],\n",
       "       [ 179.36674  ],\n",
       "       [ -20.85394  ],\n",
       "       [-122.63252  ],\n",
       "       [ -29.285625 ],\n",
       "       [ 143.25746  ],\n",
       "       [ -93.33803  ],\n",
       "       [  -9.393383 ],\n",
       "       [-132.70038  ],\n",
       "       [ 161.21205  ],\n",
       "       [ -86.65076  ],\n",
       "       [-164.67645  ],\n",
       "       [  -7.7547417],\n",
       "       [  87.45491  ],\n",
       "       [  40.304188 ],\n",
       "       [   9.768909 ],\n",
       "       [-297.81522  ],\n",
       "       [ 165.00008  ],\n",
       "       [ 127.354294 ],\n",
       "       [-284.169    ],\n",
       "       [ 173.31837  ],\n",
       "       [  58.4018   ],\n",
       "       [-170.03448  ],\n",
       "       [ -54.41762  ],\n",
       "       [-306.61008  ],\n",
       "       [ -55.351116 ],\n",
       "       [-287.93124  ],\n",
       "       [ 166.03423  ],\n",
       "       [ 233.8777   ],\n",
       "       [ 146.14067  ],\n",
       "       [ -43.01913  ],\n",
       "       [  95.07518  ],\n",
       "       [ -37.57919  ],\n",
       "       [ 116.69212  ],\n",
       "       [ 155.76689  ],\n",
       "       [  61.56513  ],\n",
       "       [  42.455814 ],\n",
       "       [-201.95622  ],\n",
       "       [ -54.91937  ],\n",
       "       [  67.86511  ],\n",
       "       [  94.16637  ],\n",
       "       [-190.26611  ],\n",
       "       [-172.28333  ],\n",
       "       [  10.588795 ],\n",
       "       [-306.5028   ],\n",
       "       [  52.25498  ],\n",
       "       [  74.48355  ],\n",
       "       [ 115.038055 ],\n",
       "       [-101.718735 ],\n",
       "       [-105.21533  ],\n",
       "       [ 304.24527  ],\n",
       "       [ 301.94897  ],\n",
       "       [-124.4276   ],\n",
       "       [ 138.77502  ],\n",
       "       [-238.25467  ],\n",
       "       [ 171.2578   ],\n",
       "       [ -73.8759   ],\n",
       "       [-155.62733  ],\n",
       "       [ -21.401379 ],\n",
       "       [ -19.786907 ],\n",
       "       [-294.25476  ],\n",
       "       [  11.838261 ],\n",
       "       [ 189.68272  ],\n",
       "       [ -51.308605 ],\n",
       "       [ -89.75235  ],\n",
       "       [  26.286808 ],\n",
       "       [ -44.240765 ],\n",
       "       [ 152.73412  ],\n",
       "       [ 148.15538  ],\n",
       "       [ -26.358318 ],\n",
       "       [ 104.53587  ],\n",
       "       [-113.18005  ],\n",
       "       [ 178.63387  ],\n",
       "       [ -50.156017 ],\n",
       "       [ 304.0143   ],\n",
       "       [-190.82074  ],\n",
       "       [-179.77962  ],\n",
       "       [-117.72574  ],\n",
       "       [ 196.41534  ],\n",
       "       [  50.715214 ],\n",
       "       [ -64.21942  ],\n",
       "       [  -0.4371605],\n",
       "       [-228.37819  ],\n",
       "       [  34.69176  ],\n",
       "       [  44.953373 ],\n",
       "       [ -59.345028 ],\n",
       "       [ 100.734634 ],\n",
       "       [  72.42386  ],\n",
       "       [ 273.3438   ],\n",
       "       [  10.457417 ],\n",
       "       [  15.982227 ],\n",
       "       [ -83.31201  ],\n",
       "       [ -58.068172 ],\n",
       "       [  57.450047 ],\n",
       "       [ -12.53561  ],\n",
       "       [  98.194016 ],\n",
       "       [ -22.595715 ],\n",
       "       [ 287.25076  ],\n",
       "       [ -66.18884  ],\n",
       "       [ 176.82167  ],\n",
       "       [-180.05476  ],\n",
       "       [ -92.435684 ],\n",
       "       [-306.59726  ],\n",
       "       [  51.891865 ],\n",
       "       [ -46.641598 ],\n",
       "       [-306.6169   ],\n",
       "       [ 138.56433  ],\n",
       "       [  78.60626  ],\n",
       "       [-121.68233  ],\n",
       "       [ -75.33739  ],\n",
       "       [ 125.07103  ],\n",
       "       [ 144.25941  ],\n",
       "       [ -86.50522  ],\n",
       "       [  97.37187  ],\n",
       "       [-151.20525  ],\n",
       "       [ -99.16554  ],\n",
       "       [ -77.664825 ],\n",
       "       [ 183.57109  ],\n",
       "       [-283.89917  ],\n",
       "       [ -87.929565 ],\n",
       "       [ -58.45888  ],\n",
       "       [-199.2533   ],\n",
       "       [  73.386734 ],\n",
       "       [ -79.50691  ],\n",
       "       [  32.960453 ],\n",
       "       [ -14.479153 ],\n",
       "       [-192.94662  ],\n",
       "       [  70.98695  ],\n",
       "       [ 232.554    ],\n",
       "       [ -33.602764 ],\n",
       "       [-103.553635 ],\n",
       "       [ 132.24702  ],\n",
       "       [ -20.15739  ],\n",
       "       [-122.01187  ],\n",
       "       [  44.736607 ],\n",
       "       [-300.31863  ],\n",
       "       [ -52.285763 ],\n",
       "       [ 130.1407   ],\n",
       "       [-143.09102  ],\n",
       "       [ -87.68088  ],\n",
       "       [  80.95473  ],\n",
       "       [ -21.22871  ],\n",
       "       [ 110.216324 ],\n",
       "       [  85.21565  ],\n",
       "       [  76.62625  ],\n",
       "       [  68.35503  ],\n",
       "       [-166.66254  ],\n",
       "       [  73.08684  ],\n",
       "       [ 304.20224  ],\n",
       "       [  47.294224 ],\n",
       "       [ -25.184444 ],\n",
       "       [ 241.48265  ],\n",
       "       [  45.586582 ],\n",
       "       [ 289.83698  ],\n",
       "       [ 181.52145  ],\n",
       "       [ 232.03535  ],\n",
       "       [-125.78613  ],\n",
       "       [ 168.6182   ],\n",
       "       [ -94.274826 ],\n",
       "       [ -26.511547 ],\n",
       "       [-167.57803  ],\n",
       "       [ 228.31825  ],\n",
       "       [  25.853214 ],\n",
       "       [ -75.10181  ],\n",
       "       [-221.40181  ],\n",
       "       [ -56.073452 ],\n",
       "       [ -65.97992  ],\n",
       "       [  74.375626 ],\n",
       "       [  -0.3410759],\n",
       "       [  22.550404 ],\n",
       "       [-158.48888  ],\n",
       "       [  31.515156 ],\n",
       "       [  33.64432  ],\n",
       "       [ -61.778835 ],\n",
       "       [  98.32997  ],\n",
       "       [-119.39894  ],\n",
       "       [  -7.5691338],\n",
       "       [  68.70264  ],\n",
       "       [-306.46933  ],\n",
       "       [  57.34952  ],\n",
       "       [ 194.85051  ],\n",
       "       [  49.48258  ],\n",
       "       [-187.56517  ],\n",
       "       [ 121.13315  ],\n",
       "       [ 110.533035 ],\n",
       "       [ 158.55757  ],\n",
       "       [ 170.50348  ],\n",
       "       [   5.712696 ],\n",
       "       [ 258.07028  ],\n",
       "       [ -16.252697 ],\n",
       "       [  69.816895 ],\n",
       "       [ -75.303406 ],\n",
       "       [  29.642002 ],\n",
       "       [ 138.97783  ],\n",
       "       [ -89.44704  ],\n",
       "       [  -2.8618126],\n",
       "       [ 176.7332   ],\n",
       "       [-231.00163  ],\n",
       "       [-182.45319  ],\n",
       "       [  78.4534   ],\n",
       "       [ 224.12474  ],\n",
       "       [-162.98291  ],\n",
       "       [ -92.10649  ],\n",
       "       [ -58.092457 ],\n",
       "       [ -83.23808  ],\n",
       "       [ -21.52258  ],\n",
       "       [  95.04579  ],\n",
       "       [  86.24956  ],\n",
       "       [  79.95911  ],\n",
       "       [  80.57893  ],\n",
       "       [ -10.457302 ],\n",
       "       [  84.49187  ],\n",
       "       [ -19.859951 ],\n",
       "       [ 166.44078  ],\n",
       "       [ 149.51839  ],\n",
       "       [-129.8681   ],\n",
       "       [-207.5847   ],\n",
       "       [ 131.35674  ],\n",
       "       [  56.40491  ],\n",
       "       [-169.91048  ],\n",
       "       [  70.09009  ],\n",
       "       [  45.770206 ],\n",
       "       [ -14.996365 ],\n",
       "       [-171.07399  ],\n",
       "       [ 130.45055  ],\n",
       "       [ -47.160458 ],\n",
       "       [ -37.32638  ],\n",
       "       [  55.34328  ],\n",
       "       [ 223.35213  ],\n",
       "       [  27.644047 ],\n",
       "       [ -22.071453 ],\n",
       "       [ 285.77246  ],\n",
       "       [ 105.012955 ],\n",
       "       [ -42.336422 ],\n",
       "       [ -63.43436  ],\n",
       "       [-107.467606 ],\n",
       "       [ -30.04916  ],\n",
       "       [ -11.005383 ],\n",
       "       [-204.07268  ],\n",
       "       [  80.922485 ],\n",
       "       [ 123.955795 ],\n",
       "       [-161.19012  ],\n",
       "       [ -14.857922 ],\n",
       "       [  73.20888  ],\n",
       "       [  27.868732 ],\n",
       "       [ -86.06247  ],\n",
       "       [  89.201065 ],\n",
       "       [  58.881107 ],\n",
       "       [ -81.53053  ],\n",
       "       [ 217.02385  ],\n",
       "       [  38.348057 ],\n",
       "       [ -45.470547 ],\n",
       "       [ 180.6129   ],\n",
       "       [  -6.9125023],\n",
       "       [ 204.3047   ],\n",
       "       [  90.55754  ],\n",
       "       [ 183.24648  ],\n",
       "       [  53.14603  ],\n",
       "       [-102.436554 ],\n",
       "       [-117.87645  ],\n",
       "       [  79.12105  ],\n",
       "       [ 162.14897  ],\n",
       "       [   4.324238 ],\n",
       "       [  81.359024 ],\n",
       "       [ 104.245865 ],\n",
       "       [-196.94879  ],\n",
       "       [  89.501816 ],\n",
       "       [ -84.23317  ],\n",
       "       [  26.685108 ],\n",
       "       [  11.092365 ],\n",
       "       [ 186.53197  ],\n",
       "       [  68.27098  ],\n",
       "       [ 181.47375  ],\n",
       "       [ 180.67824  ],\n",
       "       [ -92.0175   ],\n",
       "       [  63.530582 ],\n",
       "       [-288.49997  ],\n",
       "       [-164.43707  ],\n",
       "       [ 207.5573   ],\n",
       "       [-110.77507  ],\n",
       "       [ -42.218822 ],\n",
       "       [  19.646473 ],\n",
       "       [  51.61835  ],\n",
       "       [ -93.29938  ],\n",
       "       [ -19.33221  ],\n",
       "       [ 145.89488  ],\n",
       "       [ -75.78952  ],\n",
       "       [  -8.885326 ],\n",
       "       [  43.535587 ],\n",
       "       [  12.790714 ],\n",
       "       [  44.868046 ],\n",
       "       [ -84.56593  ],\n",
       "       [   5.292591 ],\n",
       "       [ -13.291698 ],\n",
       "       [  15.915379 ],\n",
       "       [-209.1152   ],\n",
       "       [  21.427006 ],\n",
       "       [ -13.070568 ],\n",
       "       [ 107.44432  ],\n",
       "       [ 152.5243   ],\n",
       "       [ 163.82387  ],\n",
       "       [  31.42641  ],\n",
       "       [ 115.24855  ],\n",
       "       [  86.505905 ],\n",
       "       [  -0.7381706],\n",
       "       [ 221.99763  ],\n",
       "       [-207.68127  ],\n",
       "       [  64.32129  ],\n",
       "       [ -70.00168  ],\n",
       "       [  41.923298 ],\n",
       "       [-188.26892  ],\n",
       "       [ 178.91977  ],\n",
       "       [ -34.034176 ],\n",
       "       [  -7.565075 ],\n",
       "       [  80.153885 ],\n",
       "       [  84.83003  ],\n",
       "       [ -47.198147 ],\n",
       "       [  14.410618 ],\n",
       "       [  42.72069  ],\n",
       "       [  75.397675 ],\n",
       "       [ -22.740551 ],\n",
       "       [   7.5150337],\n",
       "       [ 168.79942  ],\n",
       "       [-306.34723  ],\n",
       "       [ 106.84065  ],\n",
       "       [ 284.74127  ],\n",
       "       [   6.011051 ],\n",
       "       [  10.288761 ],\n",
       "       [-151.21922  ],\n",
       "       [-144.22731  ],\n",
       "       [ -50.46339  ],\n",
       "       [-118.40456  ],\n",
       "       [  24.429981 ],\n",
       "       [-153.37177  ],\n",
       "       [  24.511616 ]], dtype=float32)"
      ]
     },
     "execution_count": 41,
     "metadata": {},
     "output_type": "execute_result"
    }
   ],
   "source": [
    "model.predict(X_test)"
   ]
  },
  {
   "cell_type": "code",
   "execution_count": 42,
   "id": "df2e6d68",
   "metadata": {},
   "outputs": [
    {
     "name": "stdout",
     "output_type": "stream",
     "text": [
      "\u001b[1m13/13\u001b[0m \u001b[32m━━━━━━━━━━━━━━━━━━━━\u001b[0m\u001b[37m\u001b[0m \u001b[1m0s\u001b[0m 2ms/step \n"
     ]
    }
   ],
   "source": [
    "predict = model.predict(X_test)"
   ]
  },
  {
   "cell_type": "code",
   "execution_count": 43,
   "id": "6d65ffcf",
   "metadata": {},
   "outputs": [],
   "source": [
    "from sklearn import metrics"
   ]
  },
  {
   "cell_type": "code",
   "execution_count": 45,
   "id": "fe1235a7",
   "metadata": {},
   "outputs": [
    {
     "data": {
      "text/plain": [
       "0.9891939152641879"
      ]
     },
     "execution_count": 45,
     "metadata": {},
     "output_type": "execute_result"
    }
   ],
   "source": [
    "metrics.r2_score(y_test, predict)"
   ]
  },
  {
   "cell_type": "code",
   "execution_count": null,
   "id": "ad9b7be6",
   "metadata": {},
   "outputs": [],
   "source": []
  }
 ],
 "metadata": {
  "kernelspec": {
   "display_name": "Python 3 (ipykernel)",
   "language": "python",
   "name": "python3"
  },
  "language_info": {
   "codemirror_mode": {
    "name": "ipython",
    "version": 3
   },
   "file_extension": ".py",
   "mimetype": "text/x-python",
   "name": "python",
   "nbconvert_exporter": "python",
   "pygments_lexer": "ipython3",
   "version": "3.11.4"
  }
 },
 "nbformat": 4,
 "nbformat_minor": 5
}
