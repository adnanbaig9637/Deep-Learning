{
 "cells": [
  {
   "cell_type": "markdown",
   "id": "c9ef2b80",
   "metadata": {},
   "source": [
    "**Importing Libriaries**"
   ]
  },
  {
   "cell_type": "code",
   "execution_count": 11,
   "id": "8dccb241",
   "metadata": {},
   "outputs": [],
   "source": [
    "import pandas as pd\n",
    "import numpy as np\n",
    "import seaborn as sns\n",
    "import matplotlib.pyplot as plt\n",
    "\n",
    "import sklearn\n",
    "from sklearn.model_selection import train_test_split\n",
    "from sklearn.preprocessing import StandardScaler\n",
    "from sklearn import metrics\n",
    "from sklearn.datasets import make_regression\n",
    "\n",
    "import tensorflow\n",
    "import keras\n",
    "from keras.models import Sequential\n",
    "from keras.optimizers import SGD\n",
    "from keras.layers import InputLayer, Dense"
   ]
  },
  {
   "cell_type": "markdown",
   "id": "63ae55bb",
   "metadata": {},
   "source": [
    "**Creating the Dataset**"
   ]
  },
  {
   "cell_type": "code",
   "execution_count": 7,
   "id": "2403971b",
   "metadata": {},
   "outputs": [],
   "source": [
    "X, y = make_regression(n_samples=3000, n_features=10, random_state=10)"
   ]
  },
  {
   "cell_type": "code",
   "execution_count": 8,
   "id": "5edba816",
   "metadata": {},
   "outputs": [
    {
     "data": {
      "text/plain": [
       "(3000, 10)"
      ]
     },
     "execution_count": 8,
     "metadata": {},
     "output_type": "execute_result"
    }
   ],
   "source": [
    "X.shape"
   ]
  },
  {
   "cell_type": "markdown",
   "id": "83904d77",
   "metadata": {},
   "source": [
    "**Splitting the Data**"
   ]
  },
  {
   "cell_type": "code",
   "execution_count": 26,
   "id": "5f3b80e6",
   "metadata": {},
   "outputs": [
    {
     "name": "stdout",
     "output_type": "stream",
     "text": [
      "(2400, 10)\n",
      "(600, 10)\n"
     ]
    }
   ],
   "source": [
    "X_train, X_test, y_train, y_test = train_test_split(X, y, test_size=0.2, random_state=10)\n",
    "\n",
    "print(X_train.shape)\n",
    "print(X_test.shape)"
   ]
  },
  {
   "cell_type": "markdown",
   "id": "2dd4ec4d",
   "metadata": {},
   "source": [
    "**Preprocessing**"
   ]
  },
  {
   "cell_type": "code",
   "execution_count": 10,
   "id": "e6f1d24b",
   "metadata": {},
   "outputs": [],
   "source": [
    "std = StandardScaler()\n",
    "\n",
    "X_train = std.fit_transform(X_train)\n",
    "\n",
    "X_test = std.transform(X_test)"
   ]
  },
  {
   "cell_type": "markdown",
   "id": "ffc621f2",
   "metadata": {},
   "source": [
    "**Logical Structure Building**"
   ]
  },
  {
   "cell_type": "code",
   "execution_count": 12,
   "id": "cd3fdc15",
   "metadata": {},
   "outputs": [],
   "source": [
    "model = Sequential()\n",
    "\n",
    "model.add(InputLayer(shape = (10,)))\n",
    "\n",
    "model.add(Dense(units=8, activation='sigmoid', use_bias=True))\n",
    "\n",
    "model.add(Dense(units=6, activation='sigmoid', use_bias=True))\n",
    "\n",
    "model.add(Dense(units=1, activation='linear', use_bias=True))"
   ]
  },
  {
   "cell_type": "markdown",
   "id": "1e6c2766",
   "metadata": {},
   "source": [
    "**Model Summary**"
   ]
  },
  {
   "cell_type": "code",
   "execution_count": 13,
   "id": "84caf5e0",
   "metadata": {},
   "outputs": [
    {
     "data": {
      "text/html": [
       "<pre style=\"white-space:pre;overflow-x:auto;line-height:normal;font-family:Menlo,'DejaVu Sans Mono',consolas,'Courier New',monospace\"><span style=\"font-weight: bold\">Model: \"sequential\"</span>\n",
       "</pre>\n"
      ],
      "text/plain": [
       "\u001b[1mModel: \"sequential\"\u001b[0m\n"
      ]
     },
     "metadata": {},
     "output_type": "display_data"
    },
    {
     "data": {
      "text/html": [
       "<pre style=\"white-space:pre;overflow-x:auto;line-height:normal;font-family:Menlo,'DejaVu Sans Mono',consolas,'Courier New',monospace\">┏━━━━━━━━━━━━━━━━━━━━━━━━━━━━━━━━━━━━━━┳━━━━━━━━━━━━━━━━━━━━━━━━━━━━━┳━━━━━━━━━━━━━━━━━┓\n",
       "┃<span style=\"font-weight: bold\"> Layer (type)                         </span>┃<span style=\"font-weight: bold\"> Output Shape                </span>┃<span style=\"font-weight: bold\">         Param # </span>┃\n",
       "┡━━━━━━━━━━━━━━━━━━━━━━━━━━━━━━━━━━━━━━╇━━━━━━━━━━━━━━━━━━━━━━━━━━━━━╇━━━━━━━━━━━━━━━━━┩\n",
       "│ dense (<span style=\"color: #0087ff; text-decoration-color: #0087ff\">Dense</span>)                        │ (<span style=\"color: #00d7ff; text-decoration-color: #00d7ff\">None</span>, <span style=\"color: #00af00; text-decoration-color: #00af00\">8</span>)                   │              <span style=\"color: #00af00; text-decoration-color: #00af00\">88</span> │\n",
       "├──────────────────────────────────────┼─────────────────────────────┼─────────────────┤\n",
       "│ dense_1 (<span style=\"color: #0087ff; text-decoration-color: #0087ff\">Dense</span>)                      │ (<span style=\"color: #00d7ff; text-decoration-color: #00d7ff\">None</span>, <span style=\"color: #00af00; text-decoration-color: #00af00\">6</span>)                   │              <span style=\"color: #00af00; text-decoration-color: #00af00\">54</span> │\n",
       "├──────────────────────────────────────┼─────────────────────────────┼─────────────────┤\n",
       "│ dense_2 (<span style=\"color: #0087ff; text-decoration-color: #0087ff\">Dense</span>)                      │ (<span style=\"color: #00d7ff; text-decoration-color: #00d7ff\">None</span>, <span style=\"color: #00af00; text-decoration-color: #00af00\">1</span>)                   │               <span style=\"color: #00af00; text-decoration-color: #00af00\">7</span> │\n",
       "└──────────────────────────────────────┴─────────────────────────────┴─────────────────┘\n",
       "</pre>\n"
      ],
      "text/plain": [
       "┏━━━━━━━━━━━━━━━━━━━━━━━━━━━━━━━━━━━━━━┳━━━━━━━━━━━━━━━━━━━━━━━━━━━━━┳━━━━━━━━━━━━━━━━━┓\n",
       "┃\u001b[1m \u001b[0m\u001b[1mLayer (type)                        \u001b[0m\u001b[1m \u001b[0m┃\u001b[1m \u001b[0m\u001b[1mOutput Shape               \u001b[0m\u001b[1m \u001b[0m┃\u001b[1m \u001b[0m\u001b[1m        Param #\u001b[0m\u001b[1m \u001b[0m┃\n",
       "┡━━━━━━━━━━━━━━━━━━━━━━━━━━━━━━━━━━━━━━╇━━━━━━━━━━━━━━━━━━━━━━━━━━━━━╇━━━━━━━━━━━━━━━━━┩\n",
       "│ dense (\u001b[38;5;33mDense\u001b[0m)                        │ (\u001b[38;5;45mNone\u001b[0m, \u001b[38;5;34m8\u001b[0m)                   │              \u001b[38;5;34m88\u001b[0m │\n",
       "├──────────────────────────────────────┼─────────────────────────────┼─────────────────┤\n",
       "│ dense_1 (\u001b[38;5;33mDense\u001b[0m)                      │ (\u001b[38;5;45mNone\u001b[0m, \u001b[38;5;34m6\u001b[0m)                   │              \u001b[38;5;34m54\u001b[0m │\n",
       "├──────────────────────────────────────┼─────────────────────────────┼─────────────────┤\n",
       "│ dense_2 (\u001b[38;5;33mDense\u001b[0m)                      │ (\u001b[38;5;45mNone\u001b[0m, \u001b[38;5;34m1\u001b[0m)                   │               \u001b[38;5;34m7\u001b[0m │\n",
       "└──────────────────────────────────────┴─────────────────────────────┴─────────────────┘\n"
      ]
     },
     "metadata": {},
     "output_type": "display_data"
    },
    {
     "data": {
      "text/html": [
       "<pre style=\"white-space:pre;overflow-x:auto;line-height:normal;font-family:Menlo,'DejaVu Sans Mono',consolas,'Courier New',monospace\"><span style=\"font-weight: bold\"> Total params: </span><span style=\"color: #00af00; text-decoration-color: #00af00\">149</span> (596.00 B)\n",
       "</pre>\n"
      ],
      "text/plain": [
       "\u001b[1m Total params: \u001b[0m\u001b[38;5;34m149\u001b[0m (596.00 B)\n"
      ]
     },
     "metadata": {},
     "output_type": "display_data"
    },
    {
     "data": {
      "text/html": [
       "<pre style=\"white-space:pre;overflow-x:auto;line-height:normal;font-family:Menlo,'DejaVu Sans Mono',consolas,'Courier New',monospace\"><span style=\"font-weight: bold\"> Trainable params: </span><span style=\"color: #00af00; text-decoration-color: #00af00\">149</span> (596.00 B)\n",
       "</pre>\n"
      ],
      "text/plain": [
       "\u001b[1m Trainable params: \u001b[0m\u001b[38;5;34m149\u001b[0m (596.00 B)\n"
      ]
     },
     "metadata": {},
     "output_type": "display_data"
    },
    {
     "data": {
      "text/html": [
       "<pre style=\"white-space:pre;overflow-x:auto;line-height:normal;font-family:Menlo,'DejaVu Sans Mono',consolas,'Courier New',monospace\"><span style=\"font-weight: bold\"> Non-trainable params: </span><span style=\"color: #00af00; text-decoration-color: #00af00\">0</span> (0.00 B)\n",
       "</pre>\n"
      ],
      "text/plain": [
       "\u001b[1m Non-trainable params: \u001b[0m\u001b[38;5;34m0\u001b[0m (0.00 B)\n"
      ]
     },
     "metadata": {},
     "output_type": "display_data"
    }
   ],
   "source": [
    "model.summary()"
   ]
  },
  {
   "cell_type": "markdown",
   "id": "f241c761",
   "metadata": {},
   "source": [
    "**Compiling**"
   ]
  },
  {
   "cell_type": "code",
   "execution_count": 17,
   "id": "c3fb5e33",
   "metadata": {},
   "outputs": [],
   "source": [
    "sgd = SGD(learning_rate=0.001)\n",
    "\n",
    "model.compile(optimizer=sgd, loss = 'mean_squared_error', metrics=['r2_score'])"
   ]
  },
  {
   "cell_type": "markdown",
   "id": "38546d2f",
   "metadata": {},
   "source": [
    "**Traning**"
   ]
  },
  {
   "cell_type": "code",
   "execution_count": 18,
   "id": "cd7f4a67",
   "metadata": {},
   "outputs": [
    {
     "name": "stdout",
     "output_type": "stream",
     "text": [
      "Epoch 1/10\n",
      "\u001b[1m192/192\u001b[0m \u001b[32m━━━━━━━━━━━━━━━━━━━━\u001b[0m\u001b[37m\u001b[0m \u001b[1m2s\u001b[0m 6ms/step - loss: 1312.9810 - r2_score: 0.9648 - val_loss: 1801.6627 - val_r2_score: 0.9565\n",
      "Epoch 2/10\n",
      "\u001b[1m192/192\u001b[0m \u001b[32m━━━━━━━━━━━━━━━━━━━━\u001b[0m\u001b[37m\u001b[0m \u001b[1m1s\u001b[0m 3ms/step - loss: 1289.9227 - r2_score: 0.9653 - val_loss: 1703.2010 - val_r2_score: 0.9589\n",
      "Epoch 3/10\n",
      "\u001b[1m192/192\u001b[0m \u001b[32m━━━━━━━━━━━━━━━━━━━━\u001b[0m\u001b[37m\u001b[0m \u001b[1m1s\u001b[0m 3ms/step - loss: 2056.9333 - r2_score: 0.9492 - val_loss: 2497.8994 - val_r2_score: 0.9397\n",
      "Epoch 4/10\n",
      "\u001b[1m192/192\u001b[0m \u001b[32m━━━━━━━━━━━━━━━━━━━━\u001b[0m\u001b[37m\u001b[0m \u001b[1m1s\u001b[0m 4ms/step - loss: 1494.2513 - r2_score: 0.9595 - val_loss: 1681.1172 - val_r2_score: 0.9594\n",
      "Epoch 5/10\n",
      "\u001b[1m192/192\u001b[0m \u001b[32m━━━━━━━━━━━━━━━━━━━━\u001b[0m\u001b[37m\u001b[0m \u001b[1m1s\u001b[0m 3ms/step - loss: 1194.9778 - r2_score: 0.9679 - val_loss: 1361.3396 - val_r2_score: 0.9671\n",
      "Epoch 6/10\n",
      "\u001b[1m192/192\u001b[0m \u001b[32m━━━━━━━━━━━━━━━━━━━━\u001b[0m\u001b[37m\u001b[0m \u001b[1m1s\u001b[0m 4ms/step - loss: 808.9983 - r2_score: 0.9778 - val_loss: 1248.0886 - val_r2_score: 0.9699\n",
      "Epoch 7/10\n",
      "\u001b[1m192/192\u001b[0m \u001b[32m━━━━━━━━━━━━━━━━━━━━\u001b[0m\u001b[37m\u001b[0m \u001b[1m1s\u001b[0m 4ms/step - loss: 897.7112 - r2_score: 0.9768 - val_loss: 1180.5645 - val_r2_score: 0.9715\n",
      "Epoch 8/10\n",
      "\u001b[1m192/192\u001b[0m \u001b[32m━━━━━━━━━━━━━━━━━━━━\u001b[0m\u001b[37m\u001b[0m \u001b[1m1s\u001b[0m 4ms/step - loss: 1214.0541 - r2_score: 0.9696 - val_loss: 1143.9186 - val_r2_score: 0.9724\n",
      "Epoch 9/10\n",
      "\u001b[1m192/192\u001b[0m \u001b[32m━━━━━━━━━━━━━━━━━━━━\u001b[0m\u001b[37m\u001b[0m \u001b[1m1s\u001b[0m 4ms/step - loss: 936.8021 - r2_score: 0.9760 - val_loss: 1118.4119 - val_r2_score: 0.9730\n",
      "Epoch 10/10\n",
      "\u001b[1m192/192\u001b[0m \u001b[32m━━━━━━━━━━━━━━━━━━━━\u001b[0m\u001b[37m\u001b[0m \u001b[1m1s\u001b[0m 4ms/step - loss: 897.9982 - r2_score: 0.9774 - val_loss: 1040.5001 - val_r2_score: 0.9749\n"
     ]
    },
    {
     "data": {
      "text/plain": [
       "<keras.src.callbacks.history.History at 0x22d4e351950>"
      ]
     },
     "execution_count": 18,
     "metadata": {},
     "output_type": "execute_result"
    }
   ],
   "source": [
    "model.fit(X_train, y_train, batch_size=10, epochs=10, validation_split=0.2)"
   ]
  },
  {
   "cell_type": "markdown",
   "id": "4a9e757a",
   "metadata": {},
   "source": [
    "**Cross Validation**"
   ]
  },
  {
   "cell_type": "code",
   "execution_count": 19,
   "id": "47fff2d8",
   "metadata": {},
   "outputs": [
    {
     "name": "stdout",
     "output_type": "stream",
     "text": [
      "Epoch 1/10\n",
      "\u001b[1m192/192\u001b[0m \u001b[32m━━━━━━━━━━━━━━━━━━━━\u001b[0m\u001b[37m\u001b[0m \u001b[1m1s\u001b[0m 4ms/step - loss: 821.0798 - r2_score: 0.9784 - val_loss: 1135.9194 - val_r2_score: 0.9726\n",
      "Epoch 2/10\n",
      "\u001b[1m192/192\u001b[0m \u001b[32m━━━━━━━━━━━━━━━━━━━━\u001b[0m\u001b[37m\u001b[0m \u001b[1m1s\u001b[0m 4ms/step - loss: 736.3951 - r2_score: 0.9798 - val_loss: 1003.1429 - val_r2_score: 0.9758\n",
      "Epoch 3/10\n",
      "\u001b[1m192/192\u001b[0m \u001b[32m━━━━━━━━━━━━━━━━━━━━\u001b[0m\u001b[37m\u001b[0m \u001b[1m1s\u001b[0m 4ms/step - loss: 1042.7197 - r2_score: 0.9753 - val_loss: 997.2889 - val_r2_score: 0.9759\n",
      "Epoch 4/10\n",
      "\u001b[1m192/192\u001b[0m \u001b[32m━━━━━━━━━━━━━━━━━━━━\u001b[0m\u001b[37m\u001b[0m \u001b[1m1s\u001b[0m 3ms/step - loss: 1235.5450 - r2_score: 0.9674 - val_loss: 2339.0168 - val_r2_score: 0.9435\n",
      "Epoch 5/10\n",
      "\u001b[1m192/192\u001b[0m \u001b[32m━━━━━━━━━━━━━━━━━━━━\u001b[0m\u001b[37m\u001b[0m \u001b[1m1s\u001b[0m 3ms/step - loss: 2016.0168 - r2_score: 0.9489 - val_loss: 1808.1918 - val_r2_score: 0.9563\n",
      "Epoch 6/10\n",
      "\u001b[1m192/192\u001b[0m \u001b[32m━━━━━━━━━━━━━━━━━━━━\u001b[0m\u001b[37m\u001b[0m \u001b[1m1s\u001b[0m 4ms/step - loss: 1923.3658 - r2_score: 0.9498 - val_loss: 2021.9475 - val_r2_score: 0.9512\n",
      "Epoch 7/10\n",
      "\u001b[1m192/192\u001b[0m \u001b[32m━━━━━━━━━━━━━━━━━━━━\u001b[0m\u001b[37m\u001b[0m \u001b[1m1s\u001b[0m 4ms/step - loss: 1288.0461 - r2_score: 0.9678 - val_loss: 1219.5759 - val_r2_score: 0.9706\n",
      "Epoch 8/10\n",
      "\u001b[1m192/192\u001b[0m \u001b[32m━━━━━━━━━━━━━━━━━━━━\u001b[0m\u001b[37m\u001b[0m \u001b[1m1s\u001b[0m 4ms/step - loss: 993.4160 - r2_score: 0.9717 - val_loss: 1219.6029 - val_r2_score: 0.9706\n",
      "Epoch 9/10\n",
      "\u001b[1m192/192\u001b[0m \u001b[32m━━━━━━━━━━━━━━━━━━━━\u001b[0m\u001b[37m\u001b[0m \u001b[1m1s\u001b[0m 4ms/step - loss: 711.3079 - r2_score: 0.9806 - val_loss: 806.7138 - val_r2_score: 0.9805\n",
      "Epoch 10/10\n",
      "\u001b[1m192/192\u001b[0m \u001b[32m━━━━━━━━━━━━━━━━━━━━\u001b[0m\u001b[37m\u001b[0m \u001b[1m1s\u001b[0m 4ms/step - loss: 726.3002 - r2_score: 0.9811 - val_loss: 953.0828 - val_r2_score: 0.9770\n"
     ]
    }
   ],
   "source": [
    "history = model.fit(X_train, y_train, batch_size=10, epochs=10, validation_split=0.2)"
   ]
  },
  {
   "cell_type": "code",
   "execution_count": 20,
   "id": "a04e3d20",
   "metadata": {},
   "outputs": [
    {
     "data": {
      "text/plain": [
       "{'loss': [869.8681030273438,\n",
       "  847.4977416992188,\n",
       "  880.8741455078125,\n",
       "  1610.0594482421875,\n",
       "  2081.189453125,\n",
       "  1679.8363037109375,\n",
       "  1299.5960693359375,\n",
       "  1013.9868774414062,\n",
       "  774.987060546875,\n",
       "  756.6524658203125],\n",
       " 'r2_score': [0.977583646774292,\n",
       "  0.9781601428985596,\n",
       "  0.9773000478744507,\n",
       "  0.958509087562561,\n",
       "  0.9463681578636169,\n",
       "  0.956710934638977,\n",
       "  0.9665096402168274,\n",
       "  0.9738697409629822,\n",
       "  0.9800287485122681,\n",
       "  0.9805012345314026],\n",
       " 'val_loss': [1135.91943359375,\n",
       "  1003.1429443359375,\n",
       "  997.2888793945312,\n",
       "  2339.016845703125,\n",
       "  1808.1917724609375,\n",
       "  2021.947509765625,\n",
       "  1219.575927734375,\n",
       "  1219.6029052734375,\n",
       "  806.7138061523438,\n",
       "  953.0828247070312],\n",
       " 'val_r2_score': [0.9725749492645264,\n",
       "  0.9757806658744812,\n",
       "  0.9759219884872437,\n",
       "  0.9435279965400696,\n",
       "  0.956343948841095,\n",
       "  0.9511831998825073,\n",
       "  0.9705551862716675,\n",
       "  0.970554530620575,\n",
       "  0.9805231094360352,\n",
       "  0.9769892692565918]}"
      ]
     },
     "execution_count": 20,
     "metadata": {},
     "output_type": "execute_result"
    }
   ],
   "source": [
    "history.history"
   ]
  },
  {
   "cell_type": "code",
   "execution_count": 22,
   "id": "e972fdb3",
   "metadata": {},
   "outputs": [
    {
     "data": {
      "text/plain": [
       "<matplotlib.legend.Legend at 0x22d4e2bc7d0>"
      ]
     },
     "execution_count": 22,
     "metadata": {},
     "output_type": "execute_result"
    },
    {
     "data": {
      "image/png": "[encoded data removed]",
      "text/plain": [
       "<Figure size 640x480 with 1 Axes>"
      ]
     },
     "metadata": {},
     "output_type": "display_data"
    }
   ],
   "source": [
    "plt.plot(range(1,11), history.history['loss'], label = 'Training loss')\n",
    "plt.plot(range(1,11), history.history['val_loss'], label = 'Validattion loss')\n",
    "plt.legend()"
   ]
  },
  {
   "cell_type": "markdown",
   "id": "f43b3705",
   "metadata": {},
   "source": [
    "**Prediction**"
   ]
  },
  {
   "cell_type": "code",
   "execution_count": 23,
   "id": "4015303a",
   "metadata": {},
   "outputs": [
    {
     "name": "stdout",
     "output_type": "stream",
     "text": [
      "\u001b[1m19/19\u001b[0m \u001b[32m━━━━━━━━━━━━━━━━━━━━\u001b[0m\u001b[37m\u001b[0m \u001b[1m0s\u001b[0m 7ms/step\n"
     ]
    },
    {
     "data": {
      "text/plain": [
       "array([[-2.08827934e+01],\n",
       "       [-6.96562500e+01],\n",
       "       [ 1.54897041e+01],\n",
       "       [-3.54280762e+02],\n",
       "       [-3.14661011e+02],\n",
       "       [-7.72986450e+01],\n",
       "       [ 1.29971146e+02],\n",
       "       [ 2.57352295e+02],\n",
       "       [-1.19642166e+02],\n",
       "       [-5.29953346e+01],\n",
       "       [ 3.68576843e+02],\n",
       "       [ 1.54885452e+02],\n",
       "       [-3.91068878e+02],\n",
       "       [ 1.08905251e+02],\n",
       "       [-4.52969322e+01],\n",
       "       [ 3.67896790e+02],\n",
       "       [ 8.71824493e+01],\n",
       "       [ 1.55268417e+02],\n",
       "       [ 2.41150497e+02],\n",
       "       [-2.92473755e+02],\n",
       "       [-3.32386446e+00],\n",
       "       [-2.28911257e+00],\n",
       "       [-6.66892471e+01],\n",
       "       [ 1.55249512e+02],\n",
       "       [ 1.12400368e+02],\n",
       "       [-7.18720398e+01],\n",
       "       [-1.46941559e+02],\n",
       "       [-4.41828585e+00],\n",
       "       [-6.13016939e+00],\n",
       "       [ 5.63308754e+01],\n",
       "       [-3.91032349e+02],\n",
       "       [-1.33700142e+01],\n",
       "       [ 1.37299423e+02],\n",
       "       [ 7.46876373e+01],\n",
       "       [-1.95756363e+02],\n",
       "       [-2.98588806e+02],\n",
       "       [ 2.07710838e+01],\n",
       "       [ 1.39494522e+02],\n",
       "       [ 3.04931946e+02],\n",
       "       [ 2.46804611e+02],\n",
       "       [ 1.13369186e+02],\n",
       "       [ 4.63730354e+01],\n",
       "       [ 3.04567833e+01],\n",
       "       [ 2.37566574e+02],\n",
       "       [ 1.05596199e+02],\n",
       "       [-1.88009262e+02],\n",
       "       [-3.02297607e+02],\n",
       "       [ 1.07429840e+02],\n",
       "       [-3.50009277e+02],\n",
       "       [-2.77923157e+02],\n",
       "       [-1.36009865e+01],\n",
       "       [ 3.68554688e+02],\n",
       "       [ 3.67760986e+02],\n",
       "       [ 1.56218430e+02],\n",
       "       [-3.01872986e+02],\n",
       "       [-3.91009827e+02],\n",
       "       [-1.67914856e+02],\n",
       "       [-3.86035583e+02],\n",
       "       [-1.82192917e+02],\n",
       "       [ 9.98713970e-01],\n",
       "       [-2.28963486e+02],\n",
       "       [-2.69080315e+01],\n",
       "       [ 3.77917290e-02],\n",
       "       [-1.14318230e+02],\n",
       "       [-2.36134171e+02],\n",
       "       [-1.13973701e+02],\n",
       "       [ 2.75969734e+01],\n",
       "       [ 1.15902214e+02],\n",
       "       [-1.67117844e+02],\n",
       "       [-3.13353760e+02],\n",
       "       [ 3.54179802e+01],\n",
       "       [ 1.48963791e+02],\n",
       "       [-1.47287247e+02],\n",
       "       [-9.31606216e+01],\n",
       "       [-1.85547943e+02],\n",
       "       [-4.92482262e+01],\n",
       "       [ 1.86407661e+01],\n",
       "       [ 1.43288452e+02],\n",
       "       [-1.91273422e+02],\n",
       "       [-2.69349792e+02],\n",
       "       [ 1.18907249e+02],\n",
       "       [ 1.26899025e+02],\n",
       "       [ 7.19207535e+01],\n",
       "       [ 9.42922592e+01],\n",
       "       [ 2.31717720e+01],\n",
       "       [-4.83232079e+01],\n",
       "       [ 1.40213272e+02],\n",
       "       [-7.42983675e+00],\n",
       "       [ 5.46780510e+01],\n",
       "       [-9.88234482e+01],\n",
       "       [-1.63672470e+02],\n",
       "       [ 1.39851395e+02],\n",
       "       [-6.19376040e+00],\n",
       "       [-6.08455009e+01],\n",
       "       [-7.92754745e+01],\n",
       "       [-1.14335922e+02],\n",
       "       [-1.00718414e+02],\n",
       "       [-8.09172134e+01],\n",
       "       [ 2.60437103e+02],\n",
       "       [-2.41377167e+02],\n",
       "       [-2.26346664e+02],\n",
       "       [-1.71025696e+02],\n",
       "       [ 7.41522369e+01],\n",
       "       [-1.30976242e+02],\n",
       "       [-3.45961342e+01],\n",
       "       [ 2.76021545e+02],\n",
       "       [-2.46071945e+02],\n",
       "       [ 3.78680229e-02],\n",
       "       [-2.34129822e+02],\n",
       "       [-3.44111519e+01],\n",
       "       [ 1.37232849e+02],\n",
       "       [-1.78279922e+02],\n",
       "       [-2.01879440e+02],\n",
       "       [ 1.33667114e+02],\n",
       "       [ 2.93740448e+02],\n",
       "       [-2.47388565e+02],\n",
       "       [ 1.76674164e+02],\n",
       "       [ 2.55416885e+02],\n",
       "       [-3.94430199e+01],\n",
       "       [ 1.54415878e+02],\n",
       "       [-1.11562805e+02],\n",
       "       [-2.11263504e+02],\n",
       "       [-9.43954086e+01],\n",
       "       [-1.03143740e+00],\n",
       "       [ 2.79726372e+01],\n",
       "       [-3.45711184e+00],\n",
       "       [-5.93316002e+01],\n",
       "       [-1.35402893e+02],\n",
       "       [ 2.31211777e+02],\n",
       "       [-1.62171356e+02],\n",
       "       [-1.30729385e+02],\n",
       "       [-5.91434669e+01],\n",
       "       [ 2.36737381e+02],\n",
       "       [-1.01428230e+02],\n",
       "       [-9.72414551e+01],\n",
       "       [ 1.41146545e+02],\n",
       "       [ 1.19099335e+02],\n",
       "       [ 4.92650108e+01],\n",
       "       [-1.94228073e+02],\n",
       "       [-1.34499130e+02],\n",
       "       [ 7.67444611e+01],\n",
       "       [ 1.64651657e+02],\n",
       "       [-2.94971985e+02],\n",
       "       [-1.74719711e+02],\n",
       "       [ 1.26010597e+02],\n",
       "       [-1.30953125e+02],\n",
       "       [ 8.35003433e+01],\n",
       "       [-3.91059143e+02],\n",
       "       [ 3.24812195e+02],\n",
       "       [-1.98291969e+01],\n",
       "       [-3.03067871e+02],\n",
       "       [ 9.74257889e+01],\n",
       "       [-8.88735809e+01],\n",
       "       [ 3.64742798e+02],\n",
       "       [ 2.84618988e+02],\n",
       "       [ 1.03099548e+02],\n",
       "       [ 1.93205322e+02],\n",
       "       [-2.15250107e+02],\n",
       "       [ 3.43094444e+01],\n",
       "       [-8.88520737e+01],\n",
       "       [-1.88613876e+02],\n",
       "       [-2.15400772e+02],\n",
       "       [-9.37188797e+01],\n",
       "       [ 6.14364357e+01],\n",
       "       [-1.93466995e+02],\n",
       "       [-2.06821518e+02],\n",
       "       [-2.16503006e+02],\n",
       "       [ 1.30543777e+02],\n",
       "       [-2.67487244e+02],\n",
       "       [-3.90867065e+02],\n",
       "       [ 4.69862556e+01],\n",
       "       [ 3.74197578e+01],\n",
       "       [ 2.02039078e+02],\n",
       "       [ 1.03337410e+02],\n",
       "       [-1.21720825e+02],\n",
       "       [ 7.51280546e+00],\n",
       "       [ 3.93053246e+01],\n",
       "       [ 1.11397614e+02],\n",
       "       [-1.21380486e+02],\n",
       "       [-2.56813110e+02],\n",
       "       [-5.82981224e+01],\n",
       "       [ 2.88563629e+02],\n",
       "       [-3.47297089e+02],\n",
       "       [ 1.58252350e+02],\n",
       "       [-2.32832657e+02],\n",
       "       [-4.02465248e+01],\n",
       "       [ 2.54295883e+02],\n",
       "       [-3.89918274e+02],\n",
       "       [ 1.44108444e+02],\n",
       "       [ 1.55207687e+02],\n",
       "       [-1.52121323e+02],\n",
       "       [ 3.68576385e+02],\n",
       "       [ 2.41815933e+02],\n",
       "       [-2.08346207e+02],\n",
       "       [-1.04113678e+02],\n",
       "       [ 1.12446274e+02],\n",
       "       [ 3.67216583e+02],\n",
       "       [ 4.35434074e+01],\n",
       "       [-3.08596802e+02],\n",
       "       [-2.92813782e+02],\n",
       "       [ 1.14161263e+02],\n",
       "       [-9.26870804e+01],\n",
       "       [-6.72015839e+01],\n",
       "       [-9.36178207e+00],\n",
       "       [-1.04802734e+02],\n",
       "       [-6.98384523e+00],\n",
       "       [ 2.37932632e+02],\n",
       "       [-1.20075508e+02],\n",
       "       [-3.86339752e+02],\n",
       "       [-2.59433403e+01],\n",
       "       [-7.14351730e+01],\n",
       "       [-9.50058365e+01],\n",
       "       [ 9.26413040e+01],\n",
       "       [-2.76978699e+02],\n",
       "       [-1.36213577e+02],\n",
       "       [ 3.07049469e+02],\n",
       "       [-1.38038910e+02],\n",
       "       [ 1.46583954e+02],\n",
       "       [ 1.44651016e+02],\n",
       "       [ 1.47141525e+02],\n",
       "       [ 1.10106461e+02],\n",
       "       [-1.62482285e+02],\n",
       "       [-4.63739586e+01],\n",
       "       [ 3.68565887e+02],\n",
       "       [-2.07420006e+01],\n",
       "       [ 1.20464394e+02],\n",
       "       [-1.67067825e+02],\n",
       "       [-8.98052368e+01],\n",
       "       [ 4.52783852e+01],\n",
       "       [ 1.33759567e+02],\n",
       "       [-2.81666962e+02],\n",
       "       [ 1.71155457e+02],\n",
       "       [-6.16140633e+01],\n",
       "       [-1.01292133e-01],\n",
       "       [-2.65053596e+01],\n",
       "       [ 2.70097687e+02],\n",
       "       [-5.99618568e+01],\n",
       "       [-1.19288086e+02],\n",
       "       [-3.84477663e+00],\n",
       "       [-1.36700562e+02],\n",
       "       [-3.34464478e+02],\n",
       "       [ 2.56052917e+02],\n",
       "       [-1.21729790e+02],\n",
       "       [-2.62638130e+01],\n",
       "       [ 1.70718718e+00],\n",
       "       [-3.62268494e+02],\n",
       "       [ 2.50405716e+02],\n",
       "       [-8.02681351e+00],\n",
       "       [ 3.68308716e+02],\n",
       "       [-2.52613998e+02],\n",
       "       [-3.11996826e+02],\n",
       "       [ 4.72241783e+01],\n",
       "       [ 1.68216843e+02],\n",
       "       [-1.55379318e+02],\n",
       "       [ 3.66522583e+02],\n",
       "       [ 5.01171608e+01],\n",
       "       [-1.92608139e+02],\n",
       "       [-2.44061951e+02],\n",
       "       [-3.88621887e+02],\n",
       "       [-1.56630737e+02],\n",
       "       [ 1.38587387e+02],\n",
       "       [ 1.41139847e+02],\n",
       "       [ 1.14711617e+02],\n",
       "       [-1.58788010e+02],\n",
       "       [ 6.22855873e+01],\n",
       "       [ 5.54539070e+01],\n",
       "       [-1.82409286e+02],\n",
       "       [-1.31939880e+02],\n",
       "       [ 1.97047531e+02],\n",
       "       [-3.17179047e+02],\n",
       "       [-4.58733940e+01],\n",
       "       [ 3.68576691e+02],\n",
       "       [ 2.71632385e+02],\n",
       "       [-1.70127106e+02],\n",
       "       [-1.27790825e+02],\n",
       "       [ 1.07969765e+02],\n",
       "       [ 2.41054565e+02],\n",
       "       [-1.40038742e+02],\n",
       "       [-7.09833298e+01],\n",
       "       [-1.43653519e+02],\n",
       "       [-2.52928940e+02],\n",
       "       [-2.62943817e+02],\n",
       "       [ 2.42586861e+01],\n",
       "       [ 3.17721977e+01],\n",
       "       [ 3.15433044e+02],\n",
       "       [-1.38397751e+02],\n",
       "       [-3.90062683e+02],\n",
       "       [-1.07399445e+02],\n",
       "       [-1.57498032e+02],\n",
       "       [ 3.52617004e+02],\n",
       "       [-7.19415283e+01],\n",
       "       [ 1.61092880e+02],\n",
       "       [-3.72827492e+01],\n",
       "       [-8.55583038e+01],\n",
       "       [-7.07520218e+01],\n",
       "       [-2.76065308e+02],\n",
       "       [ 2.46149826e+02],\n",
       "       [-9.87185059e+01],\n",
       "       [-1.88703857e+02],\n",
       "       [-2.19417175e+02],\n",
       "       [-9.84360123e+00],\n",
       "       [ 1.50996567e+02],\n",
       "       [-1.19463531e+02],\n",
       "       [ 1.99667618e+02],\n",
       "       [ 1.43431900e+02],\n",
       "       [-8.93494034e+00],\n",
       "       [ 1.14209961e+02],\n",
       "       [-7.86491089e+01],\n",
       "       [ 3.68463684e+02],\n",
       "       [ 8.74537888e+01],\n",
       "       [ 1.36149750e+02],\n",
       "       [-6.59765091e+01],\n",
       "       [ 1.15586906e+02],\n",
       "       [ 3.52428703e+01],\n",
       "       [ 1.48042160e+02],\n",
       "       [-1.49517174e+01],\n",
       "       [-1.26876495e+02],\n",
       "       [ 3.63860901e+02],\n",
       "       [ 1.09982376e+02],\n",
       "       [-3.50243835e+02],\n",
       "       [-9.87947464e+00],\n",
       "       [-9.56162186e+01],\n",
       "       [ 3.68481506e+02],\n",
       "       [ 4.61783333e+01],\n",
       "       [ 2.52878227e+01],\n",
       "       [-2.95879631e+01],\n",
       "       [ 1.08630173e+02],\n",
       "       [-3.49248169e+02],\n",
       "       [ 2.34568832e+02],\n",
       "       [ 1.18836548e+02],\n",
       "       [ 2.35765427e+02],\n",
       "       [ 1.40913734e+01],\n",
       "       [-2.66835876e+02],\n",
       "       [ 1.03211967e+02],\n",
       "       [-5.96579247e+01],\n",
       "       [ 2.27519150e+02],\n",
       "       [ 2.93904448e+00],\n",
       "       [-1.13184906e+02],\n",
       "       [ 3.49553528e+02],\n",
       "       [-3.18205566e+02],\n",
       "       [-1.37313309e+02],\n",
       "       [-2.61180145e+02],\n",
       "       [ 1.56410904e+02],\n",
       "       [-3.08802887e+02],\n",
       "       [ 1.28027756e+02],\n",
       "       [ 2.15815613e+02],\n",
       "       [-5.64507637e+01],\n",
       "       [-2.94895508e+02],\n",
       "       [ 5.47954063e+01],\n",
       "       [-9.96818390e+01],\n",
       "       [ 1.50215073e+02],\n",
       "       [ 3.68575439e+02],\n",
       "       [-5.52897301e+01],\n",
       "       [ 1.28230179e+02],\n",
       "       [ 4.21892738e+01],\n",
       "       [-3.90398193e+02],\n",
       "       [-1.27866791e+02],\n",
       "       [ 2.18033768e+02],\n",
       "       [ 6.16316109e+01],\n",
       "       [-1.42018753e+02],\n",
       "       [-1.57610550e+02],\n",
       "       [-5.38697929e+01],\n",
       "       [ 1.76388046e+02],\n",
       "       [ 2.37969542e+00],\n",
       "       [-1.97784317e+02],\n",
       "       [ 3.67738525e+02],\n",
       "       [ 2.35902298e+02],\n",
       "       [-2.69673096e+02],\n",
       "       [-2.04491043e+02],\n",
       "       [-2.63497620e+02],\n",
       "       [-1.74205917e+02],\n",
       "       [ 9.04067917e+01],\n",
       "       [ 1.49737663e+01],\n",
       "       [ 3.12084015e+02],\n",
       "       [ 1.61554756e+01],\n",
       "       [ 1.91401779e+02],\n",
       "       [-2.31613731e+01],\n",
       "       [ 5.10499916e+01],\n",
       "       [ 6.98605728e+01],\n",
       "       [-3.06365387e+02],\n",
       "       [-3.27509491e+02],\n",
       "       [-9.46231766e+01],\n",
       "       [-3.90747528e+02],\n",
       "       [ 1.16736542e+02],\n",
       "       [ 1.71302628e+02],\n",
       "       [-2.82575867e+02],\n",
       "       [ 1.57024673e+02],\n",
       "       [-6.90632343e-01],\n",
       "       [-1.94526024e+01],\n",
       "       [ 1.58382378e+01],\n",
       "       [ 4.72206535e+01],\n",
       "       [ 8.38001862e+01],\n",
       "       [-3.64814262e+01],\n",
       "       [ 2.36440720e+02],\n",
       "       [ 3.59259216e+02],\n",
       "       [-1.58899002e+02],\n",
       "       [ 2.84128998e+02],\n",
       "       [-7.99563370e+01],\n",
       "       [ 2.53611771e+02],\n",
       "       [ 2.95329018e+01],\n",
       "       [-1.90396164e+02],\n",
       "       [ 3.53372002e+01],\n",
       "       [-4.45807076e+01],\n",
       "       [ 1.47054398e+02],\n",
       "       [-3.02605247e+01],\n",
       "       [-2.25181412e+02],\n",
       "       [-3.91001892e+02],\n",
       "       [-1.20285843e+02],\n",
       "       [ 1.04109505e+02],\n",
       "       [-6.62867889e+01],\n",
       "       [-1.19564697e+02],\n",
       "       [ 2.69199486e+01],\n",
       "       [ 1.26643715e+02],\n",
       "       [-1.86042618e+02],\n",
       "       [-2.05191544e+02],\n",
       "       [-2.70051460e+01],\n",
       "       [-9.04558105e+01],\n",
       "       [-9.46953659e+01],\n",
       "       [ 1.10121162e+02],\n",
       "       [-1.08896095e+02],\n",
       "       [ 9.86420517e+01],\n",
       "       [ 1.16812714e+02],\n",
       "       [-9.29314117e+01],\n",
       "       [ 3.30376854e+01],\n",
       "       [-1.26211662e+01],\n",
       "       [-5.61787910e+01],\n",
       "       [ 1.10992752e+02],\n",
       "       [ 1.40447922e+02],\n",
       "       [-2.81415527e+02],\n",
       "       [-1.51697296e+02],\n",
       "       [ 1.79742966e+02],\n",
       "       [ 1.02877861e+02],\n",
       "       [ 7.18227539e+01],\n",
       "       [ 4.59857140e+01],\n",
       "       [-3.62454872e+01],\n",
       "       [ 2.33229935e+02],\n",
       "       [ 2.74628265e+02],\n",
       "       [-3.46578003e+02],\n",
       "       [-7.75313644e+01],\n",
       "       [ 2.09778404e+01],\n",
       "       [-3.11912964e+02],\n",
       "       [ 3.68576599e+02],\n",
       "       [-1.93548798e+02],\n",
       "       [ 3.67065918e+02],\n",
       "       [ 3.66075325e+01],\n",
       "       [-2.00157455e+02],\n",
       "       [-3.76348228e+01],\n",
       "       [ 9.63641739e+00],\n",
       "       [-9.27885513e+01],\n",
       "       [-1.74850250e+02],\n",
       "       [-1.45104004e+02],\n",
       "       [-3.10065216e+02],\n",
       "       [-1.20909203e+02],\n",
       "       [-2.13032181e+02],\n",
       "       [ 3.55029846e+02],\n",
       "       [ 5.42203178e+01],\n",
       "       [ 2.81036438e+02],\n",
       "       [-1.16431374e+02],\n",
       "       [ 7.51378326e+01],\n",
       "       [-1.52240189e+02],\n",
       "       [-4.61224403e+01],\n",
       "       [-8.24617996e+01],\n",
       "       [ 1.16021622e+02],\n",
       "       [-1.89796158e+02],\n",
       "       [-2.29228104e+02],\n",
       "       [-3.36581329e+02],\n",
       "       [-2.01744888e+02],\n",
       "       [ 3.51393250e+02],\n",
       "       [-7.27933931e+00],\n",
       "       [ 2.74124084e+02],\n",
       "       [-6.14428377e+00],\n",
       "       [-2.10515488e+02],\n",
       "       [ 1.36844070e+02],\n",
       "       [ 1.33074417e+02],\n",
       "       [ 2.15236187e-01],\n",
       "       [ 3.03283813e+02],\n",
       "       [ 1.73658676e+02],\n",
       "       [ 3.15746887e+02],\n",
       "       [-1.81816696e+02],\n",
       "       [ 2.04221992e+01],\n",
       "       [-1.97719803e+02],\n",
       "       [-1.14156715e+02],\n",
       "       [-2.54124893e+02],\n",
       "       [-3.72122536e+01],\n",
       "       [-9.30775070e+01],\n",
       "       [ 4.38767815e+01],\n",
       "       [-8.62961960e+01],\n",
       "       [-2.29085983e+02],\n",
       "       [-1.88493851e+02],\n",
       "       [-1.78297653e+02],\n",
       "       [ 2.16951485e+01],\n",
       "       [ 6.05846825e+01],\n",
       "       [-2.96971560e+00],\n",
       "       [ 3.68388672e+02],\n",
       "       [-1.83938904e+02],\n",
       "       [ 3.09513054e+01],\n",
       "       [-1.01043367e+00],\n",
       "       [-3.09266113e+02],\n",
       "       [ 2.65530729e+00],\n",
       "       [-3.65605593e+00],\n",
       "       [ 9.47117615e+01],\n",
       "       [-2.81015381e+02],\n",
       "       [ 1.72644363e+02],\n",
       "       [-1.58483185e+02],\n",
       "       [ 1.45087540e+02],\n",
       "       [ 1.33866196e+02],\n",
       "       [ 2.66817808e+00],\n",
       "       [ 1.64923462e+02],\n",
       "       [-1.13093323e+02],\n",
       "       [-1.29931602e+01],\n",
       "       [-7.83650360e+01],\n",
       "       [-5.02183962e+00],\n",
       "       [-2.98963074e+02],\n",
       "       [-8.67606506e+01],\n",
       "       [ 1.15386002e+02],\n",
       "       [ 3.68574524e+02],\n",
       "       [ 3.10069542e+01],\n",
       "       [ 1.89249435e+02],\n",
       "       [-1.66368240e+02],\n",
       "       [ 4.60675774e+01],\n",
       "       [-3.77779350e+01],\n",
       "       [-7.56075668e+01],\n",
       "       [-5.13251925e+00],\n",
       "       [-1.03572128e+02],\n",
       "       [ 1.22196907e+02],\n",
       "       [-2.75220642e+02],\n",
       "       [-1.04063934e+02],\n",
       "       [-1.33832382e+02],\n",
       "       [ 1.22115395e+02],\n",
       "       [-7.34276962e+01],\n",
       "       [ 4.13906136e+01],\n",
       "       [ 1.08910065e+02],\n",
       "       [-1.10630661e+02],\n",
       "       [-8.44585953e+01],\n",
       "       [ 1.07184280e+02],\n",
       "       [-1.80358292e+02],\n",
       "       [-1.18188133e+01],\n",
       "       [ 3.68506256e+02],\n",
       "       [ 5.98898201e+01],\n",
       "       [ 6.84383774e+01],\n",
       "       [-4.82010002e+01],\n",
       "       [ 1.54905380e+02],\n",
       "       [-6.58518982e+01],\n",
       "       [-1.51536789e+02],\n",
       "       [-1.20300560e+01],\n",
       "       [ 9.98450546e+01],\n",
       "       [-1.55567673e+02],\n",
       "       [ 1.64595673e+02],\n",
       "       [ 5.54026451e+01],\n",
       "       [-1.81533783e+02],\n",
       "       [ 1.07466164e+02],\n",
       "       [-3.91024292e+02],\n",
       "       [ 2.56795044e+02],\n",
       "       [-2.99526691e-01],\n",
       "       [ 1.47685165e+02],\n",
       "       [-2.46944857e+00],\n",
       "       [-1.23566025e+02],\n",
       "       [-1.52029938e+02],\n",
       "       [-1.97249008e+02],\n",
       "       [ 2.40533028e+01],\n",
       "       [ 4.42944603e+01],\n",
       "       [ 1.52120880e+02],\n",
       "       [-1.89302048e+02],\n",
       "       [ 5.71787148e+01],\n",
       "       [-2.01554184e+02],\n",
       "       [-6.25881233e+01],\n",
       "       [-2.45945724e+02],\n",
       "       [-1.11302849e+02],\n",
       "       [-1.40699738e+02],\n",
       "       [ 1.19869057e+02],\n",
       "       [-5.50499687e+01],\n",
       "       [ 2.95140259e+02],\n",
       "       [-9.05312271e+01],\n",
       "       [ 1.86388962e+02],\n",
       "       [ 1.19367889e+02],\n",
       "       [-2.05029068e+02],\n",
       "       [ 2.12577438e+02],\n",
       "       [-5.47387362e+00],\n",
       "       [ 2.68474976e+02],\n",
       "       [ 5.59545250e+01],\n",
       "       [ 1.37278793e+02],\n",
       "       [-2.54014168e+01],\n",
       "       [ 1.57296082e+02],\n",
       "       [-3.91068909e+02],\n",
       "       [ 1.13259659e+02],\n",
       "       [-5.15980797e+01],\n",
       "       [ 3.67321716e+02],\n",
       "       [ 2.49731216e+02],\n",
       "       [ 1.51943207e+02],\n",
       "       [ 2.35496048e+02],\n",
       "       [ 1.91285973e+01],\n",
       "       [-1.75018051e+02],\n",
       "       [ 1.45712112e+02],\n",
       "       [-9.79842300e+01],\n",
       "       [ 2.47096115e+02],\n",
       "       [-9.75021515e+01],\n",
       "       [ 1.49707626e+02],\n",
       "       [-1.64691591e+00],\n",
       "       [-4.51466560e+01],\n",
       "       [ 9.59936218e+01]], dtype=float32)"
      ]
     },
     "execution_count": 23,
     "metadata": {},
     "output_type": "execute_result"
    }
   ],
   "source": [
    "model.predict(X_test)"
   ]
  },
  {
   "cell_type": "code",
   "execution_count": 24,
   "id": "22e9276e",
   "metadata": {},
   "outputs": [
    {
     "name": "stdout",
     "output_type": "stream",
     "text": [
      "\u001b[1m19/19\u001b[0m \u001b[32m━━━━━━━━━━━━━━━━━━━━\u001b[0m\u001b[37m\u001b[0m \u001b[1m0s\u001b[0m 3ms/step\n"
     ]
    }
   ],
   "source": [
    "y_pred = model.predict(X_test)"
   ]
  },
  {
   "cell_type": "markdown",
   "id": "1949b4c3",
   "metadata": {},
   "source": [
    "**Model Evaluation**"
   ]
  },
  {
   "cell_type": "code",
   "execution_count": 27,
   "id": "2ed45b07",
   "metadata": {},
   "outputs": [
    {
     "data": {
      "text/plain": [
       "0.9796910029277413"
      ]
     },
     "execution_count": 27,
     "metadata": {},
     "output_type": "execute_result"
    }
   ],
   "source": [
    "metrics.r2_score(y_test, y_pred )"
   ]
  }
 ],
 "metadata": {
  "kernelspec": {
   "display_name": "Python 3 (ipykernel)",
   "language": "python",
   "name": "python3"
  },
  "language_info": {
   "codemirror_mode": {
    "name": "ipython",
    "version": 3
   },
   "file_extension": ".py",
   "mimetype": "text/x-python",
   "name": "python",
   "nbconvert_exporter": "python",
   "pygments_lexer": "ipython3",
   "version": "3.11.4"
  }
 },
 "nbformat": 4,
 "nbformat_minor": 5
}
