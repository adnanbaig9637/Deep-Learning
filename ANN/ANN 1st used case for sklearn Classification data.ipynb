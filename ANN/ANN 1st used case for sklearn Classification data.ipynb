{
 "cells": [
  {
   "cell_type": "markdown",
   "id": "838ec45a",
   "metadata": {},
   "source": [
    "**Type of Loss function in Classification task**\n",
    "* **For Binary Classification--Log Loss Loss Function also called as Binary Cross Entropy Loss Function.**\n",
    "* **For Multiclass Classification-- Multiclass log loss also called as Categorical Cross Entropy. OHE is necessory**\n",
    "* **For Multiclass classification-- Sparse Categorical Cross Entropy. Integer Based Encoding is necessory.**"
   ]
  },
  {
   "cell_type": "markdown",
   "id": "959e45d4",
   "metadata": {},
   "source": [
    "### Binary Cross Classification"
   ]
  },
  {
   "cell_type": "markdown",
   "id": "853c39b0",
   "metadata": {},
   "source": [
    "**Importing Libraries**"
   ]
  },
  {
   "cell_type": "code",
   "execution_count": 1,
   "id": "6d49fa18",
   "metadata": {},
   "outputs": [],
   "source": [
    "import pandas as pd\n",
    "import numpy as np\n",
    "import seaborn as sns\n",
    "import matplotlib.pyplot as plt\n",
    "\n",
    "import sklearn\n",
    "from sklearn.model_selection import train_test_split\n",
    "from sklearn.preprocessing import StandardScaler\n",
    "from sklearn import metrics\n",
    "from sklearn.datasets import make_classification\n",
    "\n",
    "import tensorflow\n",
    "import keras\n",
    "from keras.models import Sequential\n",
    "from keras.optimizers import SGD\n",
    "from keras.layers import InputLayer, Dense"
   ]
  },
  {
   "cell_type": "markdown",
   "id": "8466da0b",
   "metadata": {},
   "source": [
    "**Creating Classification Dataset**"
   ]
  },
  {
   "cell_type": "code",
   "execution_count": 2,
   "id": "612782ab",
   "metadata": {},
   "outputs": [],
   "source": [
    "X,y = make_classification(n_samples=3000, n_features=20, n_classes=2 )"
   ]
  },
  {
   "cell_type": "code",
   "execution_count": 3,
   "id": "6396bf71",
   "metadata": {},
   "outputs": [
    {
     "data": {
      "text/plain": [
       "(3000, 20)"
      ]
     },
     "execution_count": 3,
     "metadata": {},
     "output_type": "execute_result"
    }
   ],
   "source": [
    "X.shape"
   ]
  },
  {
   "cell_type": "code",
   "execution_count": 4,
   "id": "1f2ccaa1",
   "metadata": {},
   "outputs": [
    {
     "data": {
      "text/plain": [
       "(3000,)"
      ]
     },
     "execution_count": 4,
     "metadata": {},
     "output_type": "execute_result"
    }
   ],
   "source": [
    "y.shape"
   ]
  },
  {
   "cell_type": "code",
   "execution_count": 6,
   "id": "d0cf794e",
   "metadata": {},
   "outputs": [
    {
     "data": {
      "text/plain": [
       "array([0, 1, 1, ..., 1, 1, 0])"
      ]
     },
     "execution_count": 6,
     "metadata": {},
     "output_type": "execute_result"
    }
   ],
   "source": [
    "y\n",
    "#For sparse"
   ]
  },
  {
   "cell_type": "code",
   "execution_count": 7,
   "id": "90a9eb8d",
   "metadata": {},
   "outputs": [
    {
     "data": {
      "text/plain": [
       "(2400, 20)"
      ]
     },
     "execution_count": 7,
     "metadata": {},
     "output_type": "execute_result"
    }
   ],
   "source": [
    "X_train, X_test, y_train, y_test = train_test_split(X, y, test_size=0.2, random_state=10)\n",
    "\n",
    "X_train.shape"
   ]
  },
  {
   "cell_type": "code",
   "execution_count": 8,
   "id": "6049a103",
   "metadata": {},
   "outputs": [
    {
     "data": {
      "text/plain": [
       "(600, 20)"
      ]
     },
     "execution_count": 8,
     "metadata": {},
     "output_type": "execute_result"
    }
   ],
   "source": [
    "X_test.shape"
   ]
  },
  {
   "cell_type": "markdown",
   "id": "52461c2b",
   "metadata": {},
   "source": [
    "**Binary Cross Entropy**"
   ]
  },
  {
   "cell_type": "code",
   "execution_count": 14,
   "id": "4935d69c",
   "metadata": {},
   "outputs": [],
   "source": [
    "model = Sequential()\n",
    "\n",
    "model.add(InputLayer(input_shape=(20,)))\n",
    "model.add(Dense(units=4, activation='sigmoid', use_bias=True))\n",
    "model.add(Dense(units=6, activation='sigmoid', use_bias=True))\n",
    "model.add(Dense(units=1, activation='sigmoid', use_bias=True))"
   ]
  },
  {
   "cell_type": "code",
   "execution_count": 15,
   "id": "b0772cc5",
   "metadata": {},
   "outputs": [
    {
     "data": {
      "text/html": [
       "<pre style=\"white-space:pre;overflow-x:auto;line-height:normal;font-family:Menlo,'DejaVu Sans Mono',consolas,'Courier New',monospace\"><span style=\"font-weight: bold\">Model: \"sequential_3\"</span>\n",
       "</pre>\n"
      ],
      "text/plain": [
       "\u001b[1mModel: \"sequential_3\"\u001b[0m\n"
      ]
     },
     "metadata": {},
     "output_type": "display_data"
    },
    {
     "data": {
      "text/html": [
       "<pre style=\"white-space:pre;overflow-x:auto;line-height:normal;font-family:Menlo,'DejaVu Sans Mono',consolas,'Courier New',monospace\">┏━━━━━━━━━━━━━━━━━━━━━━━━━━━━━━━━━━━━━━┳━━━━━━━━━━━━━━━━━━━━━━━━━━━━━┳━━━━━━━━━━━━━━━━━┓\n",
       "┃<span style=\"font-weight: bold\"> Layer (type)                         </span>┃<span style=\"font-weight: bold\"> Output Shape                </span>┃<span style=\"font-weight: bold\">         Param # </span>┃\n",
       "┡━━━━━━━━━━━━━━━━━━━━━━━━━━━━━━━━━━━━━━╇━━━━━━━━━━━━━━━━━━━━━━━━━━━━━╇━━━━━━━━━━━━━━━━━┩\n",
       "│ dense_3 (<span style=\"color: #0087ff; text-decoration-color: #0087ff\">Dense</span>)                      │ (<span style=\"color: #00d7ff; text-decoration-color: #00d7ff\">None</span>, <span style=\"color: #00af00; text-decoration-color: #00af00\">4</span>)                   │              <span style=\"color: #00af00; text-decoration-color: #00af00\">84</span> │\n",
       "├──────────────────────────────────────┼─────────────────────────────┼─────────────────┤\n",
       "│ dense_4 (<span style=\"color: #0087ff; text-decoration-color: #0087ff\">Dense</span>)                      │ (<span style=\"color: #00d7ff; text-decoration-color: #00d7ff\">None</span>, <span style=\"color: #00af00; text-decoration-color: #00af00\">6</span>)                   │              <span style=\"color: #00af00; text-decoration-color: #00af00\">30</span> │\n",
       "├──────────────────────────────────────┼─────────────────────────────┼─────────────────┤\n",
       "│ dense_5 (<span style=\"color: #0087ff; text-decoration-color: #0087ff\">Dense</span>)                      │ (<span style=\"color: #00d7ff; text-decoration-color: #00d7ff\">None</span>, <span style=\"color: #00af00; text-decoration-color: #00af00\">1</span>)                   │               <span style=\"color: #00af00; text-decoration-color: #00af00\">7</span> │\n",
       "└──────────────────────────────────────┴─────────────────────────────┴─────────────────┘\n",
       "</pre>\n"
      ],
      "text/plain": [
       "┏━━━━━━━━━━━━━━━━━━━━━━━━━━━━━━━━━━━━━━┳━━━━━━━━━━━━━━━━━━━━━━━━━━━━━┳━━━━━━━━━━━━━━━━━┓\n",
       "┃\u001b[1m \u001b[0m\u001b[1mLayer (type)                        \u001b[0m\u001b[1m \u001b[0m┃\u001b[1m \u001b[0m\u001b[1mOutput Shape               \u001b[0m\u001b[1m \u001b[0m┃\u001b[1m \u001b[0m\u001b[1m        Param #\u001b[0m\u001b[1m \u001b[0m┃\n",
       "┡━━━━━━━━━━━━━━━━━━━━━━━━━━━━━━━━━━━━━━╇━━━━━━━━━━━━━━━━━━━━━━━━━━━━━╇━━━━━━━━━━━━━━━━━┩\n",
       "│ dense_3 (\u001b[38;5;33mDense\u001b[0m)                      │ (\u001b[38;5;45mNone\u001b[0m, \u001b[38;5;34m4\u001b[0m)                   │              \u001b[38;5;34m84\u001b[0m │\n",
       "├──────────────────────────────────────┼─────────────────────────────┼─────────────────┤\n",
       "│ dense_4 (\u001b[38;5;33mDense\u001b[0m)                      │ (\u001b[38;5;45mNone\u001b[0m, \u001b[38;5;34m6\u001b[0m)                   │              \u001b[38;5;34m30\u001b[0m │\n",
       "├──────────────────────────────────────┼─────────────────────────────┼─────────────────┤\n",
       "│ dense_5 (\u001b[38;5;33mDense\u001b[0m)                      │ (\u001b[38;5;45mNone\u001b[0m, \u001b[38;5;34m1\u001b[0m)                   │               \u001b[38;5;34m7\u001b[0m │\n",
       "└──────────────────────────────────────┴─────────────────────────────┴─────────────────┘\n"
      ]
     },
     "metadata": {},
     "output_type": "display_data"
    },
    {
     "data": {
      "text/html": [
       "<pre style=\"white-space:pre;overflow-x:auto;line-height:normal;font-family:Menlo,'DejaVu Sans Mono',consolas,'Courier New',monospace\"><span style=\"font-weight: bold\"> Total params: </span><span style=\"color: #00af00; text-decoration-color: #00af00\">121</span> (484.00 B)\n",
       "</pre>\n"
      ],
      "text/plain": [
       "\u001b[1m Total params: \u001b[0m\u001b[38;5;34m121\u001b[0m (484.00 B)\n"
      ]
     },
     "metadata": {},
     "output_type": "display_data"
    },
    {
     "data": {
      "text/html": [
       "<pre style=\"white-space:pre;overflow-x:auto;line-height:normal;font-family:Menlo,'DejaVu Sans Mono',consolas,'Courier New',monospace\"><span style=\"font-weight: bold\"> Trainable params: </span><span style=\"color: #00af00; text-decoration-color: #00af00\">121</span> (484.00 B)\n",
       "</pre>\n"
      ],
      "text/plain": [
       "\u001b[1m Trainable params: \u001b[0m\u001b[38;5;34m121\u001b[0m (484.00 B)\n"
      ]
     },
     "metadata": {},
     "output_type": "display_data"
    },
    {
     "data": {
      "text/html": [
       "<pre style=\"white-space:pre;overflow-x:auto;line-height:normal;font-family:Menlo,'DejaVu Sans Mono',consolas,'Courier New',monospace\"><span style=\"font-weight: bold\"> Non-trainable params: </span><span style=\"color: #00af00; text-decoration-color: #00af00\">0</span> (0.00 B)\n",
       "</pre>\n"
      ],
      "text/plain": [
       "\u001b[1m Non-trainable params: \u001b[0m\u001b[38;5;34m0\u001b[0m (0.00 B)\n"
      ]
     },
     "metadata": {},
     "output_type": "display_data"
    }
   ],
   "source": [
    "model.summary()"
   ]
  },
  {
   "cell_type": "code",
   "execution_count": 17,
   "id": "96c0a60b",
   "metadata": {},
   "outputs": [],
   "source": [
    "sgd = SGD(learning_rate=0.001)"
   ]
  },
  {
   "cell_type": "code",
   "execution_count": 18,
   "id": "18dfbb8a",
   "metadata": {},
   "outputs": [],
   "source": [
    "from keras.metrics import F1Score, Precision, Accuracy"
   ]
  },
  {
   "cell_type": "code",
   "execution_count": 25,
   "id": "074b7790",
   "metadata": {},
   "outputs": [],
   "source": [
    "model.compile(optimizer=sgd, loss ='binary_crossentropy', metrics=['accuracy'])"
   ]
  },
  {
   "cell_type": "code",
   "execution_count": 26,
   "id": "452e9d8b",
   "metadata": {},
   "outputs": [
    {
     "name": "stdout",
     "output_type": "stream",
     "text": [
      "Epoch 1/10\n",
      "\u001b[1m192/192\u001b[0m \u001b[32m━━━━━━━━━━━━━━━━━━━━\u001b[0m\u001b[37m\u001b[0m \u001b[1m2s\u001b[0m 5ms/step - accuracy: 0.6571 - loss: 0.6773 - val_accuracy: 0.6438 - val_loss: 0.6790\n",
      "Epoch 2/10\n",
      "\u001b[1m192/192\u001b[0m \u001b[32m━━━━━━━━━━━━━━━━━━━━\u001b[0m\u001b[37m\u001b[0m \u001b[1m1s\u001b[0m 3ms/step - accuracy: 0.6819 - loss: 0.6744 - val_accuracy: 0.6458 - val_loss: 0.6786\n",
      "Epoch 3/10\n",
      "\u001b[1m192/192\u001b[0m \u001b[32m━━━━━━━━━━━━━━━━━━━━\u001b[0m\u001b[37m\u001b[0m \u001b[1m1s\u001b[0m 3ms/step - accuracy: 0.6518 - loss: 0.6770 - val_accuracy: 0.6458 - val_loss: 0.6783\n",
      "Epoch 4/10\n",
      "\u001b[1m192/192\u001b[0m \u001b[32m━━━━━━━━━━━━━━━━━━━━\u001b[0m\u001b[37m\u001b[0m \u001b[1m1s\u001b[0m 4ms/step - accuracy: 0.6688 - loss: 0.6754 - val_accuracy: 0.6521 - val_loss: 0.6779\n",
      "Epoch 5/10\n",
      "\u001b[1m192/192\u001b[0m \u001b[32m━━━━━━━━━━━━━━━━━━━━\u001b[0m\u001b[37m\u001b[0m \u001b[1m1s\u001b[0m 4ms/step - accuracy: 0.6739 - loss: 0.6751 - val_accuracy: 0.6562 - val_loss: 0.6776\n",
      "Epoch 6/10\n",
      "\u001b[1m192/192\u001b[0m \u001b[32m━━━━━━━━━━━━━━━━━━━━\u001b[0m\u001b[37m\u001b[0m \u001b[1m1s\u001b[0m 4ms/step - accuracy: 0.6898 - loss: 0.6733 - val_accuracy: 0.6562 - val_loss: 0.6772\n",
      "Epoch 7/10\n",
      "\u001b[1m192/192\u001b[0m \u001b[32m━━━━━━━━━━━━━━━━━━━━\u001b[0m\u001b[37m\u001b[0m \u001b[1m1s\u001b[0m 4ms/step - accuracy: 0.6857 - loss: 0.6730 - val_accuracy: 0.6562 - val_loss: 0.6768\n",
      "Epoch 8/10\n",
      "\u001b[1m192/192\u001b[0m \u001b[32m━━━━━━━━━━━━━━━━━━━━\u001b[0m\u001b[37m\u001b[0m \u001b[1m1s\u001b[0m 3ms/step - accuracy: 0.6749 - loss: 0.6739 - val_accuracy: 0.6562 - val_loss: 0.6765\n",
      "Epoch 9/10\n",
      "\u001b[1m192/192\u001b[0m \u001b[32m━━━━━━━━━━━━━━━━━━━━\u001b[0m\u001b[37m\u001b[0m \u001b[1m1s\u001b[0m 3ms/step - accuracy: 0.6738 - loss: 0.6739 - val_accuracy: 0.6583 - val_loss: 0.6761\n",
      "Epoch 10/10\n",
      "\u001b[1m192/192\u001b[0m \u001b[32m━━━━━━━━━━━━━━━━━━━━\u001b[0m\u001b[37m\u001b[0m \u001b[1m1s\u001b[0m 3ms/step - accuracy: 0.6884 - loss: 0.6737 - val_accuracy: 0.6583 - val_loss: 0.6757\n"
     ]
    }
   ],
   "source": [
    "history = model.fit(X_train, y_train, batch_size=10, epochs=10, validation_split=0.2)"
   ]
  },
  {
   "cell_type": "code",
   "execution_count": 27,
   "id": "0f48fcb3",
   "metadata": {},
   "outputs": [
    {
     "data": {
      "text/plain": [
       "{'accuracy': [0.6645833253860474,\n",
       "  0.6661458611488342,\n",
       "  0.6630208492279053,\n",
       "  0.6666666865348816,\n",
       "  0.675000011920929,\n",
       "  0.6697916388511658,\n",
       "  0.6755208373069763,\n",
       "  0.6770833134651184,\n",
       "  0.6796875,\n",
       "  0.6807291507720947],\n",
       " 'loss': [0.6767284870147705,\n",
       "  0.6763737201690674,\n",
       "  0.6760299801826477,\n",
       "  0.6756690740585327,\n",
       "  0.6753095984458923,\n",
       "  0.6749398112297058,\n",
       "  0.6745688915252686,\n",
       "  0.6741994619369507,\n",
       "  0.6738078594207764,\n",
       "  0.6734253168106079],\n",
       " 'val_accuracy': [0.643750011920929,\n",
       "  0.6458333134651184,\n",
       "  0.6458333134651184,\n",
       "  0.6520833373069763,\n",
       "  0.65625,\n",
       "  0.65625,\n",
       "  0.65625,\n",
       "  0.65625,\n",
       "  0.6583333611488342,\n",
       "  0.6583333611488342],\n",
       " 'val_loss': [0.678955614566803,\n",
       "  0.6786082983016968,\n",
       "  0.6782671213150024,\n",
       "  0.6779035925865173,\n",
       "  0.677560567855835,\n",
       "  0.6771848201751709,\n",
       "  0.6768271923065186,\n",
       "  0.6764583587646484,\n",
       "  0.6760966181755066,\n",
       "  0.6757187247276306]}"
      ]
     },
     "execution_count": 27,
     "metadata": {},
     "output_type": "execute_result"
    }
   ],
   "source": [
    "history.history"
   ]
  },
  {
   "cell_type": "code",
   "execution_count": 29,
   "id": "9447077e",
   "metadata": {},
   "outputs": [
    {
     "data": {
      "text/plain": [
       "<matplotlib.legend.Legend at 0x133d5474c10>"
      ]
     },
     "execution_count": 29,
     "metadata": {},
     "output_type": "execute_result"
    },
    {
     "data": {
      "image/png": "[encoded data removed]",
      "text/plain": [
       "<Figure size 640x480 with 1 Axes>"
      ]
     },
     "metadata": {},
     "output_type": "display_data"
    }
   ],
   "source": [
    "plt.plot(range(1,11), history.history['loss'], label = 'Training loss')\n",
    "plt.plot(range(1,11), history.history['val_accuracy'], label = 'Validattion loss')\n",
    "plt.legend()"
   ]
  },
  {
   "cell_type": "markdown",
   "id": "26ea6764",
   "metadata": {},
   "source": [
    "**Prediction**"
   ]
  },
  {
   "cell_type": "code",
   "execution_count": 30,
   "id": "ef62adf6",
   "metadata": {},
   "outputs": [
    {
     "name": "stdout",
     "output_type": "stream",
     "text": [
      "\u001b[1m19/19\u001b[0m \u001b[32m━━━━━━━━━━━━━━━━━━━━\u001b[0m\u001b[37m\u001b[0m \u001b[1m0s\u001b[0m 6ms/step\n"
     ]
    },
    {
     "data": {
      "text/plain": [
       "array([[0.4672876 ],\n",
       "       [0.46574306],\n",
       "       [0.4726326 ],\n",
       "       [0.49743918],\n",
       "       [0.5130811 ],\n",
       "       [0.5397128 ],\n",
       "       [0.48088416],\n",
       "       [0.48146844],\n",
       "       [0.49101526],\n",
       "       [0.52638155],\n",
       "       [0.48902532],\n",
       "       [0.5342828 ],\n",
       "       [0.4845991 ],\n",
       "       [0.4840456 ],\n",
       "       [0.4985901 ],\n",
       "       [0.53384423],\n",
       "       [0.5378103 ],\n",
       "       [0.525396  ],\n",
       "       [0.46578804],\n",
       "       [0.48769617],\n",
       "       [0.459102  ],\n",
       "       [0.5452011 ],\n",
       "       [0.46880275],\n",
       "       [0.54615235],\n",
       "       [0.4819449 ],\n",
       "       [0.4952479 ],\n",
       "       [0.53815067],\n",
       "       [0.52594924],\n",
       "       [0.4959753 ],\n",
       "       [0.5102338 ],\n",
       "       [0.48657534],\n",
       "       [0.4832652 ],\n",
       "       [0.50309956],\n",
       "       [0.49568146],\n",
       "       [0.50406355],\n",
       "       [0.48469338],\n",
       "       [0.48164716],\n",
       "       [0.4517898 ],\n",
       "       [0.46433702],\n",
       "       [0.5458818 ],\n",
       "       [0.51414096],\n",
       "       [0.52602684],\n",
       "       [0.49479327],\n",
       "       [0.475079  ],\n",
       "       [0.4884198 ],\n",
       "       [0.5380374 ],\n",
       "       [0.51168597],\n",
       "       [0.49861395],\n",
       "       [0.5108601 ],\n",
       "       [0.5170536 ],\n",
       "       [0.4939914 ],\n",
       "       [0.5129061 ],\n",
       "       [0.511719  ],\n",
       "       [0.46018824],\n",
       "       [0.4779932 ],\n",
       "       [0.52010536],\n",
       "       [0.52361894],\n",
       "       [0.50723565],\n",
       "       [0.5278076 ],\n",
       "       [0.46268243],\n",
       "       [0.5473373 ],\n",
       "       [0.51901937],\n",
       "       [0.45822096],\n",
       "       [0.51237285],\n",
       "       [0.5334267 ],\n",
       "       [0.51030827],\n",
       "       [0.4789081 ],\n",
       "       [0.4811574 ],\n",
       "       [0.49935606],\n",
       "       [0.48851407],\n",
       "       [0.49321812],\n",
       "       [0.53053176],\n",
       "       [0.50110185],\n",
       "       [0.48187885],\n",
       "       [0.4729576 ],\n",
       "       [0.51929694],\n",
       "       [0.5323519 ],\n",
       "       [0.5087909 ],\n",
       "       [0.47493902],\n",
       "       [0.49118686],\n",
       "       [0.48761997],\n",
       "       [0.51121914],\n",
       "       [0.5004841 ],\n",
       "       [0.5017498 ],\n",
       "       [0.52174044],\n",
       "       [0.47476017],\n",
       "       [0.5104085 ],\n",
       "       [0.47329134],\n",
       "       [0.524505  ],\n",
       "       [0.527748  ],\n",
       "       [0.46146598],\n",
       "       [0.5350406 ],\n",
       "       [0.5500648 ],\n",
       "       [0.5078217 ],\n",
       "       [0.5355064 ],\n",
       "       [0.4654189 ],\n",
       "       [0.51704276],\n",
       "       [0.5247433 ],\n",
       "       [0.5094279 ],\n",
       "       [0.47245452],\n",
       "       [0.5209656 ],\n",
       "       [0.52871   ],\n",
       "       [0.52416414],\n",
       "       [0.4869327 ],\n",
       "       [0.46144554],\n",
       "       [0.49207017],\n",
       "       [0.49090293],\n",
       "       [0.47749266],\n",
       "       [0.46033788],\n",
       "       [0.48846915],\n",
       "       [0.49958968],\n",
       "       [0.46580696],\n",
       "       [0.4899628 ],\n",
       "       [0.48139852],\n",
       "       [0.4799226 ],\n",
       "       [0.5288267 ],\n",
       "       [0.4902553 ],\n",
       "       [0.48584664],\n",
       "       [0.50782335],\n",
       "       [0.52236617],\n",
       "       [0.5408492 ],\n",
       "       [0.49593973],\n",
       "       [0.5239674 ],\n",
       "       [0.47566432],\n",
       "       [0.48458666],\n",
       "       [0.55000764],\n",
       "       [0.5057502 ],\n",
       "       [0.5198504 ],\n",
       "       [0.4975971 ],\n",
       "       [0.5406801 ],\n",
       "       [0.5270394 ],\n",
       "       [0.50358284],\n",
       "       [0.5035368 ],\n",
       "       [0.5101074 ],\n",
       "       [0.4824064 ],\n",
       "       [0.49634007],\n",
       "       [0.5498599 ],\n",
       "       [0.52784485],\n",
       "       [0.5359731 ],\n",
       "       [0.5086191 ],\n",
       "       [0.46851137],\n",
       "       [0.5146376 ],\n",
       "       [0.46713534],\n",
       "       [0.5033815 ],\n",
       "       [0.48236826],\n",
       "       [0.5221095 ],\n",
       "       [0.47429317],\n",
       "       [0.49702215],\n",
       "       [0.521678  ],\n",
       "       [0.5029949 ],\n",
       "       [0.5301045 ],\n",
       "       [0.47997192],\n",
       "       [0.51041555],\n",
       "       [0.5152267 ],\n",
       "       [0.5278215 ],\n",
       "       [0.4787606 ],\n",
       "       [0.50849783],\n",
       "       [0.5063693 ],\n",
       "       [0.46774173],\n",
       "       [0.48767307],\n",
       "       [0.47603375],\n",
       "       [0.47775096],\n",
       "       [0.512655  ],\n",
       "       [0.5149991 ],\n",
       "       [0.53243446],\n",
       "       [0.4844734 ],\n",
       "       [0.5287255 ],\n",
       "       [0.5070847 ],\n",
       "       [0.47968566],\n",
       "       [0.49848646],\n",
       "       [0.541301  ],\n",
       "       [0.47499546],\n",
       "       [0.50741315],\n",
       "       [0.49031508],\n",
       "       [0.5255841 ],\n",
       "       [0.52620286],\n",
       "       [0.54727316],\n",
       "       [0.52619064],\n",
       "       [0.4606172 ],\n",
       "       [0.502231  ],\n",
       "       [0.50783294],\n",
       "       [0.50226367],\n",
       "       [0.5318564 ],\n",
       "       [0.48580885],\n",
       "       [0.46220264],\n",
       "       [0.50314224],\n",
       "       [0.5389499 ],\n",
       "       [0.4855148 ],\n",
       "       [0.4957729 ],\n",
       "       [0.48626286],\n",
       "       [0.54212856],\n",
       "       [0.5124714 ],\n",
       "       [0.455057  ],\n",
       "       [0.5067978 ],\n",
       "       [0.4911836 ],\n",
       "       [0.513334  ],\n",
       "       [0.4814751 ],\n",
       "       [0.48666984],\n",
       "       [0.5184737 ],\n",
       "       [0.5436188 ],\n",
       "       [0.49214083],\n",
       "       [0.5489316 ],\n",
       "       [0.48879   ],\n",
       "       [0.46440238],\n",
       "       [0.55235875],\n",
       "       [0.5371337 ],\n",
       "       [0.5237881 ],\n",
       "       [0.54411757],\n",
       "       [0.5229323 ],\n",
       "       [0.48651668],\n",
       "       [0.45833945],\n",
       "       [0.52659   ],\n",
       "       [0.51747775],\n",
       "       [0.5076524 ],\n",
       "       [0.4825022 ],\n",
       "       [0.53049225],\n",
       "       [0.5086599 ],\n",
       "       [0.4808368 ],\n",
       "       [0.5085784 ],\n",
       "       [0.5149726 ],\n",
       "       [0.49489078],\n",
       "       [0.5098386 ],\n",
       "       [0.5350071 ],\n",
       "       [0.48993215],\n",
       "       [0.51126254],\n",
       "       [0.49082354],\n",
       "       [0.47585094],\n",
       "       [0.49541864],\n",
       "       [0.52746034],\n",
       "       [0.4955168 ],\n",
       "       [0.50555503],\n",
       "       [0.4930048 ],\n",
       "       [0.49585393],\n",
       "       [0.5091609 ],\n",
       "       [0.4681364 ],\n",
       "       [0.50595796],\n",
       "       [0.5084988 ],\n",
       "       [0.48351336],\n",
       "       [0.5266975 ],\n",
       "       [0.5039466 ],\n",
       "       [0.5347762 ],\n",
       "       [0.4882059 ],\n",
       "       [0.4892656 ],\n",
       "       [0.47809032],\n",
       "       [0.46314543],\n",
       "       [0.5253636 ],\n",
       "       [0.47674963],\n",
       "       [0.49708232],\n",
       "       [0.5030552 ],\n",
       "       [0.48802537],\n",
       "       [0.5174074 ],\n",
       "       [0.4803222 ],\n",
       "       [0.49820465],\n",
       "       [0.5230931 ],\n",
       "       [0.51490986],\n",
       "       [0.50972855],\n",
       "       [0.48058107],\n",
       "       [0.5248438 ],\n",
       "       [0.47342595],\n",
       "       [0.5122305 ],\n",
       "       [0.49418002],\n",
       "       [0.4798603 ],\n",
       "       [0.5218892 ],\n",
       "       [0.49909988],\n",
       "       [0.46322998],\n",
       "       [0.46069133],\n",
       "       [0.5010959 ],\n",
       "       [0.5000206 ],\n",
       "       [0.52227265],\n",
       "       [0.53444576],\n",
       "       [0.52498627],\n",
       "       [0.48664182],\n",
       "       [0.48548967],\n",
       "       [0.50830436],\n",
       "       [0.47302172],\n",
       "       [0.47264665],\n",
       "       [0.48725107],\n",
       "       [0.4752761 ],\n",
       "       [0.47679687],\n",
       "       [0.47069553],\n",
       "       [0.552619  ],\n",
       "       [0.5508605 ],\n",
       "       [0.4832957 ],\n",
       "       [0.5371293 ],\n",
       "       [0.46172395],\n",
       "       [0.5394988 ],\n",
       "       [0.50198674],\n",
       "       [0.46929428],\n",
       "       [0.49574387],\n",
       "       [0.5121629 ],\n",
       "       [0.47629523],\n",
       "       [0.48009658],\n",
       "       [0.47894958],\n",
       "       [0.4942182 ],\n",
       "       [0.4935079 ],\n",
       "       [0.51224613],\n",
       "       [0.51397777],\n",
       "       [0.52117425],\n",
       "       [0.48981404],\n",
       "       [0.5443285 ],\n",
       "       [0.49041784],\n",
       "       [0.50290775],\n",
       "       [0.5228274 ],\n",
       "       [0.49938074],\n",
       "       [0.51046324],\n",
       "       [0.5251251 ],\n",
       "       [0.4767311 ],\n",
       "       [0.51227427],\n",
       "       [0.5100132 ],\n",
       "       [0.47437358],\n",
       "       [0.52446663],\n",
       "       [0.4700443 ],\n",
       "       [0.50089806],\n",
       "       [0.52061164],\n",
       "       [0.4788558 ],\n",
       "       [0.49073943],\n",
       "       [0.5311603 ],\n",
       "       [0.50591373],\n",
       "       [0.54451907],\n",
       "       [0.48887664],\n",
       "       [0.5386667 ],\n",
       "       [0.5272343 ],\n",
       "       [0.5035378 ],\n",
       "       [0.5245001 ],\n",
       "       [0.49370044],\n",
       "       [0.50973994],\n",
       "       [0.51195586],\n",
       "       [0.49758425],\n",
       "       [0.4646989 ],\n",
       "       [0.54086685],\n",
       "       [0.50064635],\n",
       "       [0.46453473],\n",
       "       [0.468031  ],\n",
       "       [0.49779215],\n",
       "       [0.5117004 ],\n",
       "       [0.5120629 ],\n",
       "       [0.51622546],\n",
       "       [0.4852911 ],\n",
       "       [0.50728893],\n",
       "       [0.48755634],\n",
       "       [0.5106622 ],\n",
       "       [0.5036346 ],\n",
       "       [0.4819121 ],\n",
       "       [0.47693673],\n",
       "       [0.5344932 ],\n",
       "       [0.51915336],\n",
       "       [0.49581817],\n",
       "       [0.4668456 ],\n",
       "       [0.5275254 ],\n",
       "       [0.5016295 ],\n",
       "       [0.48606864],\n",
       "       [0.54504335],\n",
       "       [0.4904739 ],\n",
       "       [0.5387047 ],\n",
       "       [0.50709546],\n",
       "       [0.5330602 ],\n",
       "       [0.53174186],\n",
       "       [0.46015784],\n",
       "       [0.52175653],\n",
       "       [0.46106973],\n",
       "       [0.46915984],\n",
       "       [0.48919302],\n",
       "       [0.46530345],\n",
       "       [0.5422331 ],\n",
       "       [0.45507383],\n",
       "       [0.46576178],\n",
       "       [0.51097363],\n",
       "       [0.5376642 ],\n",
       "       [0.5291525 ],\n",
       "       [0.4822387 ],\n",
       "       [0.5257276 ],\n",
       "       [0.48334423],\n",
       "       [0.5128272 ],\n",
       "       [0.5227595 ],\n",
       "       [0.49271795],\n",
       "       [0.5472585 ],\n",
       "       [0.5346963 ],\n",
       "       [0.48896372],\n",
       "       [0.46735987],\n",
       "       [0.48239407],\n",
       "       [0.5190464 ],\n",
       "       [0.5012999 ],\n",
       "       [0.48662916],\n",
       "       [0.540134  ],\n",
       "       [0.51262224],\n",
       "       [0.47507158],\n",
       "       [0.48429945],\n",
       "       [0.4870914 ],\n",
       "       [0.521869  ],\n",
       "       [0.5563569 ],\n",
       "       [0.53256136],\n",
       "       [0.5122025 ],\n",
       "       [0.46618125],\n",
       "       [0.4897318 ],\n",
       "       [0.480823  ],\n",
       "       [0.54480684],\n",
       "       [0.483735  ],\n",
       "       [0.48549172],\n",
       "       [0.5301869 ],\n",
       "       [0.46095785],\n",
       "       [0.4816821 ],\n",
       "       [0.49875274],\n",
       "       [0.50563   ],\n",
       "       [0.48947278],\n",
       "       [0.5158409 ],\n",
       "       [0.5421535 ],\n",
       "       [0.47928447],\n",
       "       [0.53593946],\n",
       "       [0.46167496],\n",
       "       [0.4756946 ],\n",
       "       [0.47777066],\n",
       "       [0.49404052],\n",
       "       [0.5303125 ],\n",
       "       [0.47657242],\n",
       "       [0.51341176],\n",
       "       [0.48140603],\n",
       "       [0.49427846],\n",
       "       [0.5104587 ],\n",
       "       [0.52169955],\n",
       "       [0.4821828 ],\n",
       "       [0.48939976],\n",
       "       [0.47248682],\n",
       "       [0.47896037],\n",
       "       [0.47425523],\n",
       "       [0.53015995],\n",
       "       [0.5082444 ],\n",
       "       [0.47534376],\n",
       "       [0.52566916],\n",
       "       [0.51255596],\n",
       "       [0.50819576],\n",
       "       [0.4869286 ],\n",
       "       [0.52657604],\n",
       "       [0.5256114 ],\n",
       "       [0.49295726],\n",
       "       [0.50200987],\n",
       "       [0.46816763],\n",
       "       [0.55016327],\n",
       "       [0.5149833 ],\n",
       "       [0.5314673 ],\n",
       "       [0.49082324],\n",
       "       [0.5216924 ],\n",
       "       [0.5545571 ],\n",
       "       [0.53215104],\n",
       "       [0.5364191 ],\n",
       "       [0.5350089 ],\n",
       "       [0.46469998],\n",
       "       [0.51242024],\n",
       "       [0.5043733 ],\n",
       "       [0.4766802 ],\n",
       "       [0.5015166 ],\n",
       "       [0.48886016],\n",
       "       [0.51970446],\n",
       "       [0.52806425],\n",
       "       [0.45972872],\n",
       "       [0.5484288 ],\n",
       "       [0.50358176],\n",
       "       [0.5539237 ],\n",
       "       [0.4877462 ],\n",
       "       [0.52385294],\n",
       "       [0.5485313 ],\n",
       "       [0.49799335],\n",
       "       [0.50448513],\n",
       "       [0.5225426 ],\n",
       "       [0.5029125 ],\n",
       "       [0.48024797],\n",
       "       [0.52227366],\n",
       "       [0.52891994],\n",
       "       [0.4936067 ],\n",
       "       [0.50168645],\n",
       "       [0.5209815 ],\n",
       "       [0.48016095],\n",
       "       [0.5427731 ],\n",
       "       [0.49869323],\n",
       "       [0.50591975],\n",
       "       [0.5147213 ],\n",
       "       [0.4986951 ],\n",
       "       [0.53061557],\n",
       "       [0.5297947 ],\n",
       "       [0.498614  ],\n",
       "       [0.4768071 ],\n",
       "       [0.5502837 ],\n",
       "       [0.52810407],\n",
       "       [0.47505295],\n",
       "       [0.49464753],\n",
       "       [0.5436857 ],\n",
       "       [0.47544122],\n",
       "       [0.5221591 ],\n",
       "       [0.49786228],\n",
       "       [0.52398014],\n",
       "       [0.48215592],\n",
       "       [0.5203779 ],\n",
       "       [0.4845187 ],\n",
       "       [0.492745  ],\n",
       "       [0.5203359 ],\n",
       "       [0.471707  ],\n",
       "       [0.50205725],\n",
       "       [0.5198227 ],\n",
       "       [0.52604973],\n",
       "       [0.4712403 ],\n",
       "       [0.48263365],\n",
       "       [0.5290199 ],\n",
       "       [0.5004052 ],\n",
       "       [0.5345811 ],\n",
       "       [0.5526748 ],\n",
       "       [0.46163577],\n",
       "       [0.47126052],\n",
       "       [0.5165931 ],\n",
       "       [0.5037091 ],\n",
       "       [0.49622947],\n",
       "       [0.49283046],\n",
       "       [0.4647277 ],\n",
       "       [0.47307828],\n",
       "       [0.5341846 ],\n",
       "       [0.49834603],\n",
       "       [0.48027587],\n",
       "       [0.51980793],\n",
       "       [0.52635896],\n",
       "       [0.5017327 ],\n",
       "       [0.52406836],\n",
       "       [0.4776216 ],\n",
       "       [0.53227234],\n",
       "       [0.49968094],\n",
       "       [0.50600135],\n",
       "       [0.46321198],\n",
       "       [0.49051586],\n",
       "       [0.47861898],\n",
       "       [0.51547086],\n",
       "       [0.5141815 ],\n",
       "       [0.49515307],\n",
       "       [0.46436083],\n",
       "       [0.5520941 ],\n",
       "       [0.5063397 ],\n",
       "       [0.5206455 ],\n",
       "       [0.52556145],\n",
       "       [0.5140562 ],\n",
       "       [0.4956039 ],\n",
       "       [0.5119333 ],\n",
       "       [0.49282965],\n",
       "       [0.55388546],\n",
       "       [0.5349741 ],\n",
       "       [0.47539532],\n",
       "       [0.48387277],\n",
       "       [0.49793002],\n",
       "       [0.5049293 ],\n",
       "       [0.49539796],\n",
       "       [0.51998174],\n",
       "       [0.47697482],\n",
       "       [0.5504799 ],\n",
       "       [0.47503102],\n",
       "       [0.517483  ],\n",
       "       [0.52961755],\n",
       "       [0.52367926],\n",
       "       [0.5318714 ],\n",
       "       [0.5029345 ],\n",
       "       [0.5204787 ],\n",
       "       [0.5413374 ],\n",
       "       [0.48555744],\n",
       "       [0.5416665 ],\n",
       "       [0.54906464],\n",
       "       [0.50169367],\n",
       "       [0.5370287 ],\n",
       "       [0.5169786 ],\n",
       "       [0.481041  ],\n",
       "       [0.51950777],\n",
       "       [0.47325107],\n",
       "       [0.49055317],\n",
       "       [0.4944141 ],\n",
       "       [0.47031674],\n",
       "       [0.488705  ],\n",
       "       [0.4978054 ],\n",
       "       [0.50758845],\n",
       "       [0.5046326 ],\n",
       "       [0.49294254],\n",
       "       [0.46840322],\n",
       "       [0.50002754],\n",
       "       [0.49447563],\n",
       "       [0.52847683],\n",
       "       [0.47195372],\n",
       "       [0.48789638],\n",
       "       [0.51847315],\n",
       "       [0.5326818 ],\n",
       "       [0.4565819 ],\n",
       "       [0.47538874],\n",
       "       [0.4840929 ],\n",
       "       [0.4891469 ],\n",
       "       [0.5450337 ],\n",
       "       [0.5149429 ],\n",
       "       [0.4979963 ],\n",
       "       [0.53492534],\n",
       "       [0.49986902],\n",
       "       [0.52383846],\n",
       "       [0.4773131 ],\n",
       "       [0.53478724],\n",
       "       [0.5324609 ],\n",
       "       [0.5096444 ],\n",
       "       [0.50187707],\n",
       "       [0.50556946],\n",
       "       [0.5227461 ],\n",
       "       [0.47484607],\n",
       "       [0.48887894]], dtype=float32)"
      ]
     },
     "execution_count": 30,
     "metadata": {},
     "output_type": "execute_result"
    }
   ],
   "source": [
    "model.predict(X_test)\n",
    "\n",
    "#It giving probablity, for eg there us 0.46 propbablity that there is 1 class\n"
   ]
  },
  {
   "cell_type": "code",
   "execution_count": 33,
   "id": "1c78ad20",
   "metadata": {},
   "outputs": [
    {
     "name": "stdout",
     "output_type": "stream",
     "text": [
      "\u001b[1m19/19\u001b[0m \u001b[32m━━━━━━━━━━━━━━━━━━━━\u001b[0m\u001b[37m\u001b[0m \u001b[1m0s\u001b[0m 2ms/step \n"
     ]
    },
    {
     "data": {
      "text/plain": [
       "array([[0],\n",
       "       [0],\n",
       "       [0],\n",
       "       [0],\n",
       "       [1],\n",
       "       [1],\n",
       "       [0],\n",
       "       [0],\n",
       "       [0],\n",
       "       [1],\n",
       "       [0],\n",
       "       [1],\n",
       "       [0],\n",
       "       [0],\n",
       "       [0],\n",
       "       [1],\n",
       "       [1],\n",
       "       [1],\n",
       "       [0],\n",
       "       [0],\n",
       "       [0],\n",
       "       [1],\n",
       "       [0],\n",
       "       [1],\n",
       "       [0],\n",
       "       [0],\n",
       "       [1],\n",
       "       [1],\n",
       "       [0],\n",
       "       [1],\n",
       "       [0],\n",
       "       [0],\n",
       "       [1],\n",
       "       [0],\n",
       "       [1],\n",
       "       [0],\n",
       "       [0],\n",
       "       [0],\n",
       "       [0],\n",
       "       [1],\n",
       "       [1],\n",
       "       [1],\n",
       "       [0],\n",
       "       [0],\n",
       "       [0],\n",
       "       [1],\n",
       "       [1],\n",
       "       [0],\n",
       "       [1],\n",
       "       [1],\n",
       "       [0],\n",
       "       [1],\n",
       "       [1],\n",
       "       [0],\n",
       "       [0],\n",
       "       [1],\n",
       "       [1],\n",
       "       [1],\n",
       "       [1],\n",
       "       [0],\n",
       "       [1],\n",
       "       [1],\n",
       "       [0],\n",
       "       [1],\n",
       "       [1],\n",
       "       [1],\n",
       "       [0],\n",
       "       [0],\n",
       "       [0],\n",
       "       [0],\n",
       "       [0],\n",
       "       [1],\n",
       "       [1],\n",
       "       [0],\n",
       "       [0],\n",
       "       [1],\n",
       "       [1],\n",
       "       [1],\n",
       "       [0],\n",
       "       [0],\n",
       "       [0],\n",
       "       [1],\n",
       "       [1],\n",
       "       [1],\n",
       "       [1],\n",
       "       [0],\n",
       "       [1],\n",
       "       [0],\n",
       "       [1],\n",
       "       [1],\n",
       "       [0],\n",
       "       [1],\n",
       "       [1],\n",
       "       [1],\n",
       "       [1],\n",
       "       [0],\n",
       "       [1],\n",
       "       [1],\n",
       "       [1],\n",
       "       [0],\n",
       "       [1],\n",
       "       [1],\n",
       "       [1],\n",
       "       [0],\n",
       "       [0],\n",
       "       [0],\n",
       "       [0],\n",
       "       [0],\n",
       "       [0],\n",
       "       [0],\n",
       "       [0],\n",
       "       [0],\n",
       "       [0],\n",
       "       [0],\n",
       "       [0],\n",
       "       [1],\n",
       "       [0],\n",
       "       [0],\n",
       "       [1],\n",
       "       [1],\n",
       "       [1],\n",
       "       [0],\n",
       "       [1],\n",
       "       [0],\n",
       "       [0],\n",
       "       [1],\n",
       "       [1],\n",
       "       [1],\n",
       "       [0],\n",
       "       [1],\n",
       "       [1],\n",
       "       [1],\n",
       "       [1],\n",
       "       [1],\n",
       "       [0],\n",
       "       [0],\n",
       "       [1],\n",
       "       [1],\n",
       "       [1],\n",
       "       [1],\n",
       "       [0],\n",
       "       [1],\n",
       "       [0],\n",
       "       [1],\n",
       "       [0],\n",
       "       [1],\n",
       "       [0],\n",
       "       [0],\n",
       "       [1],\n",
       "       [1],\n",
       "       [1],\n",
       "       [0],\n",
       "       [1],\n",
       "       [1],\n",
       "       [1],\n",
       "       [0],\n",
       "       [1],\n",
       "       [1],\n",
       "       [0],\n",
       "       [0],\n",
       "       [0],\n",
       "       [0],\n",
       "       [1],\n",
       "       [1],\n",
       "       [1],\n",
       "       [0],\n",
       "       [1],\n",
       "       [1],\n",
       "       [0],\n",
       "       [0],\n",
       "       [1],\n",
       "       [0],\n",
       "       [1],\n",
       "       [0],\n",
       "       [1],\n",
       "       [1],\n",
       "       [1],\n",
       "       [1],\n",
       "       [0],\n",
       "       [1],\n",
       "       [1],\n",
       "       [1],\n",
       "       [1],\n",
       "       [0],\n",
       "       [0],\n",
       "       [1],\n",
       "       [1],\n",
       "       [0],\n",
       "       [0],\n",
       "       [0],\n",
       "       [1],\n",
       "       [1],\n",
       "       [0],\n",
       "       [1],\n",
       "       [0],\n",
       "       [1],\n",
       "       [0],\n",
       "       [0],\n",
       "       [1],\n",
       "       [1],\n",
       "       [0],\n",
       "       [1],\n",
       "       [0],\n",
       "       [0],\n",
       "       [1],\n",
       "       [1],\n",
       "       [1],\n",
       "       [1],\n",
       "       [1],\n",
       "       [0],\n",
       "       [0],\n",
       "       [1],\n",
       "       [1],\n",
       "       [1],\n",
       "       [0],\n",
       "       [1],\n",
       "       [1],\n",
       "       [0],\n",
       "       [1],\n",
       "       [1],\n",
       "       [0],\n",
       "       [1],\n",
       "       [1],\n",
       "       [0],\n",
       "       [1],\n",
       "       [0],\n",
       "       [0],\n",
       "       [0],\n",
       "       [1],\n",
       "       [0],\n",
       "       [1],\n",
       "       [0],\n",
       "       [0],\n",
       "       [1],\n",
       "       [0],\n",
       "       [1],\n",
       "       [1],\n",
       "       [0],\n",
       "       [1],\n",
       "       [1],\n",
       "       [1],\n",
       "       [0],\n",
       "       [0],\n",
       "       [0],\n",
       "       [0],\n",
       "       [1],\n",
       "       [0],\n",
       "       [0],\n",
       "       [1],\n",
       "       [0],\n",
       "       [1],\n",
       "       [0],\n",
       "       [0],\n",
       "       [1],\n",
       "       [1],\n",
       "       [1],\n",
       "       [0],\n",
       "       [1],\n",
       "       [0],\n",
       "       [1],\n",
       "       [0],\n",
       "       [0],\n",
       "       [1],\n",
       "       [0],\n",
       "       [0],\n",
       "       [0],\n",
       "       [1],\n",
       "       [1],\n",
       "       [1],\n",
       "       [1],\n",
       "       [1],\n",
       "       [0],\n",
       "       [0],\n",
       "       [1],\n",
       "       [0],\n",
       "       [0],\n",
       "       [0],\n",
       "       [0],\n",
       "       [0],\n",
       "       [0],\n",
       "       [1],\n",
       "       [1],\n",
       "       [0],\n",
       "       [1],\n",
       "       [0],\n",
       "       [1],\n",
       "       [1],\n",
       "       [0],\n",
       "       [0],\n",
       "       [1],\n",
       "       [0],\n",
       "       [0],\n",
       "       [0],\n",
       "       [0],\n",
       "       [0],\n",
       "       [1],\n",
       "       [1],\n",
       "       [1],\n",
       "       [0],\n",
       "       [1],\n",
       "       [0],\n",
       "       [1],\n",
       "       [1],\n",
       "       [0],\n",
       "       [1],\n",
       "       [1],\n",
       "       [0],\n",
       "       [1],\n",
       "       [1],\n",
       "       [0],\n",
       "       [1],\n",
       "       [0],\n",
       "       [1],\n",
       "       [1],\n",
       "       [0],\n",
       "       [0],\n",
       "       [1],\n",
       "       [1],\n",
       "       [1],\n",
       "       [0],\n",
       "       [1],\n",
       "       [1],\n",
       "       [1],\n",
       "       [1],\n",
       "       [0],\n",
       "       [1],\n",
       "       [1],\n",
       "       [0],\n",
       "       [0],\n",
       "       [1],\n",
       "       [1],\n",
       "       [0],\n",
       "       [0],\n",
       "       [0],\n",
       "       [1],\n",
       "       [1],\n",
       "       [1],\n",
       "       [0],\n",
       "       [1],\n",
       "       [0],\n",
       "       [1],\n",
       "       [1],\n",
       "       [0],\n",
       "       [0],\n",
       "       [1],\n",
       "       [1],\n",
       "       [0],\n",
       "       [0],\n",
       "       [1],\n",
       "       [1],\n",
       "       [0],\n",
       "       [1],\n",
       "       [0],\n",
       "       [1],\n",
       "       [1],\n",
       "       [1],\n",
       "       [1],\n",
       "       [0],\n",
       "       [1],\n",
       "       [0],\n",
       "       [0],\n",
       "       [0],\n",
       "       [0],\n",
       "       [1],\n",
       "       [0],\n",
       "       [0],\n",
       "       [1],\n",
       "       [1],\n",
       "       [1],\n",
       "       [0],\n",
       "       [1],\n",
       "       [0],\n",
       "       [1],\n",
       "       [1],\n",
       "       [0],\n",
       "       [1],\n",
       "       [1],\n",
       "       [0],\n",
       "       [0],\n",
       "       [0],\n",
       "       [1],\n",
       "       [1],\n",
       "       [0],\n",
       "       [1],\n",
       "       [1],\n",
       "       [0],\n",
       "       [0],\n",
       "       [0],\n",
       "       [1],\n",
       "       [1],\n",
       "       [1],\n",
       "       [1],\n",
       "       [0],\n",
       "       [0],\n",
       "       [0],\n",
       "       [1],\n",
       "       [0],\n",
       "       [0],\n",
       "       [1],\n",
       "       [0],\n",
       "       [0],\n",
       "       [0],\n",
       "       [1],\n",
       "       [0],\n",
       "       [1],\n",
       "       [1],\n",
       "       [0],\n",
       "       [1],\n",
       "       [0],\n",
       "       [0],\n",
       "       [0],\n",
       "       [0],\n",
       "       [1],\n",
       "       [0],\n",
       "       [1],\n",
       "       [0],\n",
       "       [0],\n",
       "       [1],\n",
       "       [1],\n",
       "       [0],\n",
       "       [0],\n",
       "       [0],\n",
       "       [0],\n",
       "       [0],\n",
       "       [1],\n",
       "       [1],\n",
       "       [0],\n",
       "       [1],\n",
       "       [1],\n",
       "       [1],\n",
       "       [0],\n",
       "       [1],\n",
       "       [1],\n",
       "       [0],\n",
       "       [1],\n",
       "       [0],\n",
       "       [1],\n",
       "       [1],\n",
       "       [1],\n",
       "       [0],\n",
       "       [1],\n",
       "       [1],\n",
       "       [1],\n",
       "       [1],\n",
       "       [1],\n",
       "       [0],\n",
       "       [1],\n",
       "       [1],\n",
       "       [0],\n",
       "       [1],\n",
       "       [0],\n",
       "       [1],\n",
       "       [1],\n",
       "       [0],\n",
       "       [1],\n",
       "       [1],\n",
       "       [1],\n",
       "       [0],\n",
       "       [1],\n",
       "       [1],\n",
       "       [0],\n",
       "       [1],\n",
       "       [1],\n",
       "       [1],\n",
       "       [0],\n",
       "       [1],\n",
       "       [1],\n",
       "       [0],\n",
       "       [1],\n",
       "       [1],\n",
       "       [0],\n",
       "       [1],\n",
       "       [0],\n",
       "       [1],\n",
       "       [1],\n",
       "       [0],\n",
       "       [1],\n",
       "       [1],\n",
       "       [0],\n",
       "       [0],\n",
       "       [1],\n",
       "       [1],\n",
       "       [0],\n",
       "       [0],\n",
       "       [1],\n",
       "       [0],\n",
       "       [1],\n",
       "       [0],\n",
       "       [1],\n",
       "       [0],\n",
       "       [1],\n",
       "       [0],\n",
       "       [0],\n",
       "       [1],\n",
       "       [0],\n",
       "       [1],\n",
       "       [1],\n",
       "       [1],\n",
       "       [0],\n",
       "       [0],\n",
       "       [1],\n",
       "       [1],\n",
       "       [1],\n",
       "       [1],\n",
       "       [0],\n",
       "       [0],\n",
       "       [1],\n",
       "       [1],\n",
       "       [0],\n",
       "       [0],\n",
       "       [0],\n",
       "       [0],\n",
       "       [1],\n",
       "       [0],\n",
       "       [0],\n",
       "       [1],\n",
       "       [1],\n",
       "       [1],\n",
       "       [1],\n",
       "       [0],\n",
       "       [1],\n",
       "       [0],\n",
       "       [1],\n",
       "       [0],\n",
       "       [0],\n",
       "       [0],\n",
       "       [1],\n",
       "       [1],\n",
       "       [0],\n",
       "       [0],\n",
       "       [1],\n",
       "       [1],\n",
       "       [1],\n",
       "       [1],\n",
       "       [1],\n",
       "       [0],\n",
       "       [1],\n",
       "       [0],\n",
       "       [1],\n",
       "       [1],\n",
       "       [0],\n",
       "       [0],\n",
       "       [0],\n",
       "       [1],\n",
       "       [0],\n",
       "       [1],\n",
       "       [0],\n",
       "       [1],\n",
       "       [0],\n",
       "       [1],\n",
       "       [1],\n",
       "       [1],\n",
       "       [1],\n",
       "       [1],\n",
       "       [1],\n",
       "       [1],\n",
       "       [0],\n",
       "       [1],\n",
       "       [1],\n",
       "       [1],\n",
       "       [1],\n",
       "       [1],\n",
       "       [0],\n",
       "       [1],\n",
       "       [0],\n",
       "       [0],\n",
       "       [0],\n",
       "       [0],\n",
       "       [0],\n",
       "       [0],\n",
       "       [1],\n",
       "       [1],\n",
       "       [0],\n",
       "       [0],\n",
       "       [1],\n",
       "       [0],\n",
       "       [1],\n",
       "       [0],\n",
       "       [0],\n",
       "       [1],\n",
       "       [1],\n",
       "       [0],\n",
       "       [0],\n",
       "       [0],\n",
       "       [0],\n",
       "       [1],\n",
       "       [1],\n",
       "       [0],\n",
       "       [1],\n",
       "       [0],\n",
       "       [1],\n",
       "       [0],\n",
       "       [1],\n",
       "       [1],\n",
       "       [1],\n",
       "       [1],\n",
       "       [1],\n",
       "       [1],\n",
       "       [0],\n",
       "       [0]])"
      ]
     },
     "execution_count": 33,
     "metadata": {},
     "output_type": "execute_result"
    }
   ],
   "source": [
    "np.where(model.predict(X_test) >= 0.5,1,0)\n",
    "\n",
    "#0.5, probab value will be given bt domain expert\n",
    "#Or we can take probablity greater than 0.5, assign as 1 otherwise 0"
   ]
  },
  {
   "cell_type": "code",
   "execution_count": 34,
   "id": "40de7ca2",
   "metadata": {},
   "outputs": [
    {
     "name": "stdout",
     "output_type": "stream",
     "text": [
      "\u001b[1m19/19\u001b[0m \u001b[32m━━━━━━━━━━━━━━━━━━━━\u001b[0m\u001b[37m\u001b[0m \u001b[1m0s\u001b[0m 3ms/step \n"
     ]
    },
    {
     "data": {
      "text/plain": [
       "array([0, 0, 0, 0, 1, 1, 0, 0, 0, 1, 0, 1, 0, 0, 0, 1, 1, 1, 0, 0, 0, 1,\n",
       "       0, 1, 0, 0, 1, 1, 0, 1, 0, 0, 1, 0, 1, 0, 0, 0, 0, 1, 1, 1, 0, 0,\n",
       "       0, 1, 1, 0, 1, 1, 0, 1, 1, 0, 0, 1, 1, 1, 1, 0, 1, 1, 0, 1, 1, 1,\n",
       "       0, 0, 0, 0, 0, 1, 1, 0, 0, 1, 1, 1, 0, 0, 0, 1, 1, 1, 1, 0, 1, 0,\n",
       "       1, 1, 0, 1, 1, 1, 1, 0, 1, 1, 1, 0, 1, 1, 1, 0, 0, 0, 0, 0, 0, 0,\n",
       "       0, 0, 0, 0, 0, 1, 0, 0, 1, 1, 1, 0, 1, 0, 0, 1, 1, 1, 0, 1, 1, 1,\n",
       "       1, 1, 0, 0, 1, 1, 1, 1, 0, 1, 0, 1, 0, 1, 0, 0, 1, 1, 1, 0, 1, 1,\n",
       "       1, 0, 1, 1, 0, 0, 0, 0, 1, 1, 1, 0, 1, 1, 0, 0, 1, 0, 1, 0, 1, 1,\n",
       "       1, 1, 0, 1, 1, 1, 1, 0, 0, 1, 1, 0, 0, 0, 1, 1, 0, 1, 0, 1, 0, 0,\n",
       "       1, 1, 0, 1, 0, 0, 1, 1, 1, 1, 1, 0, 0, 1, 1, 1, 0, 1, 1, 0, 1, 1,\n",
       "       0, 1, 1, 0, 1, 0, 0, 0, 1, 0, 1, 0, 0, 1, 0, 1, 1, 0, 1, 1, 1, 0,\n",
       "       0, 0, 0, 1, 0, 0, 1, 0, 1, 0, 0, 1, 1, 1, 0, 1, 0, 1, 0, 0, 1, 0,\n",
       "       0, 0, 1, 1, 1, 1, 1, 0, 0, 1, 0, 0, 0, 0, 0, 0, 1, 1, 0, 1, 0, 1,\n",
       "       1, 0, 0, 1, 0, 0, 0, 0, 0, 1, 1, 1, 0, 1, 0, 1, 1, 0, 1, 1, 0, 1,\n",
       "       1, 0, 1, 0, 1, 1, 0, 0, 1, 1, 1, 0, 1, 1, 1, 1, 0, 1, 1, 0, 0, 1,\n",
       "       1, 0, 0, 0, 1, 1, 1, 0, 1, 0, 1, 1, 0, 0, 1, 1, 0, 0, 1, 1, 0, 1,\n",
       "       0, 1, 1, 1, 1, 0, 1, 0, 0, 0, 0, 1, 0, 0, 1, 1, 1, 0, 1, 0, 1, 1,\n",
       "       0, 1, 1, 0, 0, 0, 1, 1, 0, 1, 1, 0, 0, 0, 1, 1, 1, 1, 0, 0, 0, 1,\n",
       "       0, 0, 1, 0, 0, 0, 1, 0, 1, 1, 0, 1, 0, 0, 0, 0, 1, 0, 1, 0, 0, 1,\n",
       "       1, 0, 0, 0, 0, 0, 1, 1, 0, 1, 1, 1, 0, 1, 1, 0, 1, 0, 1, 1, 1, 0,\n",
       "       1, 1, 1, 1, 1, 0, 1, 1, 0, 1, 0, 1, 1, 0, 1, 1, 1, 0, 1, 1, 0, 1,\n",
       "       1, 1, 0, 1, 1, 0, 1, 1, 0, 1, 0, 1, 1, 0, 1, 1, 0, 0, 1, 1, 0, 0,\n",
       "       1, 0, 1, 0, 1, 0, 1, 0, 0, 1, 0, 1, 1, 1, 0, 0, 1, 1, 1, 1, 0, 0,\n",
       "       1, 1, 0, 0, 0, 0, 1, 0, 0, 1, 1, 1, 1, 0, 1, 0, 1, 0, 0, 0, 1, 1,\n",
       "       0, 0, 1, 1, 1, 1, 1, 0, 1, 0, 1, 1, 0, 0, 0, 1, 0, 1, 0, 1, 0, 1,\n",
       "       1, 1, 1, 1, 1, 1, 0, 1, 1, 1, 1, 1, 0, 1, 0, 0, 0, 0, 0, 0, 1, 1,\n",
       "       0, 0, 1, 0, 1, 0, 0, 1, 1, 0, 0, 0, 0, 1, 1, 0, 1, 0, 1, 0, 1, 1,\n",
       "       1, 1, 1, 1, 0, 0])"
      ]
     },
     "execution_count": 34,
     "metadata": {},
     "output_type": "execute_result"
    }
   ],
   "source": [
    "np.where(model.predict(X_test) >= 0.5,1,0).flatten()"
   ]
  },
  {
   "cell_type": "code",
   "execution_count": 40,
   "id": "0a41d1de",
   "metadata": {},
   "outputs": [
    {
     "name": "stdout",
     "output_type": "stream",
     "text": [
      "\u001b[1m19/19\u001b[0m \u001b[32m━━━━━━━━━━━━━━━━━━━━\u001b[0m\u001b[37m\u001b[0m \u001b[1m0s\u001b[0m 2ms/step \n"
     ]
    }
   ],
   "source": [
    "pred = np.where(model.predict(X_test) >= 0.5,1,0).flatten()"
   ]
  },
  {
   "cell_type": "code",
   "execution_count": 41,
   "id": "e8577a12",
   "metadata": {},
   "outputs": [],
   "source": [
    "from keras.metrics import F1Score"
   ]
  },
  {
   "cell_type": "code",
   "execution_count": 43,
   "id": "818b1786",
   "metadata": {},
   "outputs": [],
   "source": [
    "from keras import metrics\n",
    "\n",
    "metrics.Accuracy(y_test, pred)"
   ]
  },
  {
   "cell_type": "code",
   "execution_count": 50,
   "id": "b18b1e77",
   "metadata": {},
   "outputs": [
    {
     "ename": "ValueError",
     "evalue": "The truth value of an array with more than one element is ambiguous. Use a.any() or a.all()",
     "output_type": "error",
     "traceback": [
      "\u001b[1;31m---------------------------------------------------------------------------\u001b[0m",
      "\u001b[1;31mValueError\u001b[0m                                Traceback (most recent call last)",
      "Cell \u001b[1;32mIn[50], line 1\u001b[0m\n\u001b[1;32m----> 1\u001b[0m metrics\u001b[38;5;241m.\u001b[39mAccuracy(y_test, pred)\n",
      "File \u001b[1;32m~\\anaconda3\\Lib\\site-packages\\keras\\src\\metrics\\accuracy_metrics.py:57\u001b[0m, in \u001b[0;36mAccuracy.__init__\u001b[1;34m(self, name, dtype)\u001b[0m\n\u001b[0;32m     56\u001b[0m \u001b[38;5;28;01mdef\u001b[39;00m \u001b[38;5;21m__init__\u001b[39m(\u001b[38;5;28mself\u001b[39m, name\u001b[38;5;241m=\u001b[39m\u001b[38;5;124m\"\u001b[39m\u001b[38;5;124maccuracy\u001b[39m\u001b[38;5;124m\"\u001b[39m, dtype\u001b[38;5;241m=\u001b[39m\u001b[38;5;28;01mNone\u001b[39;00m):\n\u001b[1;32m---> 57\u001b[0m     \u001b[38;5;28msuper\u001b[39m()\u001b[38;5;241m.\u001b[39m\u001b[38;5;21m__init__\u001b[39m(fn\u001b[38;5;241m=\u001b[39maccuracy, name\u001b[38;5;241m=\u001b[39mname, dtype\u001b[38;5;241m=\u001b[39mdtype)\n\u001b[0;32m     58\u001b[0m     \u001b[38;5;66;03m# Metric should be maximized during optimization.\u001b[39;00m\n\u001b[0;32m     59\u001b[0m     \u001b[38;5;28mself\u001b[39m\u001b[38;5;241m.\u001b[39m_direction \u001b[38;5;241m=\u001b[39m \u001b[38;5;124m\"\u001b[39m\u001b[38;5;124mup\u001b[39m\u001b[38;5;124m\"\u001b[39m\n",
      "File \u001b[1;32m~\\anaconda3\\Lib\\site-packages\\keras\\src\\metrics\\reduction_metrics.py:187\u001b[0m, in \u001b[0;36mMeanMetricWrapper.__init__\u001b[1;34m(self, fn, name, dtype, **kwargs)\u001b[0m\n\u001b[0;32m    186\u001b[0m \u001b[38;5;28;01mdef\u001b[39;00m \u001b[38;5;21m__init__\u001b[39m(\u001b[38;5;28mself\u001b[39m, fn, name\u001b[38;5;241m=\u001b[39m\u001b[38;5;28;01mNone\u001b[39;00m, dtype\u001b[38;5;241m=\u001b[39m\u001b[38;5;28;01mNone\u001b[39;00m, \u001b[38;5;241m*\u001b[39m\u001b[38;5;241m*\u001b[39mkwargs):\n\u001b[1;32m--> 187\u001b[0m     \u001b[38;5;28msuper\u001b[39m()\u001b[38;5;241m.\u001b[39m\u001b[38;5;21m__init__\u001b[39m(name\u001b[38;5;241m=\u001b[39mname, dtype\u001b[38;5;241m=\u001b[39mdtype)\n\u001b[0;32m    188\u001b[0m     \u001b[38;5;28mself\u001b[39m\u001b[38;5;241m.\u001b[39m_fn \u001b[38;5;241m=\u001b[39m fn\n\u001b[0;32m    189\u001b[0m     \u001b[38;5;28mself\u001b[39m\u001b[38;5;241m.\u001b[39m_fn_kwargs \u001b[38;5;241m=\u001b[39m kwargs\n",
      "File \u001b[1;32m~\\anaconda3\\Lib\\site-packages\\keras\\src\\metrics\\reduction_metrics.py:123\u001b[0m, in \u001b[0;36mMean.__init__\u001b[1;34m(self, name, dtype)\u001b[0m\n\u001b[0;32m    122\u001b[0m \u001b[38;5;28;01mdef\u001b[39;00m \u001b[38;5;21m__init__\u001b[39m(\u001b[38;5;28mself\u001b[39m, name\u001b[38;5;241m=\u001b[39m\u001b[38;5;124m\"\u001b[39m\u001b[38;5;124mmean\u001b[39m\u001b[38;5;124m\"\u001b[39m, dtype\u001b[38;5;241m=\u001b[39m\u001b[38;5;28;01mNone\u001b[39;00m):\n\u001b[1;32m--> 123\u001b[0m     \u001b[38;5;28msuper\u001b[39m()\u001b[38;5;241m.\u001b[39m\u001b[38;5;21m__init__\u001b[39m(name\u001b[38;5;241m=\u001b[39mname, dtype\u001b[38;5;241m=\u001b[39mdtype)\n\u001b[0;32m    124\u001b[0m     \u001b[38;5;28mself\u001b[39m\u001b[38;5;241m.\u001b[39mtotal \u001b[38;5;241m=\u001b[39m \u001b[38;5;28mself\u001b[39m\u001b[38;5;241m.\u001b[39madd_variable(\n\u001b[0;32m    125\u001b[0m         shape\u001b[38;5;241m=\u001b[39m(),\n\u001b[0;32m    126\u001b[0m         initializer\u001b[38;5;241m=\u001b[39minitializers\u001b[38;5;241m.\u001b[39mZeros(),\n\u001b[0;32m    127\u001b[0m         dtype\u001b[38;5;241m=\u001b[39m\u001b[38;5;28mself\u001b[39m\u001b[38;5;241m.\u001b[39mdtype,\n\u001b[0;32m    128\u001b[0m         name\u001b[38;5;241m=\u001b[39m\u001b[38;5;124m\"\u001b[39m\u001b[38;5;124mtotal\u001b[39m\u001b[38;5;124m\"\u001b[39m,\n\u001b[0;32m    129\u001b[0m     )\n\u001b[0;32m    130\u001b[0m     \u001b[38;5;28mself\u001b[39m\u001b[38;5;241m.\u001b[39mcount \u001b[38;5;241m=\u001b[39m \u001b[38;5;28mself\u001b[39m\u001b[38;5;241m.\u001b[39madd_variable(\n\u001b[0;32m    131\u001b[0m         shape\u001b[38;5;241m=\u001b[39m(),\n\u001b[0;32m    132\u001b[0m         initializer\u001b[38;5;241m=\u001b[39minitializers\u001b[38;5;241m.\u001b[39mZeros(),\n\u001b[0;32m    133\u001b[0m         dtype\u001b[38;5;241m=\u001b[39m\u001b[38;5;28mself\u001b[39m\u001b[38;5;241m.\u001b[39mdtype,\n\u001b[0;32m    134\u001b[0m         name\u001b[38;5;241m=\u001b[39m\u001b[38;5;124m\"\u001b[39m\u001b[38;5;124mcount\u001b[39m\u001b[38;5;124m\"\u001b[39m,\n\u001b[0;32m    135\u001b[0m     )\n",
      "File \u001b[1;32m~\\anaconda3\\Lib\\site-packages\\keras\\src\\metrics\\metric.py:88\u001b[0m, in \u001b[0;36mMetric.__init__\u001b[1;34m(self, dtype, name)\u001b[0m\n\u001b[0;32m     87\u001b[0m \u001b[38;5;28;01mdef\u001b[39;00m \u001b[38;5;21m__init__\u001b[39m(\u001b[38;5;28mself\u001b[39m, dtype\u001b[38;5;241m=\u001b[39m\u001b[38;5;28;01mNone\u001b[39;00m, name\u001b[38;5;241m=\u001b[39m\u001b[38;5;28;01mNone\u001b[39;00m):\n\u001b[1;32m---> 88\u001b[0m     \u001b[38;5;28mself\u001b[39m\u001b[38;5;241m.\u001b[39mname \u001b[38;5;241m=\u001b[39m name \u001b[38;5;129;01mor\u001b[39;00m auto_name(\u001b[38;5;28mself\u001b[39m\u001b[38;5;241m.\u001b[39m\u001b[38;5;18m__class__\u001b[39m\u001b[38;5;241m.\u001b[39m\u001b[38;5;18m__name__\u001b[39m)\n\u001b[0;32m     89\u001b[0m     \u001b[38;5;28mself\u001b[39m\u001b[38;5;241m.\u001b[39m_dtype \u001b[38;5;241m=\u001b[39m dtype \u001b[38;5;129;01mor\u001b[39;00m backend\u001b[38;5;241m.\u001b[39mfloatx()\n\u001b[0;32m     90\u001b[0m     \u001b[38;5;28mself\u001b[39m\u001b[38;5;241m.\u001b[39m_metrics \u001b[38;5;241m=\u001b[39m []\n",
      "\u001b[1;31mValueError\u001b[0m: The truth value of an array with more than one element is ambiguous. Use a.any() or a.all()"
     ]
    }
   ],
   "source": [
    "metrics.Accuracy(y_test, pred)"
   ]
  },
  {
   "cell_type": "code",
   "execution_count": null,
   "id": "7ac990f7",
   "metadata": {},
   "outputs": [],
   "source": []
  },
  {
   "cell_type": "code",
   "execution_count": 42,
   "id": "f81e8954",
   "metadata": {},
   "outputs": [
    {
     "ename": "ValueError",
     "evalue": "The truth value of an array with more than one element is ambiguous. Use a.any() or a.all()",
     "output_type": "error",
     "traceback": [
      "\u001b[1;31m---------------------------------------------------------------------------\u001b[0m",
      "\u001b[1;31mValueError\u001b[0m                                Traceback (most recent call last)",
      "Cell \u001b[1;32mIn[42], line 1\u001b[0m\n\u001b[1;32m----> 1\u001b[0m F1Score(y_test, pred)\n",
      "File \u001b[1;32m~\\anaconda3\\Lib\\site-packages\\keras\\src\\metrics\\f_score_metrics.py:309\u001b[0m, in \u001b[0;36mF1Score.__init__\u001b[1;34m(self, average, threshold, name, dtype)\u001b[0m\n\u001b[0;32m    302\u001b[0m \u001b[38;5;28;01mdef\u001b[39;00m \u001b[38;5;21m__init__\u001b[39m(\n\u001b[0;32m    303\u001b[0m     \u001b[38;5;28mself\u001b[39m,\n\u001b[0;32m    304\u001b[0m     average\u001b[38;5;241m=\u001b[39m\u001b[38;5;28;01mNone\u001b[39;00m,\n\u001b[1;32m   (...)\u001b[0m\n\u001b[0;32m    307\u001b[0m     dtype\u001b[38;5;241m=\u001b[39m\u001b[38;5;28;01mNone\u001b[39;00m,\n\u001b[0;32m    308\u001b[0m ):\n\u001b[1;32m--> 309\u001b[0m     \u001b[38;5;28msuper\u001b[39m()\u001b[38;5;241m.\u001b[39m\u001b[38;5;21m__init__\u001b[39m(\n\u001b[0;32m    310\u001b[0m         average\u001b[38;5;241m=\u001b[39maverage,\n\u001b[0;32m    311\u001b[0m         beta\u001b[38;5;241m=\u001b[39m\u001b[38;5;241m1.0\u001b[39m,\n\u001b[0;32m    312\u001b[0m         threshold\u001b[38;5;241m=\u001b[39mthreshold,\n\u001b[0;32m    313\u001b[0m         name\u001b[38;5;241m=\u001b[39mname,\n\u001b[0;32m    314\u001b[0m         dtype\u001b[38;5;241m=\u001b[39mdtype,\n\u001b[0;32m    315\u001b[0m     )\n",
      "File \u001b[1;32m~\\anaconda3\\Lib\\site-packages\\keras\\src\\metrics\\f_score_metrics.py:78\u001b[0m, in \u001b[0;36mFBetaScore.__init__\u001b[1;34m(self, average, beta, threshold, name, dtype)\u001b[0m\n\u001b[0;32m     75\u001b[0m \u001b[38;5;66;03m# Metric should be maximized during optimization.\u001b[39;00m\n\u001b[0;32m     76\u001b[0m \u001b[38;5;28mself\u001b[39m\u001b[38;5;241m.\u001b[39m_direction \u001b[38;5;241m=\u001b[39m \u001b[38;5;124m\"\u001b[39m\u001b[38;5;124mup\u001b[39m\u001b[38;5;124m\"\u001b[39m\n\u001b[1;32m---> 78\u001b[0m \u001b[38;5;28;01mif\u001b[39;00m average \u001b[38;5;129;01mnot\u001b[39;00m \u001b[38;5;129;01min\u001b[39;00m (\u001b[38;5;28;01mNone\u001b[39;00m, \u001b[38;5;124m\"\u001b[39m\u001b[38;5;124mmicro\u001b[39m\u001b[38;5;124m\"\u001b[39m, \u001b[38;5;124m\"\u001b[39m\u001b[38;5;124mmacro\u001b[39m\u001b[38;5;124m\"\u001b[39m, \u001b[38;5;124m\"\u001b[39m\u001b[38;5;124mweighted\u001b[39m\u001b[38;5;124m\"\u001b[39m):\n\u001b[0;32m     79\u001b[0m     \u001b[38;5;28;01mraise\u001b[39;00m \u001b[38;5;167;01mValueError\u001b[39;00m(\n\u001b[0;32m     80\u001b[0m         \u001b[38;5;124m\"\u001b[39m\u001b[38;5;124mInvalid `average` argument value. Expected one of: \u001b[39m\u001b[38;5;124m\"\u001b[39m\n\u001b[0;32m     81\u001b[0m         \u001b[38;5;124m\"\u001b[39m\u001b[38;5;124m{\u001b[39m\u001b[38;5;124mNone, \u001b[39m\u001b[38;5;124m'\u001b[39m\u001b[38;5;124mmicro\u001b[39m\u001b[38;5;124m'\u001b[39m\u001b[38;5;124m, \u001b[39m\u001b[38;5;124m'\u001b[39m\u001b[38;5;124mmacro\u001b[39m\u001b[38;5;124m'\u001b[39m\u001b[38;5;124m, \u001b[39m\u001b[38;5;124m'\u001b[39m\u001b[38;5;124mweighted\u001b[39m\u001b[38;5;124m'\u001b[39m\u001b[38;5;124m}. \u001b[39m\u001b[38;5;124m\"\u001b[39m\n\u001b[0;32m     82\u001b[0m         \u001b[38;5;124mf\u001b[39m\u001b[38;5;124m\"\u001b[39m\u001b[38;5;124mReceived: average=\u001b[39m\u001b[38;5;132;01m{\u001b[39;00maverage\u001b[38;5;132;01m}\u001b[39;00m\u001b[38;5;124m\"\u001b[39m\n\u001b[0;32m     83\u001b[0m     )\n\u001b[0;32m     85\u001b[0m \u001b[38;5;28;01mif\u001b[39;00m \u001b[38;5;129;01mnot\u001b[39;00m \u001b[38;5;28misinstance\u001b[39m(beta, \u001b[38;5;28mfloat\u001b[39m):\n",
      "\u001b[1;31mValueError\u001b[0m: The truth value of an array with more than one element is ambiguous. Use a.any() or a.all()"
     ]
    }
   ],
   "source": [
    "F1Score(y_test, pred)"
   ]
  },
  {
   "cell_type": "markdown",
   "id": "5de49a6b",
   "metadata": {},
   "source": [
    "### Categorical Cross Entropy Classification"
   ]
  },
  {
   "cell_type": "code",
   "execution_count": 62,
   "id": "bb62ced3",
   "metadata": {},
   "outputs": [],
   "source": [
    "X,y = make_classification(n_samples=3000, n_features=20, n_classes=2 )"
   ]
  },
  {
   "cell_type": "code",
   "execution_count": 66,
   "id": "7c4d2987",
   "metadata": {},
   "outputs": [
    {
     "data": {
      "text/plain": [
       "(2400, 20)"
      ]
     },
     "execution_count": 66,
     "metadata": {},
     "output_type": "execute_result"
    }
   ],
   "source": [
    "X_train, X_test, y_train, y_test = train_test_split(X, y, test_size=0.2, random_state=10)\n",
    "\n",
    "X_train.shape"
   ]
  },
  {
   "cell_type": "code",
   "execution_count": 69,
   "id": "eb1eea59",
   "metadata": {},
   "outputs": [],
   "source": [
    "model1 = Sequential()\n",
    "\n",
    "model1.add(InputLayer(shape=(20,)))\n",
    "model1.add(Dense(units=4, activation='sigmoid', use_bias=True))\n",
    "model1.add(Dense(units=6, activation='sigmoid', use_bias=True))\n",
    "model1.add(Dense(units=2, activation='softmax', use_bias=True))\n",
    "\n",
    "#Output Layer will contain neoron == no of class(k)\n",
    "#There will be two probabality of success and failure"
   ]
  },
  {
   "cell_type": "code",
   "execution_count": 70,
   "id": "3f4ce5a2",
   "metadata": {},
   "outputs": [
    {
     "data": {
      "text/html": [
       "<pre style=\"white-space:pre;overflow-x:auto;line-height:normal;font-family:Menlo,'DejaVu Sans Mono',consolas,'Courier New',monospace\"><span style=\"font-weight: bold\">Model: \"sequential_10\"</span>\n",
       "</pre>\n"
      ],
      "text/plain": [
       "\u001b[1mModel: \"sequential_10\"\u001b[0m\n"
      ]
     },
     "metadata": {},
     "output_type": "display_data"
    },
    {
     "data": {
      "text/html": [
       "<pre style=\"white-space:pre;overflow-x:auto;line-height:normal;font-family:Menlo,'DejaVu Sans Mono',consolas,'Courier New',monospace\">┏━━━━━━━━━━━━━━━━━━━━━━━━━━━━━━━━━━━━━━┳━━━━━━━━━━━━━━━━━━━━━━━━━━━━━┳━━━━━━━━━━━━━━━━━┓\n",
       "┃<span style=\"font-weight: bold\"> Layer (type)                         </span>┃<span style=\"font-weight: bold\"> Output Shape                </span>┃<span style=\"font-weight: bold\">         Param # </span>┃\n",
       "┡━━━━━━━━━━━━━━━━━━━━━━━━━━━━━━━━━━━━━━╇━━━━━━━━━━━━━━━━━━━━━━━━━━━━━╇━━━━━━━━━━━━━━━━━┩\n",
       "│ dense_24 (<span style=\"color: #0087ff; text-decoration-color: #0087ff\">Dense</span>)                     │ (<span style=\"color: #00d7ff; text-decoration-color: #00d7ff\">None</span>, <span style=\"color: #00af00; text-decoration-color: #00af00\">4</span>)                   │              <span style=\"color: #00af00; text-decoration-color: #00af00\">84</span> │\n",
       "├──────────────────────────────────────┼─────────────────────────────┼─────────────────┤\n",
       "│ dense_25 (<span style=\"color: #0087ff; text-decoration-color: #0087ff\">Dense</span>)                     │ (<span style=\"color: #00d7ff; text-decoration-color: #00d7ff\">None</span>, <span style=\"color: #00af00; text-decoration-color: #00af00\">6</span>)                   │              <span style=\"color: #00af00; text-decoration-color: #00af00\">30</span> │\n",
       "├──────────────────────────────────────┼─────────────────────────────┼─────────────────┤\n",
       "│ dense_26 (<span style=\"color: #0087ff; text-decoration-color: #0087ff\">Dense</span>)                     │ (<span style=\"color: #00d7ff; text-decoration-color: #00d7ff\">None</span>, <span style=\"color: #00af00; text-decoration-color: #00af00\">2</span>)                   │              <span style=\"color: #00af00; text-decoration-color: #00af00\">14</span> │\n",
       "└──────────────────────────────────────┴─────────────────────────────┴─────────────────┘\n",
       "</pre>\n"
      ],
      "text/plain": [
       "┏━━━━━━━━━━━━━━━━━━━━━━━━━━━━━━━━━━━━━━┳━━━━━━━━━━━━━━━━━━━━━━━━━━━━━┳━━━━━━━━━━━━━━━━━┓\n",
       "┃\u001b[1m \u001b[0m\u001b[1mLayer (type)                        \u001b[0m\u001b[1m \u001b[0m┃\u001b[1m \u001b[0m\u001b[1mOutput Shape               \u001b[0m\u001b[1m \u001b[0m┃\u001b[1m \u001b[0m\u001b[1m        Param #\u001b[0m\u001b[1m \u001b[0m┃\n",
       "┡━━━━━━━━━━━━━━━━━━━━━━━━━━━━━━━━━━━━━━╇━━━━━━━━━━━━━━━━━━━━━━━━━━━━━╇━━━━━━━━━━━━━━━━━┩\n",
       "│ dense_24 (\u001b[38;5;33mDense\u001b[0m)                     │ (\u001b[38;5;45mNone\u001b[0m, \u001b[38;5;34m4\u001b[0m)                   │              \u001b[38;5;34m84\u001b[0m │\n",
       "├──────────────────────────────────────┼─────────────────────────────┼─────────────────┤\n",
       "│ dense_25 (\u001b[38;5;33mDense\u001b[0m)                     │ (\u001b[38;5;45mNone\u001b[0m, \u001b[38;5;34m6\u001b[0m)                   │              \u001b[38;5;34m30\u001b[0m │\n",
       "├──────────────────────────────────────┼─────────────────────────────┼─────────────────┤\n",
       "│ dense_26 (\u001b[38;5;33mDense\u001b[0m)                     │ (\u001b[38;5;45mNone\u001b[0m, \u001b[38;5;34m2\u001b[0m)                   │              \u001b[38;5;34m14\u001b[0m │\n",
       "└──────────────────────────────────────┴─────────────────────────────┴─────────────────┘\n"
      ]
     },
     "metadata": {},
     "output_type": "display_data"
    },
    {
     "data": {
      "text/html": [
       "<pre style=\"white-space:pre;overflow-x:auto;line-height:normal;font-family:Menlo,'DejaVu Sans Mono',consolas,'Courier New',monospace\"><span style=\"font-weight: bold\"> Total params: </span><span style=\"color: #00af00; text-decoration-color: #00af00\">128</span> (512.00 B)\n",
       "</pre>\n"
      ],
      "text/plain": [
       "\u001b[1m Total params: \u001b[0m\u001b[38;5;34m128\u001b[0m (512.00 B)\n"
      ]
     },
     "metadata": {},
     "output_type": "display_data"
    },
    {
     "data": {
      "text/html": [
       "<pre style=\"white-space:pre;overflow-x:auto;line-height:normal;font-family:Menlo,'DejaVu Sans Mono',consolas,'Courier New',monospace\"><span style=\"font-weight: bold\"> Trainable params: </span><span style=\"color: #00af00; text-decoration-color: #00af00\">128</span> (512.00 B)\n",
       "</pre>\n"
      ],
      "text/plain": [
       "\u001b[1m Trainable params: \u001b[0m\u001b[38;5;34m128\u001b[0m (512.00 B)\n"
      ]
     },
     "metadata": {},
     "output_type": "display_data"
    },
    {
     "data": {
      "text/html": [
       "<pre style=\"white-space:pre;overflow-x:auto;line-height:normal;font-family:Menlo,'DejaVu Sans Mono',consolas,'Courier New',monospace\"><span style=\"font-weight: bold\"> Non-trainable params: </span><span style=\"color: #00af00; text-decoration-color: #00af00\">0</span> (0.00 B)\n",
       "</pre>\n"
      ],
      "text/plain": [
       "\u001b[1m Non-trainable params: \u001b[0m\u001b[38;5;34m0\u001b[0m (0.00 B)\n"
      ]
     },
     "metadata": {},
     "output_type": "display_data"
    }
   ],
   "source": [
    "model1.summary()"
   ]
  },
  {
   "cell_type": "code",
   "execution_count": 71,
   "id": "2ce38bb2",
   "metadata": {},
   "outputs": [],
   "source": [
    "sgd = SGD(learning_rate=0.001)"
   ]
  },
  {
   "cell_type": "code",
   "execution_count": 74,
   "id": "55873b13",
   "metadata": {},
   "outputs": [],
   "source": [
    "model1.compile(optimizer=sgd, loss ='sparse_categorical_crossentropy', metrics=['accuracy'])"
   ]
  },
  {
   "cell_type": "code",
   "execution_count": 76,
   "id": "d24d101f",
   "metadata": {},
   "outputs": [
    {
     "name": "stdout",
     "output_type": "stream",
     "text": [
      "Epoch 1/10\n"
     ]
    },
    {
     "ename": "ValueError",
     "evalue": "Arguments `target` and `output` must have the same rank (ndim). Received: target.shape=(10,), output.shape=(10, 2)",
     "output_type": "error",
     "traceback": [
      "\u001b[1;31m---------------------------------------------------------------------------\u001b[0m",
      "\u001b[1;31mValueError\u001b[0m                                Traceback (most recent call last)",
      "Cell \u001b[1;32mIn[76], line 1\u001b[0m\n\u001b[1;32m----> 1\u001b[0m model1\u001b[38;5;241m.\u001b[39mfit(X_train, y_train, batch_size\u001b[38;5;241m=\u001b[39m\u001b[38;5;241m10\u001b[39m, epochs\u001b[38;5;241m=\u001b[39m\u001b[38;5;241m10\u001b[39m, validation_split\u001b[38;5;241m=\u001b[39m\u001b[38;5;241m0.2\u001b[39m)\n",
      "File \u001b[1;32m~\\anaconda3\\Lib\\site-packages\\keras\\src\\utils\\traceback_utils.py:122\u001b[0m, in \u001b[0;36mfilter_traceback.<locals>.error_handler\u001b[1;34m(*args, **kwargs)\u001b[0m\n\u001b[0;32m    119\u001b[0m     filtered_tb \u001b[38;5;241m=\u001b[39m _process_traceback_frames(e\u001b[38;5;241m.\u001b[39m__traceback__)\n\u001b[0;32m    120\u001b[0m     \u001b[38;5;66;03m# To get the full stack trace, call:\u001b[39;00m\n\u001b[0;32m    121\u001b[0m     \u001b[38;5;66;03m# `keras.config.disable_traceback_filtering()`\u001b[39;00m\n\u001b[1;32m--> 122\u001b[0m     \u001b[38;5;28;01mraise\u001b[39;00m e\u001b[38;5;241m.\u001b[39mwith_traceback(filtered_tb) \u001b[38;5;28;01mfrom\u001b[39;00m \u001b[38;5;28;01mNone\u001b[39;00m\n\u001b[0;32m    123\u001b[0m \u001b[38;5;28;01mfinally\u001b[39;00m:\n\u001b[0;32m    124\u001b[0m     \u001b[38;5;28;01mdel\u001b[39;00m filtered_tb\n",
      "File \u001b[1;32m~\\anaconda3\\Lib\\site-packages\\keras\\src\\backend\\tensorflow\\nn.py:547\u001b[0m, in \u001b[0;36mcategorical_crossentropy\u001b[1;34m(target, output, from_logits, axis)\u001b[0m\n\u001b[0;32m    541\u001b[0m     \u001b[38;5;28;01mraise\u001b[39;00m \u001b[38;5;167;01mValueError\u001b[39;00m(\n\u001b[0;32m    542\u001b[0m         \u001b[38;5;124m\"\u001b[39m\u001b[38;5;124mArguments `target` and `output` must be at least rank 1. \u001b[39m\u001b[38;5;124m\"\u001b[39m\n\u001b[0;32m    543\u001b[0m         \u001b[38;5;124m\"\u001b[39m\u001b[38;5;124mReceived: \u001b[39m\u001b[38;5;124m\"\u001b[39m\n\u001b[0;32m    544\u001b[0m         \u001b[38;5;124mf\u001b[39m\u001b[38;5;124m\"\u001b[39m\u001b[38;5;124mtarget.shape=\u001b[39m\u001b[38;5;132;01m{\u001b[39;00mtarget\u001b[38;5;241m.\u001b[39mshape\u001b[38;5;132;01m}\u001b[39;00m\u001b[38;5;124m, output.shape=\u001b[39m\u001b[38;5;132;01m{\u001b[39;00moutput\u001b[38;5;241m.\u001b[39mshape\u001b[38;5;132;01m}\u001b[39;00m\u001b[38;5;124m\"\u001b[39m\n\u001b[0;32m    545\u001b[0m     )\n\u001b[0;32m    546\u001b[0m \u001b[38;5;28;01mif\u001b[39;00m \u001b[38;5;28mlen\u001b[39m(target\u001b[38;5;241m.\u001b[39mshape) \u001b[38;5;241m!=\u001b[39m \u001b[38;5;28mlen\u001b[39m(output\u001b[38;5;241m.\u001b[39mshape):\n\u001b[1;32m--> 547\u001b[0m     \u001b[38;5;28;01mraise\u001b[39;00m \u001b[38;5;167;01mValueError\u001b[39;00m(\n\u001b[0;32m    548\u001b[0m         \u001b[38;5;124m\"\u001b[39m\u001b[38;5;124mArguments `target` and `output` must have the same rank \u001b[39m\u001b[38;5;124m\"\u001b[39m\n\u001b[0;32m    549\u001b[0m         \u001b[38;5;124m\"\u001b[39m\u001b[38;5;124m(ndim). Received: \u001b[39m\u001b[38;5;124m\"\u001b[39m\n\u001b[0;32m    550\u001b[0m         \u001b[38;5;124mf\u001b[39m\u001b[38;5;124m\"\u001b[39m\u001b[38;5;124mtarget.shape=\u001b[39m\u001b[38;5;132;01m{\u001b[39;00mtarget\u001b[38;5;241m.\u001b[39mshape\u001b[38;5;132;01m}\u001b[39;00m\u001b[38;5;124m, output.shape=\u001b[39m\u001b[38;5;132;01m{\u001b[39;00moutput\u001b[38;5;241m.\u001b[39mshape\u001b[38;5;132;01m}\u001b[39;00m\u001b[38;5;124m\"\u001b[39m\n\u001b[0;32m    551\u001b[0m     )\n\u001b[0;32m    552\u001b[0m \u001b[38;5;28;01mfor\u001b[39;00m e1, e2 \u001b[38;5;129;01min\u001b[39;00m \u001b[38;5;28mzip\u001b[39m(target\u001b[38;5;241m.\u001b[39mshape, output\u001b[38;5;241m.\u001b[39mshape):\n\u001b[0;32m    553\u001b[0m     \u001b[38;5;28;01mif\u001b[39;00m e1 \u001b[38;5;129;01mis\u001b[39;00m \u001b[38;5;129;01mnot\u001b[39;00m \u001b[38;5;28;01mNone\u001b[39;00m \u001b[38;5;129;01mand\u001b[39;00m e2 \u001b[38;5;129;01mis\u001b[39;00m \u001b[38;5;129;01mnot\u001b[39;00m \u001b[38;5;28;01mNone\u001b[39;00m \u001b[38;5;129;01mand\u001b[39;00m e1 \u001b[38;5;241m!=\u001b[39m e2:\n",
      "\u001b[1;31mValueError\u001b[0m: Arguments `target` and `output` must have the same rank (ndim). Received: target.shape=(10,), output.shape=(10, 2)"
     ]
    }
   ],
   "source": [
    "model1.fit(X_train, y_train, batch_size=10, epochs=10, validation_split=0.2)"
   ]
  },
  {
   "cell_type": "markdown",
   "id": "f26c492c",
   "metadata": {},
   "source": [
    "* **To handle this error there would be two reason**\n",
    "* **1. Check and use correct loss**\n",
    "* **2. Check how many neuron in OL**\n",
    "\n",
    "* **Solution is :- Use sparse_categorical_crossentropy**"
   ]
  },
  {
   "cell_type": "code",
   "execution_count": 77,
   "id": "95eb3d6d",
   "metadata": {},
   "outputs": [],
   "source": [
    "model1.compile(optimizer=sgd, loss ='sparse_categorical_crossentropy', metrics=['accuracy'])"
   ]
  },
  {
   "cell_type": "code",
   "execution_count": 79,
   "id": "065c8f4a",
   "metadata": {},
   "outputs": [
    {
     "name": "stdout",
     "output_type": "stream",
     "text": [
      "Epoch 1/10\n",
      "\u001b[1m192/192\u001b[0m \u001b[32m━━━━━━━━━━━━━━━━━━━━\u001b[0m\u001b[37m\u001b[0m \u001b[1m2s\u001b[0m 6ms/step - accuracy: 0.5086 - loss: 0.6912 - val_accuracy: 0.4625 - val_loss: 0.6991\n",
      "Epoch 2/10\n",
      "\u001b[1m192/192\u001b[0m \u001b[32m━━━━━━━━━━━━━━━━━━━━\u001b[0m\u001b[37m\u001b[0m \u001b[1m1s\u001b[0m 3ms/step - accuracy: 0.5155 - loss: 0.6857 - val_accuracy: 0.4625 - val_loss: 0.6939\n",
      "Epoch 3/10\n",
      "\u001b[1m192/192\u001b[0m \u001b[32m━━━━━━━━━━━━━━━━━━━━\u001b[0m\u001b[37m\u001b[0m \u001b[1m1s\u001b[0m 3ms/step - accuracy: 0.5246 - loss: 0.6817 - val_accuracy: 0.4729 - val_loss: 0.6903\n",
      "Epoch 4/10\n",
      "\u001b[1m192/192\u001b[0m \u001b[32m━━━━━━━━━━━━━━━━━━━━\u001b[0m\u001b[37m\u001b[0m \u001b[1m1s\u001b[0m 3ms/step - accuracy: 0.5278 - loss: 0.6811 - val_accuracy: 0.5000 - val_loss: 0.6878\n",
      "Epoch 5/10\n",
      "\u001b[1m192/192\u001b[0m \u001b[32m━━━━━━━━━━━━━━━━━━━━\u001b[0m\u001b[37m\u001b[0m \u001b[1m1s\u001b[0m 3ms/step - accuracy: 0.5347 - loss: 0.6826 - val_accuracy: 0.5354 - val_loss: 0.6860\n",
      "Epoch 6/10\n",
      "\u001b[1m192/192\u001b[0m \u001b[32m━━━━━━━━━━━━━━━━━━━━\u001b[0m\u001b[37m\u001b[0m \u001b[1m1s\u001b[0m 3ms/step - accuracy: 0.5721 - loss: 0.6814 - val_accuracy: 0.5500 - val_loss: 0.6847\n",
      "Epoch 7/10\n",
      "\u001b[1m192/192\u001b[0m \u001b[32m━━━━━━━━━━━━━━━━━━━━\u001b[0m\u001b[37m\u001b[0m \u001b[1m1s\u001b[0m 3ms/step - accuracy: 0.5823 - loss: 0.6801 - val_accuracy: 0.5604 - val_loss: 0.6835\n",
      "Epoch 8/10\n",
      "\u001b[1m192/192\u001b[0m \u001b[32m━━━━━━━━━━━━━━━━━━━━\u001b[0m\u001b[37m\u001b[0m \u001b[1m1s\u001b[0m 4ms/step - accuracy: 0.5969 - loss: 0.6786 - val_accuracy: 0.5688 - val_loss: 0.6825\n",
      "Epoch 9/10\n",
      "\u001b[1m192/192\u001b[0m \u001b[32m━━━━━━━━━━━━━━━━━━━━\u001b[0m\u001b[37m\u001b[0m \u001b[1m1s\u001b[0m 3ms/step - accuracy: 0.5974 - loss: 0.6798 - val_accuracy: 0.5875 - val_loss: 0.6817\n",
      "Epoch 10/10\n",
      "\u001b[1m192/192\u001b[0m \u001b[32m━━━━━━━━━━━━━━━━━━━━\u001b[0m\u001b[37m\u001b[0m \u001b[1m0s\u001b[0m 2ms/step - accuracy: 0.6034 - loss: 0.6784 - val_accuracy: 0.5896 - val_loss: 0.6810\n"
     ]
    },
    {
     "data": {
      "text/plain": [
       "<keras.src.callbacks.history.History at 0x133d6559210>"
      ]
     },
     "execution_count": 79,
     "metadata": {},
     "output_type": "execute_result"
    }
   ],
   "source": [
    "model1.fit(X_train, y_train, batch_size=10, epochs=10, validation_split=0.2)"
   ]
  },
  {
   "cell_type": "code",
   "execution_count": 80,
   "id": "54ccc2b1",
   "metadata": {},
   "outputs": [
    {
     "name": "stdout",
     "output_type": "stream",
     "text": [
      "Epoch 1/10\n",
      "\u001b[1m192/192\u001b[0m \u001b[32m━━━━━━━━━━━━━━━━━━━━\u001b[0m\u001b[37m\u001b[0m \u001b[1m1s\u001b[0m 4ms/step - accuracy: 0.6077 - loss: 0.6775 - val_accuracy: 0.5958 - val_loss: 0.6803\n",
      "Epoch 2/10\n",
      "\u001b[1m192/192\u001b[0m \u001b[32m━━━━━━━━━━━━━━━━━━━━\u001b[0m\u001b[37m\u001b[0m \u001b[1m1s\u001b[0m 4ms/step - accuracy: 0.6333 - loss: 0.6758 - val_accuracy: 0.6021 - val_loss: 0.6796\n",
      "Epoch 3/10\n",
      "\u001b[1m192/192\u001b[0m \u001b[32m━━━━━━━━━━━━━━━━━━━━\u001b[0m\u001b[37m\u001b[0m \u001b[1m1s\u001b[0m 4ms/step - accuracy: 0.6320 - loss: 0.6753 - val_accuracy: 0.6042 - val_loss: 0.6789\n",
      "Epoch 4/10\n",
      "\u001b[1m192/192\u001b[0m \u001b[32m━━━━━━━━━━━━━━━━━━━━\u001b[0m\u001b[37m\u001b[0m \u001b[1m1s\u001b[0m 2ms/step - accuracy: 0.6402 - loss: 0.6757 - val_accuracy: 0.6104 - val_loss: 0.6782\n",
      "Epoch 5/10\n",
      "\u001b[1m192/192\u001b[0m \u001b[32m━━━━━━━━━━━━━━━━━━━━\u001b[0m\u001b[37m\u001b[0m \u001b[1m0s\u001b[0m 2ms/step - accuracy: 0.6368 - loss: 0.6765 - val_accuracy: 0.6146 - val_loss: 0.6777\n",
      "Epoch 6/10\n",
      "\u001b[1m192/192\u001b[0m \u001b[32m━━━━━━━━━━━━━━━━━━━━\u001b[0m\u001b[37m\u001b[0m \u001b[1m1s\u001b[0m 3ms/step - accuracy: 0.6306 - loss: 0.6742 - val_accuracy: 0.6208 - val_loss: 0.6772\n",
      "Epoch 7/10\n",
      "\u001b[1m192/192\u001b[0m \u001b[32m━━━━━━━━━━━━━━━━━━━━\u001b[0m\u001b[37m\u001b[0m \u001b[1m1s\u001b[0m 3ms/step - accuracy: 0.6530 - loss: 0.6737 - val_accuracy: 0.6208 - val_loss: 0.6765\n",
      "Epoch 8/10\n",
      "\u001b[1m192/192\u001b[0m \u001b[32m━━━━━━━━━━━━━━━━━━━━\u001b[0m\u001b[37m\u001b[0m \u001b[1m1s\u001b[0m 4ms/step - accuracy: 0.6563 - loss: 0.6732 - val_accuracy: 0.6292 - val_loss: 0.6759\n",
      "Epoch 9/10\n",
      "\u001b[1m192/192\u001b[0m \u001b[32m━━━━━━━━━━━━━━━━━━━━\u001b[0m\u001b[37m\u001b[0m \u001b[1m1s\u001b[0m 3ms/step - accuracy: 0.6789 - loss: 0.6711 - val_accuracy: 0.6375 - val_loss: 0.6753\n",
      "Epoch 10/10\n",
      "\u001b[1m192/192\u001b[0m \u001b[32m━━━━━━━━━━━━━━━━━━━━\u001b[0m\u001b[37m\u001b[0m \u001b[1m1s\u001b[0m 4ms/step - accuracy: 0.6822 - loss: 0.6708 - val_accuracy: 0.6417 - val_loss: 0.6747\n"
     ]
    }
   ],
   "source": [
    "history = model1.fit(X_train, y_train, batch_size=10, epochs=10, validation_split=0.2)"
   ]
  },
  {
   "cell_type": "markdown",
   "id": "32be5da2",
   "metadata": {},
   "source": [
    "**Internally we use sparse categ cross entr because for categ cross ent OHE in necesssory**"
   ]
  },
  {
   "cell_type": "markdown",
   "id": "6dc4dfb6",
   "metadata": {},
   "source": [
    "### Categorical Cross Entropy:- Encoded as OHE and use Categ Cross Ent"
   ]
  },
  {
   "cell_type": "code",
   "execution_count": 81,
   "id": "d33d865b",
   "metadata": {},
   "outputs": [],
   "source": [
    "from sklearn.preprocessing import OneHotEncoder"
   ]
  },
  {
   "cell_type": "code",
   "execution_count": 82,
   "id": "75f31438",
   "metadata": {},
   "outputs": [],
   "source": [
    "ohe = OneHotEncoder(sparse_output=False)\n",
    "y_trainohe = ohe.fit_transform(y_train.reshape((2400,1)))\n",
    "\n",
    "#To convert 1d array to 2d array, becz OHE reqired 2d array"
   ]
  },
  {
   "cell_type": "code",
   "execution_count": 84,
   "id": "c3a95902",
   "metadata": {},
   "outputs": [
    {
     "data": {
      "text/plain": [
       "(2400, 2)"
      ]
     },
     "execution_count": 84,
     "metadata": {},
     "output_type": "execute_result"
    }
   ],
   "source": [
    "y_trainohe.shape"
   ]
  },
  {
   "cell_type": "code",
   "execution_count": 83,
   "id": "820fd19e",
   "metadata": {},
   "outputs": [
    {
     "data": {
      "text/plain": [
       "array([[1., 0.],\n",
       "       [1., 0.],\n",
       "       [1., 0.],\n",
       "       ...,\n",
       "       [1., 0.],\n",
       "       [0., 1.],\n",
       "       [0., 1.]])"
      ]
     },
     "execution_count": 83,
     "metadata": {},
     "output_type": "execute_result"
    }
   ],
   "source": [
    "y_trainohe"
   ]
  },
  {
   "cell_type": "code",
   "execution_count": 86,
   "id": "06191b21",
   "metadata": {},
   "outputs": [],
   "source": [
    "model2 = Sequential()\n",
    "\n",
    "model2.add(InputLayer(shape=(20,)))\n",
    "model2.add(Dense(units=4, activation='sigmoid', use_bias=True))\n",
    "model2.add(Dense(units=6, activation='sigmoid', use_bias=True))\n",
    "model2.add(Dense(units=2, activation='softmax', use_bias=True))\n",
    "\n",
    "#Output Layer will contain neoron == no of class(k)\n",
    "#There will be two probabality of success and failure"
   ]
  },
  {
   "cell_type": "code",
   "execution_count": 90,
   "id": "1ffbb305",
   "metadata": {},
   "outputs": [],
   "source": [
    "model2.compile(optimizer='sgd', loss ='categorical_crossentropy', metrics=['accuracy'])"
   ]
  },
  {
   "cell_type": "code",
   "execution_count": 91,
   "id": "7121d040",
   "metadata": {},
   "outputs": [
    {
     "name": "stdout",
     "output_type": "stream",
     "text": [
      "Epoch 1/10\n",
      "\u001b[1m192/192\u001b[0m \u001b[32m━━━━━━━━━━━━━━━━━━━━\u001b[0m\u001b[37m\u001b[0m \u001b[1m2s\u001b[0m 6ms/step - accuracy: 0.5008 - loss: 0.7735 - val_accuracy: 0.6417 - val_loss: 0.6806\n",
      "Epoch 2/10\n",
      "\u001b[1m192/192\u001b[0m \u001b[32m━━━━━━━━━━━━━━━━━━━━\u001b[0m\u001b[37m\u001b[0m \u001b[1m1s\u001b[0m 4ms/step - accuracy: 0.6212 - loss: 0.6814 - val_accuracy: 0.5875 - val_loss: 0.6796\n",
      "Epoch 3/10\n",
      "\u001b[1m192/192\u001b[0m \u001b[32m━━━━━━━━━━━━━━━━━━━━\u001b[0m\u001b[37m\u001b[0m \u001b[1m1s\u001b[0m 4ms/step - accuracy: 0.6710 - loss: 0.6766 - val_accuracy: 0.7083 - val_loss: 0.6709\n",
      "Epoch 4/10\n",
      "\u001b[1m192/192\u001b[0m \u001b[32m━━━━━━━━━━━━━━━━━━━━\u001b[0m\u001b[37m\u001b[0m \u001b[1m1s\u001b[0m 4ms/step - accuracy: 0.7216 - loss: 0.6683 - val_accuracy: 0.7583 - val_loss: 0.6618\n",
      "Epoch 5/10\n",
      "\u001b[1m192/192\u001b[0m \u001b[32m━━━━━━━━━━━━━━━━━━━━\u001b[0m\u001b[37m\u001b[0m \u001b[1m1s\u001b[0m 4ms/step - accuracy: 0.7388 - loss: 0.6607 - val_accuracy: 0.7604 - val_loss: 0.6526\n",
      "Epoch 6/10\n",
      "\u001b[1m192/192\u001b[0m \u001b[32m━━━━━━━━━━━━━━━━━━━━\u001b[0m\u001b[37m\u001b[0m \u001b[1m1s\u001b[0m 4ms/step - accuracy: 0.7535 - loss: 0.6514 - val_accuracy: 0.7729 - val_loss: 0.6414\n",
      "Epoch 7/10\n",
      "\u001b[1m192/192\u001b[0m \u001b[32m━━━━━━━━━━━━━━━━━━━━\u001b[0m\u001b[37m\u001b[0m \u001b[1m1s\u001b[0m 4ms/step - accuracy: 0.7630 - loss: 0.6368 - val_accuracy: 0.7833 - val_loss: 0.6259\n",
      "Epoch 8/10\n",
      "\u001b[1m192/192\u001b[0m \u001b[32m━━━━━━━━━━━━━━━━━━━━\u001b[0m\u001b[37m\u001b[0m \u001b[1m1s\u001b[0m 4ms/step - accuracy: 0.7901 - loss: 0.6259 - val_accuracy: 0.8000 - val_loss: 0.6118\n",
      "Epoch 9/10\n",
      "\u001b[1m192/192\u001b[0m \u001b[32m━━━━━━━━━━━━━━━━━━━━\u001b[0m\u001b[37m\u001b[0m \u001b[1m1s\u001b[0m 4ms/step - accuracy: 0.7947 - loss: 0.6084 - val_accuracy: 0.8083 - val_loss: 0.5944\n",
      "Epoch 10/10\n",
      "\u001b[1m192/192\u001b[0m \u001b[32m━━━━━━━━━━━━━━━━━━━━\u001b[0m\u001b[37m\u001b[0m \u001b[1m1s\u001b[0m 4ms/step - accuracy: 0.8016 - loss: 0.5904 - val_accuracy: 0.8167 - val_loss: 0.5757\n"
     ]
    },
    {
     "data": {
      "text/plain": [
       "<keras.src.callbacks.history.History at 0x133d807b990>"
      ]
     },
     "execution_count": 91,
     "metadata": {},
     "output_type": "execute_result"
    }
   ],
   "source": [
    "model2.fit(X_train, y_trainohe, batch_size=10, epochs=10, validation_split=0.2)"
   ]
  },
  {
   "cell_type": "code",
   "execution_count": 96,
   "id": "b63eed34",
   "metadata": {},
   "outputs": [
    {
     "name": "stdout",
     "output_type": "stream",
     "text": [
      "\u001b[1m19/19\u001b[0m \u001b[32m━━━━━━━━━━━━━━━━━━━━\u001b[0m\u001b[37m\u001b[0m \u001b[1m0s\u001b[0m 3ms/step \n"
     ]
    },
    {
     "data": {
      "text/plain": [
       "(600,)"
      ]
     },
     "execution_count": 96,
     "metadata": {},
     "output_type": "execute_result"
    }
   ],
   "source": [
    "np.argmax(model2.predict(X_test),axis=1).shape\n",
    "\n",
    "#to convert 2d to 1d"
   ]
  },
  {
   "cell_type": "code",
   "execution_count": 97,
   "id": "8eabee0a",
   "metadata": {},
   "outputs": [
    {
     "name": "stdout",
     "output_type": "stream",
     "text": [
      "\u001b[1m19/19\u001b[0m \u001b[32m━━━━━━━━━━━━━━━━━━━━\u001b[0m\u001b[37m\u001b[0m \u001b[1m0s\u001b[0m 1ms/step \n"
     ]
    }
   ],
   "source": [
    "pred = np.argmax(model2.predict(X_test),axis=1).shape"
   ]
  },
  {
   "cell_type": "code",
   "execution_count": 98,
   "id": "9e09dcb2",
   "metadata": {},
   "outputs": [
    {
     "ename": "ValueError",
     "evalue": "The truth value of an array with more than one element is ambiguous. Use a.any() or a.all()",
     "output_type": "error",
     "traceback": [
      "\u001b[1;31m---------------------------------------------------------------------------\u001b[0m",
      "\u001b[1;31mValueError\u001b[0m                                Traceback (most recent call last)",
      "Cell \u001b[1;32mIn[98], line 1\u001b[0m\n\u001b[1;32m----> 1\u001b[0m metrics\u001b[38;5;241m.\u001b[39mF1Score(y_test, pred)\n",
      "File \u001b[1;32m~\\anaconda3\\Lib\\site-packages\\keras\\src\\metrics\\f_score_metrics.py:309\u001b[0m, in \u001b[0;36mF1Score.__init__\u001b[1;34m(self, average, threshold, name, dtype)\u001b[0m\n\u001b[0;32m    302\u001b[0m \u001b[38;5;28;01mdef\u001b[39;00m \u001b[38;5;21m__init__\u001b[39m(\n\u001b[0;32m    303\u001b[0m     \u001b[38;5;28mself\u001b[39m,\n\u001b[0;32m    304\u001b[0m     average\u001b[38;5;241m=\u001b[39m\u001b[38;5;28;01mNone\u001b[39;00m,\n\u001b[1;32m   (...)\u001b[0m\n\u001b[0;32m    307\u001b[0m     dtype\u001b[38;5;241m=\u001b[39m\u001b[38;5;28;01mNone\u001b[39;00m,\n\u001b[0;32m    308\u001b[0m ):\n\u001b[1;32m--> 309\u001b[0m     \u001b[38;5;28msuper\u001b[39m()\u001b[38;5;241m.\u001b[39m\u001b[38;5;21m__init__\u001b[39m(\n\u001b[0;32m    310\u001b[0m         average\u001b[38;5;241m=\u001b[39maverage,\n\u001b[0;32m    311\u001b[0m         beta\u001b[38;5;241m=\u001b[39m\u001b[38;5;241m1.0\u001b[39m,\n\u001b[0;32m    312\u001b[0m         threshold\u001b[38;5;241m=\u001b[39mthreshold,\n\u001b[0;32m    313\u001b[0m         name\u001b[38;5;241m=\u001b[39mname,\n\u001b[0;32m    314\u001b[0m         dtype\u001b[38;5;241m=\u001b[39mdtype,\n\u001b[0;32m    315\u001b[0m     )\n",
      "File \u001b[1;32m~\\anaconda3\\Lib\\site-packages\\keras\\src\\metrics\\f_score_metrics.py:78\u001b[0m, in \u001b[0;36mFBetaScore.__init__\u001b[1;34m(self, average, beta, threshold, name, dtype)\u001b[0m\n\u001b[0;32m     75\u001b[0m \u001b[38;5;66;03m# Metric should be maximized during optimization.\u001b[39;00m\n\u001b[0;32m     76\u001b[0m \u001b[38;5;28mself\u001b[39m\u001b[38;5;241m.\u001b[39m_direction \u001b[38;5;241m=\u001b[39m \u001b[38;5;124m\"\u001b[39m\u001b[38;5;124mup\u001b[39m\u001b[38;5;124m\"\u001b[39m\n\u001b[1;32m---> 78\u001b[0m \u001b[38;5;28;01mif\u001b[39;00m average \u001b[38;5;129;01mnot\u001b[39;00m \u001b[38;5;129;01min\u001b[39;00m (\u001b[38;5;28;01mNone\u001b[39;00m, \u001b[38;5;124m\"\u001b[39m\u001b[38;5;124mmicro\u001b[39m\u001b[38;5;124m\"\u001b[39m, \u001b[38;5;124m\"\u001b[39m\u001b[38;5;124mmacro\u001b[39m\u001b[38;5;124m\"\u001b[39m, \u001b[38;5;124m\"\u001b[39m\u001b[38;5;124mweighted\u001b[39m\u001b[38;5;124m\"\u001b[39m):\n\u001b[0;32m     79\u001b[0m     \u001b[38;5;28;01mraise\u001b[39;00m \u001b[38;5;167;01mValueError\u001b[39;00m(\n\u001b[0;32m     80\u001b[0m         \u001b[38;5;124m\"\u001b[39m\u001b[38;5;124mInvalid `average` argument value. Expected one of: \u001b[39m\u001b[38;5;124m\"\u001b[39m\n\u001b[0;32m     81\u001b[0m         \u001b[38;5;124m\"\u001b[39m\u001b[38;5;124m{\u001b[39m\u001b[38;5;124mNone, \u001b[39m\u001b[38;5;124m'\u001b[39m\u001b[38;5;124mmicro\u001b[39m\u001b[38;5;124m'\u001b[39m\u001b[38;5;124m, \u001b[39m\u001b[38;5;124m'\u001b[39m\u001b[38;5;124mmacro\u001b[39m\u001b[38;5;124m'\u001b[39m\u001b[38;5;124m, \u001b[39m\u001b[38;5;124m'\u001b[39m\u001b[38;5;124mweighted\u001b[39m\u001b[38;5;124m'\u001b[39m\u001b[38;5;124m}. \u001b[39m\u001b[38;5;124m\"\u001b[39m\n\u001b[0;32m     82\u001b[0m         \u001b[38;5;124mf\u001b[39m\u001b[38;5;124m\"\u001b[39m\u001b[38;5;124mReceived: average=\u001b[39m\u001b[38;5;132;01m{\u001b[39;00maverage\u001b[38;5;132;01m}\u001b[39;00m\u001b[38;5;124m\"\u001b[39m\n\u001b[0;32m     83\u001b[0m     )\n\u001b[0;32m     85\u001b[0m \u001b[38;5;28;01mif\u001b[39;00m \u001b[38;5;129;01mnot\u001b[39;00m \u001b[38;5;28misinstance\u001b[39m(beta, \u001b[38;5;28mfloat\u001b[39m):\n",
      "\u001b[1;31mValueError\u001b[0m: The truth value of an array with more than one element is ambiguous. Use a.any() or a.all()"
     ]
    }
   ],
   "source": [
    "metrics.F1Score(y_test, pred)"
   ]
  },
  {
   "cell_type": "code",
   "execution_count": null,
   "id": "4487ecc8",
   "metadata": {},
   "outputs": [],
   "source": []
  }
 ],
 "metadata": {
  "kernelspec": {
   "display_name": "Python 3 (ipykernel)",
   "language": "python",
   "name": "python3"
  },
  "language_info": {
   "codemirror_mode": {
    "name": "ipython",
    "version": 3
   },
   "file_extension": ".py",
   "mimetype": "text/x-python",
   "name": "python",
   "nbconvert_exporter": "python",
   "pygments_lexer": "ipython3",
   "version": "3.11.4"
  }
 },
 "nbformat": 4,
 "nbformat_minor": 5
}
