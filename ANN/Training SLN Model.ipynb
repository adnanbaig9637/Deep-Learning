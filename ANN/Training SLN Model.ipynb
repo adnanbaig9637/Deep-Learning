{
 "cells": [
  {
   "cell_type": "code",
   "execution_count": 5,
   "id": "b39f13bf",
   "metadata": {},
   "outputs": [],
   "source": [
    "import keras\n",
    "import tensorflow\n",
    "\n",
    "from keras.models import Sequential\n",
    "from keras.layers import InputLayer\n",
    "\n",
    "from sklearn.datasets import make_regression"
   ]
  },
  {
   "cell_type": "code",
   "execution_count": 6,
   "id": "5c99cf58",
   "metadata": {},
   "outputs": [
    {
     "data": {
      "text/plain": [
       "(array([[-1.01489621,  0.14707455, -0.36483937, -0.16713865,  0.97888314],\n",
       "        [ 1.23303195,  0.38552242, -2.30004324, -0.62328703, -0.84293425],\n",
       "        [ 0.61574607, -0.94157246, -1.27033512, -0.15835405, -2.70679358],\n",
       "        ...,\n",
       "        [-1.37786741,  0.35461949,  1.12430013, -0.68124733, -0.14076768],\n",
       "        [ 2.42854103, -0.18661568,  0.10225043, -0.55212655, -0.2456644 ],\n",
       "        [-0.32556442, -0.66438071,  1.14602742, -0.1606917 , -0.21546189]]),\n",
       " array([ -48.82195002,  -36.87120256,  -97.12373877, ..., -120.0390849 ,\n",
       "         105.56943343,  -23.97288171]))"
      ]
     },
     "execution_count": 6,
     "metadata": {},
     "output_type": "execute_result"
    }
   ],
   "source": [
    "make_regression(n_samples=2000 , n_features=5)"
   ]
  },
  {
   "cell_type": "code",
   "execution_count": null,
   "id": "37145dfb",
   "metadata": {},
   "outputs": [],
   "source": []
  }
 ],
 "metadata": {
  "kernelspec": {
   "display_name": "Python 3 (ipykernel)",
   "language": "python",
   "name": "python3"
  },
  "language_info": {
   "codemirror_mode": {
    "name": "ipython",
    "version": 3
   },
   "file_extension": ".py",
   "mimetype": "text/x-python",
   "name": "python",
   "nbconvert_exporter": "python",
   "pygments_lexer": "ipython3",
   "version": "3.11.4"
  }
 },
 "nbformat": 4,
 "nbformat_minor": 5
}
